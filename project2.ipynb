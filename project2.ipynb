{
  "cells": [
    {
      "cell_type": "markdown",
      "id": "55650764",
      "metadata": {
        "id": "55650764"
      },
      "source": [
        "# <ins>Convolutional Neural Networks (CNNs) for Image Classification, and comparison of CPU vs GPU parallel processes</ins>"
      ]
    },
    {
      "cell_type": "code",
      "execution_count": 49,
      "id": "e4b7d04d",
      "metadata": {
        "colab": {
          "base_uri": "https://localhost:8080/",
          "height": 17
        },
        "id": "e4b7d04d",
        "outputId": "48a116a6-58ff-4cad-99d3-2755a3be1277"
      },
      "outputs": [
        {
          "output_type": "display_data",
          "data": {
            "text/plain": [
              "<IPython.core.display.Javascript object>"
            ],
            "application/javascript": [
              "MathJax.Hub.Config({\n",
              "    TeX: { equationNumbers: { autoNumber: \"AMS\" } }\n",
              "});\n"
            ]
          },
          "metadata": {}
        }
      ],
      "source": [
        "%%javascript\n",
        "MathJax.Hub.Config({\n",
        "    TeX: { equationNumbers: { autoNumber: \"AMS\" } }\n",
        "});"
      ]
    },
    {
      "cell_type": "code",
      "execution_count": 50,
      "id": "7c31e3b5",
      "metadata": {
        "colab": {
          "base_uri": "https://localhost:8080/",
          "height": 17
        },
        "id": "7c31e3b5",
        "outputId": "fc9ec476-c2bf-4cf3-aed3-89023b547440"
      },
      "outputs": [
        {
          "output_type": "display_data",
          "data": {
            "text/plain": [
              "<IPython.core.display.Javascript object>"
            ],
            "application/javascript": [
              "MathJax.Hub.Queue(\n",
              "  [\"resetEquationNumbers\", MathJax.InputJax.TeX],\n",
              "  [\"PreProcess\", MathJax.Hub],\n",
              "  [\"Reprocess\", MathJax.Hub]\n",
              ");\n"
            ]
          },
          "metadata": {}
        }
      ],
      "source": [
        "%%javascript\n",
        "MathJax.Hub.Queue(\n",
        "  [\"resetEquationNumbers\", MathJax.InputJax.TeX],\n",
        "  [\"PreProcess\", MathJax.Hub],\n",
        "  [\"Reprocess\", MathJax.Hub]\n",
        ");"
      ]
    },
    {
      "cell_type": "markdown",
      "id": "3bd0e360",
      "metadata": {
        "id": "3bd0e360"
      },
      "source": [
        "## <ins>Introduction</ins>\n",
        "\n",
        "In this report, we train a convolutional neural network (CNN) for image classification. An appropriate dataset was chosen, and the CNN was trained to classify images from this dataset. Initially, we train a very simple model which has an test accuracy of about 60%. Next, we improve the model, and see the accuracy improve to around 70%. Finally, we implement a smarter, and more complex model called ResNet. This increases the accuracy to over 80%. That is, where the initial 'simple' model fell short, we explored multiple new implimentations. We also examine the mathematics behind CNNs.\n",
        "\n",
        "The question we aim to look at is: Can we use the parallel computation processes in GPUs to increase the training speed of convolutional neural networks, allowing us to train more complex (and therefore more accurarte) models?\n",
        "\n",
        "We tackle this problem in depth, by using many examples. What we find is that the answer is yes. We compare the runtime of the model when varying parameters that lead to increased computation. The operations involved in CNNs are mainly matrix (or tensor) operations; therefore, we perform experiments to see how the GPU - due to its architure of allowing many parallel processes - fares better than the CPU at these operations.\n",
        "\n",
        "In this project, we also delve deeply into how the convolutional neural works, and we also inspect the mathematics behind some of the functions and operations involed. We use the package PyTorch - a vital python tool for performing machine learning."
      ]
    },
    {
      "cell_type": "markdown",
      "id": "03558f00",
      "metadata": {
        "id": "03558f00"
      },
      "source": [
        "## <ins>CIFAR-10 – the dataset</ins>\n",
        "\n",
        "In this project, we used the CIFAR-10 dataset. This dataset is comprised of 60,000 colour images — each image belongs uniquely to one of ten classes; there is no crossover of classes, meaning that an image can only belong to one class. There are 6,000 images in each class. The data are split into a training set of size 50,000, and a test/validation set of 10,000 images. The classes of the dataset are 'plane', 'car', 'bird', ‘cat', 'deer', 'dog', 'frog', 'horse', 'ship', ‘truck’. The individual images themselves are of size 3x32x32. This means that there are 3 RGB colour channels, and the images have a dimension of 32x32 pixels.\n",
        "\n",
        "Data Source: https://www.cs.toronto.edu/~kriz/cifar.html\n",
        "\n",
        "Initially, we shall take the following steps:\n",
        "\n",
        "1. Load the data, inspect it, and normalise it\n",
        "2. Create/define a convolutional neural network\n",
        "3. Define a loss function\n",
        "4. Train/optimise the CNN on the training set\n",
        "5. Test the accuracy of the CNN on the validation set\n",
        "\n",
        "The code we shall use is inspired by the [PyTorch tutorial](https://pytorch.org/tutorials/beginner/blitz/cifar10_tutorial.html) on how to train an image classifier. We diverge slightly from this program, and discuss ways of optimising the model."
      ]
    },
    {
      "cell_type": "markdown",
      "id": "5131a34d",
      "metadata": {
        "id": "5131a34d"
      },
      "source": [
        "### Some key words:\n",
        "\n",
        "1. <strong>Epoch</strong> – The number of iterations the algorithm completes over the entire training dataset.\n",
        "2. <strong>Batch size</strong> – The number of samples to be propagated through the network.\n",
        "3. <strong>Learning rate (`lr`)</strong> – A parameter that give a scale of how much the model's weights/parameters should be updated.\n",
        "4. <strong>Cost Function/Loss Function</strong> – A function is used to calculate the cost; the cost is defined to be the difference between the predicted value and the true value.\n",
        "5. <strong>Weights/biases</strong> – Trainable parameters in the model."
      ]
    },
    {
      "cell_type": "markdown",
      "id": "548863ae",
      "metadata": {
        "id": "548863ae"
      },
      "source": [
        "### Overview of how the CNN works $[4]$\n",
        "\n",
        "\n",
        "1. A CCN takes as an input the raw data of an image, in tensor form. This, in the case of the CIFAR-10 dataset, has dimensions (3, 32, 32).\n",
        "\n",
        "2. Convolution: during this stage we perform the operation of convolution using kernels. When we train a CNN, we start with random weights in the filters — small matrices we can train for feature extraction of specific features in the image. When the model is exposed to examples, it tries to learn which are the good features that allow it to discern the difference between the target classes. Convolutions are specially invariant, because we slide them across the image. Say we have a filter that is very good at detecting eyes. It doesn’t matter where the eye is in the image, since the filter slides across the entire image. Then in the resulting feature map, we shall get a high activation if the model finds an eye. Many convolutional layers are then placed in succession, which increases the receptive field of the model.\n",
        "\n",
        "3. An activation function called ReLU $[10]$ (Rectified Linear Unit) is used after each convolution to introduce non-linearity. This allows the model to learn non-linear patterns. Specifically, the function gives a value of zero to all go the negative pixels values within the feature map.\n",
        "\n",
        "4. Pooling: this is a process of dimension reduction; in the next layer of the network, a lower resolution input image undergoes convolution. This had the benefit of preventing over-fitting of the model, as well as reducing the computational intensity.\n",
        "\n",
        "5. Fully connected layer: after a process of several convolutional layers and pooling layers, the feature maps (which are two-dimensional), are flattened into a one-dimensional vector. The name fully-connected implies that each neurone in the subsequent layer is connected to each neurone in the previous layer.\n",
        "\n",
        "6. Softmax activation is applied in the final layer so that the output of the model is a distribution of probabilities.\n",
        "\n",
        "7. Training: a loss function is used to optimise the model — we discuss this in detail below. Essentially, is measured the error in the model’s predictions. Via a method know as back propagation, the error is propagated backwards, through the CNN, which then allows the model to adjust the weights in relation to this error value. The Stochastic gradient descent is used to minimise the loss function by parameter adjustment.\n",
        "\n",
        "8. The model goes through this process of forward pass, backward pass, and optimisation iteratively n times (where n is known as the number of epochs) until the model reaches convergence.\n"
      ]
    },
    {
      "cell_type": "markdown",
      "id": "a72cafef",
      "metadata": {
        "id": "a72cafef"
      },
      "source": [
        "## <ins>Loss function</ins>\n",
        "\n",
        "Loss functions are an integral part of machine learning, and deep learning; they provide a means to measure how well a dataset is modelled by a given algorithm. Predictions that are more inaccurate result in higher outputs of the loss function. The loss function is a vital tool for guiding the optimisation of parameters in the model. More specifically, the loss function measures the difference between the values that the model predicts, and the ground truths, i.e. the bona fide values we should be getting. We wish to minimise this loss function — that is, increase the accuracy — which allows us improve, and optimise, the model.\n",
        "\n",
        "### Defining a loss function — cross-entropy\n",
        "\n",
        "\n",
        "Before we attempt to explain this concept, let us embark on a brief journey explaining information theory. First introduced by Claude Shannon, in his seminal 1948 work ‘A theory of communication,’ $[5]$ entropy is ‘the average average number of bits required to represent or transmit an event drawn from the probability distribution for the random variable.’ The entropy gives tells is how much uncertainty an event has.\n",
        "\n",
        "The cross-entropy, $\\mathrm{H}$, is defined to be the summation of the probability multiplied by the log-probability for all classes in a distribution. For a true probability distribution $\\mathrm{P^{*}}$, the a model's predicted distribution $\\mathrm{P}$, the cross-entropy is expressed as a sum over each class, $i$, as follows\n",
        "\n",
        "$$\n",
        "\\begin{equation}\n",
        "\\begin{aligned}\n",
        "\\mathrm{H}(\\mathrm{P^{*}} \\mid \\mathrm{P}) = -\\sum_{i}^{}\\mathrm{P^{*}}(i)\\log{\\mathrm{P}(i)} .\n",
        "\\end{aligned}\n",
        "\\end{equation}\n",
        "$$\n",
        "\n",
        "\n",
        "In the field of machine learning, and data science, the cross-entropy is related to the Kullback-Leibler (KL) Divergence [$[6]$](https://hanj.cs.illinois.edu/cs412/bk3/KL-divergence.pdf) — this is a metric describing the similarity, or distance, between two distributions. In reality, the predicted values of a model will be different from the true values; we say they ‘diverge.’ The sum of the entropy and KL divergence gives the cross-entropy.\n",
        "\n",
        "Let us consider the example of image classification. We want a network that predicts in which class a given input image, $x_i$, belongs to; say there are ten fixed classes. Assume that we have a non-linear model, parameterised by weights, $\\theta$, that outputs a prediction for the class of the input; this output is usually a number that directly maps to a given class label, for example in a dictionary. A natural output for a model is an entire probability distribution. For the CIFAR-10 dataset, there are 10 classes. Therefore, as an output, the model will have ten probabilities corresponding to each class label. A higher probability associated with a given class indicates the model has determined that the input image more likely belongs to the corresponding class. This introduces a notion of uncertainty.\n",
        "\n",
        "So, we have an input image $x_i$, a predicted class distribution $\\mathrm{P}(y \\mid x_i; \\theta)$ for classes $y$, and an assumed true class distribution $\\mathrm{P^{*}}(y \\mid x_i)$. We can use this true distribution in training to optimise the parameters theta of the model, aiming to match the model distribution to the true distribution as closely as possible. Since the KL divergence captures the distance between model distribution and the true distribution, an intuitive approach is to create a loss function which minimises the KL divergence.\n",
        "\n",
        "The KL divergence is defined by\n",
        "\n",
        "\n",
        "$$\n",
        "\\begin{equation}\n",
        "\\begin{aligned}\n",
        "  \\mathrm{D_{KL}}(\\mathrm{P^{*}} \\mid \\mid \\mathrm{P}) &= \\sum_{y}^{} \\mathrm{P^{*}}(y \\mid x_i) \\log \\left( \\frac{\\mathrm{P^{*}}(y \\mid x_i)}{\\mathrm{P}(y \\mid x_i; \\theta)} \\right) \\\\\n",
        "  & = \\sum_{y}^{} \\mathrm{P^{*}}(y \\mid x_i) \\left[ \\log{\\mathrm{P^{*}}(y \\mid x_i)}-\\log{\\mathrm{P}(y \\mid x_i; \\theta)} \\right] \\\\\n",
        "  & = \\sum_{y}^{} \\mathrm{P^{*}}(y \\mid x_i)\\log{\\mathrm{P^{*}}(y \\mid x_i)}-\\sum_{y}^{}\\mathrm{P^{*}}(y \\mid x_i)\\log{\\mathrm{P}(y \\mid x_i; \\theta)} .\n",
        "\\end{aligned}\n",
        "\\end{equation}\n",
        "$$\n",
        "\n",
        "Note that, on the third line of $(2)$, the first term is idependent of $\\theta$. Indeed, this is the entropy of the label distribution. Therefore, minimising $\\mathrm{D_{KL}}(\\mathrm{P^{*}} \\mid \\mid \\mathrm{P})$ with respect to $\\theta$ corresponds to minimising just the second term. Hence, we have\n",
        "\n",
        "$$\n",
        "\\begin{equation}\n",
        "\\underset{\\theta}{\\text{arg min }} \\mathrm{D_{KL}}(\\mathrm{P^{*}} \\mid \\mid \\mathrm{P}) \\equiv\n",
        "\\underset{\\theta}{\\text{arg min }}\\left(-\\sum_{y}^{}\\mathrm{P^{*}}(y \\mid x_i)\\log{\\mathrm{P}(y \\mid x_i; \\theta)}\\right) .\n",
        "\\end{equation}\n",
        "$$\n",
        "\n",
        "Minimising the cross-entropy loss is eqivalent to minimising the KL divergence. Since the cross-entropy loss has a simpler form, it is the standard choice of loss function in classifiction.\n",
        "\n",
        "Note, if we are claiming to model a probability distribution, it is important to make sure that the output of the model is indeed a bona fide distribution. Namely, we must have that the probabilties sum to 1, and each of the probability values must be between 0 and 1. An activation function at the end of neural network (typicall [softmax](https://www.analyticsvidhya.com/blog/2021/04/introduction-to-softmax-for-neural-network/#:~:text=Softmax%20ensures%20that%20the%20final,class%20of%20the%20input%20image.)) normalises the scores into a valid probability distribution, converting logits into probabilities.\n",
        "\n",
        "PyTorch does not automatically apply the softmax function. The function can have issues relating to [numerical stability](https://stackoverflow.com/questions/42599498/numerically-stable-softmax) -- issues we want to avoid as much as possible. A fix could be using the log-softmax function, [`nn.LogSoftmax()`](https://pytorch.org/docs/stable/generated/torch.nn.LogSoftmax.html#torch.nn.LogSoftmax), but this is slow, expesially when using the negative log likelihood loss function.  \n",
        "\n",
        "Especially when we are using Negative Log Likelihood as a loss function, [`nn.NLLLoss()`](https://pytorch.org/docs/stable/generated/torch.nn.NLLLoss.html#torch.nn.NLLLoss). Note that the derivative of (log-)softmax+NLLL is quite [mathematically simple](https://ljvmiranda921.github.io/notebook/2017/08/13/softmax-and-the-negative-log-likelihood/). Therefore, we can combine into a single class [`torch.nn.CrossEntropyLoss()`](https://pytorch.org/docs/stable/generated/torch.nn.CrossEntropyLoss.html#torch.nn.CrossEntropyLoss) the functions `nn.LogSoftmax()` and `nn.NLLLoss()`. This is only applied to the final layer in the CNN."
      ]
    },
    {
      "cell_type": "markdown",
      "id": "dc27f2e4",
      "metadata": {
        "id": "dc27f2e4"
      },
      "source": [
        "### Stochastic gradient descent (SGD)\n",
        "\n",
        "\n",
        "In machine learning algorithms, we often wish to minimise the loss function, which corresponds to increasing the accuracy of the model. If we are able to tune the parameters (i.e. the weights) of a model in such a way that reduces the value of the loss function, we can optimise the model. What we wish to do is find a way of systematically, and iteratively, updating these parameter values such that the total-loss function value decreases. We may image this total-loss function landscape to consist of many peaks and troughs (or valleys) — our aim is to reach the deepest valley (ideally globally), i.e., the minimum $[1]$.\n",
        "\n",
        "SGD introduces randomness into the process of parameter optimisation; SGD chooses at random a particular data point, or a small batch of data points. Them, the algorithm will compute the gradient, iteratively updating the value of the weights of the model. After iterating over the entire training set, the weights of the model will converge to values which minimise the loss function. One of the parameters of the SGD algorithm is the learning rate. Note that if this value is too high, the model may converge too fast — this is not a good thing, since the parameters of the model may not be well optimised. Conversely, a learning rate that is too slow can reduce the model training speed. Algorithms exist that vary the learning rate. During training, the algorithm Adam $[2]$ adjusts the learning rate for each weight. We see its use in ResNet at the end."
      ]
    },
    {
      "cell_type": "code",
      "execution_count": 51,
      "id": "1134e365",
      "metadata": {
        "id": "1134e365"
      },
      "outputs": [],
      "source": [
        "import torch\n",
        "import torchvision\n",
        "import torchvision.transforms as transforms\n",
        "import time\n",
        "import numpy as np\n",
        "import matplotlib.pyplot as plt\n",
        "import torch.nn as nn\n",
        "import torch.nn.functional as F\n",
        "import torch.optim as optim"
      ]
    },
    {
      "cell_type": "code",
      "execution_count": 52,
      "id": "c083e48f",
      "metadata": {
        "colab": {
          "base_uri": "https://localhost:8080/"
        },
        "id": "c083e48f",
        "outputId": "29be4738-f442-42e7-e4e8-1979a7c26056"
      },
      "outputs": [
        {
          "output_type": "stream",
          "name": "stdout",
          "text": [
            "Files already downloaded and verified\n",
            "Files already downloaded and verified\n"
          ]
        }
      ],
      "source": [
        "# We transform the dataset to tensors, so we have tensor images to train the model; we also normalize these data\n",
        "# so that the values in the tensors are in the range [-1,1].\n",
        "transform = transforms.Compose(\n",
        "    [transforms.ToTensor(),\n",
        "     transforms.Normalize((0.5, 0.5, 0.5), (0.5, 0.5, 0.5))\n",
        "    ])\n",
        "\n",
        "# Split data into batches of 4 -- these go into the neural network in small batches to make the computation\n",
        "# faster.\n",
        "batch_size = 4\n",
        "\n",
        "train_data = torchvision.datasets.CIFAR10(root='./data', train=True,\n",
        "                                        download=True, transform=transform)\n",
        "train_dataloader = torch.utils.data.DataLoader(train_data, batch_size=batch_size,\n",
        "                                          shuffle=True, num_workers=2)\n",
        "\n",
        "test_data = torchvision.datasets.CIFAR10(root='./data', train=False,\n",
        "                                       download=True, transform=transform)\n",
        "val_dataloader = torch.utils.data.DataLoader(test_data, batch_size=batch_size,\n",
        "                                         shuffle=False, num_workers=2)\n",
        "\n",
        "classes = train_data.classes"
      ]
    },
    {
      "cell_type": "markdown",
      "id": "1365861b",
      "metadata": {
        "id": "1365861b"
      },
      "source": [
        "### Let us inspect the data"
      ]
    },
    {
      "cell_type": "code",
      "execution_count": null,
      "id": "e9098035",
      "metadata": {
        "colab": {
          "base_uri": "https://localhost:8080/",
          "height": 211
        },
        "id": "e9098035",
        "outputId": "8c659a35-1739-4c61-d6cc-1a26784024ee"
      },
      "outputs": [
        {
          "output_type": "display_data",
          "data": {
            "text/plain": [
              "<Figure size 640x480 with 1 Axes>"
            ],
            "image/png": "[encoded data removed]"
          },
          "metadata": {}
        },
        {
          "output_type": "stream",
          "name": "stdout",
          "text": [
            "truck automobile bird  cat  \n"
          ]
        }
      ],
      "source": [
        "# Functions to show an image\n",
        "def imshow(img):\n",
        "    img = img / 2 + 0.5     # unnormalize\n",
        "    npimg = img.numpy()\n",
        "    plt.imshow(np.transpose(npimg, (1, 2, 0)))\n",
        "    plt.show()\n",
        "\n",
        "# Get some random training images\n",
        "dataiter = iter(train_dataloader)\n",
        "images, labels = next(dataiter)\n",
        "\n",
        "# Show images\n",
        "imshow(torchvision.utils.make_grid(images))\n",
        "# Print labels\n",
        "print(' '.join(f'{classes[labels[j]]:5s}' for j in range(batch_size)))"
      ]
    },
    {
      "cell_type": "code",
      "execution_count": null,
      "id": "9ce3590a",
      "metadata": {
        "colab": {
          "base_uri": "https://localhost:8080/",
          "height": 466
        },
        "id": "9ce3590a",
        "outputId": "d123ab19-abaf-4946-e8d9-9a605610a20c"
      },
      "outputs": [
        {
          "output_type": "display_data",
          "data": {
            "text/plain": [
              "<Figure size 640x480 with 1 Axes>"
            ],
            "image/png": "[encoded data removed]"
          },
          "metadata": {}
        },
        {
          "output_type": "stream",
          "name": "stdout",
          "text": [
            "torch.Size([3, 32, 32])\n",
            "torch.Size([4, 3, 32, 32])\n"
          ]
        }
      ],
      "source": [
        "# Let us take a single image from the dataset, and see how it's represented as a tensor -- this is how the\n",
        "# computer 'sees' the image.\n",
        "\n",
        "# Take the first image from above\n",
        "image0 = images[0]\n",
        "\n",
        "imshow(image0)\n",
        "\n",
        "# The resolution is 32x32, and there are 3 RGB channels\n",
        "print(image0.shape)\n",
        "\n",
        "# We pass the data into the model in batch sizes of 4, in a tensor form\n",
        "print(images.shape)"
      ]
    },
    {
      "cell_type": "code",
      "execution_count": null,
      "id": "c5e8d3fb",
      "metadata": {
        "colab": {
          "base_uri": "https://localhost:8080/"
        },
        "id": "c5e8d3fb",
        "outputId": "1bf74970-b9a3-4c3a-db1c-65c54e967ea7"
      },
      "outputs": [
        {
          "output_type": "stream",
          "name": "stdout",
          "text": [
            "tensor([[[ 0.9843,  0.9529,  0.9529,  ...,  0.8118,  0.8118,  0.8353],\n",
            "         [ 0.9686,  0.8980,  0.8824,  ...,  0.8353,  0.8196,  0.8510],\n",
            "         [ 0.7333,  0.6863,  0.6941,  ...,  0.8196,  0.8118,  0.8431],\n",
            "         ...,\n",
            "         [ 1.0000,  0.9529,  0.9137,  ..., -0.0745,  0.1529,  0.3725],\n",
            "         [ 1.0000,  0.9922,  1.0000,  ..., -0.1843,  0.1765,  0.4039],\n",
            "         [ 1.0000,  0.9843,  0.9922,  ...,  0.1451,  0.2706,  0.4980]],\n",
            "\n",
            "        [[ 0.9765,  0.9451,  0.9451,  ...,  0.8118,  0.8118,  0.8353],\n",
            "         [ 0.9608,  0.8902,  0.8745,  ...,  0.8353,  0.8196,  0.8510],\n",
            "         [ 0.7176,  0.6706,  0.6706,  ...,  0.8196,  0.8118,  0.8431],\n",
            "         ...,\n",
            "         [ 1.0000,  0.9059,  0.8353,  ..., -0.1137,  0.0902,  0.3176],\n",
            "         [ 1.0000,  0.9765,  0.9765,  ..., -0.2549,  0.0745,  0.3176],\n",
            "         [ 1.0000,  0.9843,  0.9843,  ...,  0.0588,  0.1608,  0.4118]],\n",
            "\n",
            "        [[ 0.9451,  0.9137,  0.9137,  ...,  0.8118,  0.8118,  0.8353],\n",
            "         [ 0.9216,  0.8510,  0.8353,  ...,  0.8353,  0.8196,  0.8510],\n",
            "         [ 0.6706,  0.6314,  0.6314,  ...,  0.8196,  0.8118,  0.8431],\n",
            "         ...,\n",
            "         [ 1.0000,  0.9216,  0.8431,  ..., -0.2392, -0.0902,  0.0980],\n",
            "         [ 1.0000,  0.9843,  0.9843,  ..., -0.3569, -0.0353,  0.2000],\n",
            "         [ 1.0000,  0.9843,  0.9843,  ..., -0.0196,  0.0902,  0.3490]]])\n"
          ]
        }
      ],
      "source": [
        "# Image representation in array/tensor form -- this is how the computer 'sees' each image\n",
        "\n",
        "print(image0)"
      ]
    },
    {
      "cell_type": "markdown",
      "id": "05b4aded",
      "metadata": {
        "id": "05b4aded"
      },
      "source": [
        "Below, we can see that there each equal numbers of datapoints in each class, so there is no need for any kind of stratified sampling, or oversampling, to balance the class sizes. Furthermore, as we know from the source, there are no missing values in this dataset. This makes our task simpler. In a real-world scenario, we are likely to encounter missing data, as well as imbalanced classes. Various methods, such as data imputation, and oversampling to balance the classes, can help to improve the training of a classification model."
      ]
    },
    {
      "cell_type": "code",
      "execution_count": null,
      "id": "c20123fa",
      "metadata": {
        "colab": {
          "base_uri": "https://localhost:8080/",
          "height": 452
        },
        "id": "c20123fa",
        "outputId": "657e2f6d-2508-4268-81a3-489543b09809"
      },
      "outputs": [
        {
          "output_type": "display_data",
          "data": {
            "text/plain": [
              "<Figure size 640x480 with 1 Axes>"
            ],
            "image/png": "[encoded data removed]"
          },
          "metadata": {}
        }
      ],
      "source": [
        "import tensorflow as tf\n",
        "from tensorflow.keras.datasets import cifar10\n",
        "(X_train, y_train), (X_test, y_test) = cifar10.load_data()\n",
        "\n",
        "class0, counts = np.unique(y_train, return_counts=True)\n",
        "plt.barh(classes, counts)\n",
        "plt.title('Class distribution in training set')\n",
        "\n",
        "class0, counts = np.unique(y_test, return_counts=True)\n",
        "plt.barh(classes, counts)\n",
        "plt.title('Class distribution in testing set')\n",
        "plt.show()"
      ]
    },
    {
      "cell_type": "markdown",
      "id": "2bab10e2",
      "metadata": {
        "id": "2bab10e2"
      },
      "source": [
        "### Creating the CNN"
      ]
    },
    {
      "cell_type": "code",
      "execution_count": null,
      "id": "13d11c23",
      "metadata": {
        "colab": {
          "base_uri": "https://localhost:8080/"
        },
        "id": "13d11c23",
        "outputId": "07657c83-03ce-4a33-d437-5af461be6bdd"
      },
      "outputs": [
        {
          "output_type": "stream",
          "name": "stdout",
          "text": [
            "Net(\n",
            "  (conv1): Conv2d(3, 8, kernel_size=(5, 5), stride=(1, 1))\n",
            "  (pool): MaxPool2d(kernel_size=2, stride=2, padding=0, dilation=1, ceil_mode=False)\n",
            "  (conv2): Conv2d(8, 16, kernel_size=(5, 5), stride=(1, 1))\n",
            "  (fc1): Linear(in_features=400, out_features=128, bias=True)\n",
            "  (fc2): Linear(in_features=128, out_features=64, bias=True)\n",
            "  (fc3): Linear(in_features=64, out_features=10, bias=True)\n",
            ")\n"
          ]
        }
      ],
      "source": [
        "l1 = 8\n",
        "l2 = 16\n",
        "\n",
        "class Net(nn.Module):\n",
        "\n",
        "    def __init__(self):\n",
        "        super().__init__()\n",
        "        # 2D layer, since we have 2D images, with 3 input channels and l1 output\n",
        "        # channels. This takes the images (which are in RGB space) and transforms\n",
        "        # them into 6-channel feature maps. We then set a kernel size 5.\n",
        "        self.conv1 = nn.Conv2d(3, l1, 5)\n",
        "        # Create a pooling layer – this takes an image and downsizes it with\n",
        "        # respect to the kernel size and stride. I.e., a kernel size of 2, and a\n",
        "        # stride of 2. For each 2x2 patch, we take the maximum pixel value for\n",
        "        # that patch. In essence, we downsize the image to half the resoltion\n",
        "        # and we take the maximum activation for each of the feature maps at\n",
        "        # each of the local positions.\n",
        "        self.pool = nn.MaxPool2d(2, 2)\n",
        "        # Second convolutional layer\n",
        "        self.conv2 = nn.Conv2d(l1, l2, 5)\n",
        "        # Fully-connected layers\n",
        "        self.fc1 = nn.Linear(l2 * 5 * 5, 128)\n",
        "        # Output of the first fully-connected layer is 128, so this is the input\n",
        "        # of the next layer.\n",
        "        self.fc2 = nn.Linear(128, 64)\n",
        "        # Final output is 10, since there are 10 classes in the CIFAR-10\n",
        "        # dataset. Therefore, we need a probability for each of the classes;\n",
        "        # then we can work out how correct (or incorrect) the predictions are.\n",
        "        # For example, if the input image is a place, then want there to be a\n",
        "        # low probability for all of the other classes, apart from the deer\n",
        "        # class, which should have a high probabilty. So we can calculate out\n",
        "        # loss when we have these 10 output numbers.\n",
        "        self.fc3 = nn.Linear(64, 10)\n",
        "\n",
        "    # This declares the forward pass for the network.\n",
        "    def forward(self, x):\n",
        "        # We pass through the first convolutional layer, and then through the\n",
        "        # activation function. Classically, we use an activation function at\n",
        "        # each of the layers to transform linear transformations into non-linear\n",
        "        # ones, so we can learn non-linear functions; here, we use the 'ReLU'\n",
        "        # function.\n",
        "        x = self.pool(F.relu(self.conv1(x)))\n",
        "        x = self.pool(F.relu(self.conv2(x)))\n",
        "        # Flatten all dimensions except batch-size: we want to pass multiple\n",
        "        # examples through the network at once, and then we can update the\n",
        "        # weights with respect to the whole batch.\n",
        "        x = torch.flatten(x, 1)\n",
        "        x = F.relu(self.fc1(x))\n",
        "        x = F.relu(self.fc2(x))\n",
        "        # Final layer\n",
        "        x = self.fc3(x)\n",
        "        return x\n",
        "\n",
        "net = Net()\n",
        "print(net)"
      ]
    },
    {
      "cell_type": "code",
      "execution_count": null,
      "id": "b7abac4a",
      "metadata": {
        "colab": {
          "base_uri": "https://localhost:8080/"
        },
        "id": "b7abac4a",
        "outputId": "2cb0d4e5-f899-487b-b529-5fc9f8b27723"
      },
      "outputs": [
        {
          "output_type": "stream",
          "name": "stdout",
          "text": [
            "28.0 14.0 10.0 5.0\n"
          ]
        }
      ],
      "source": [
        "# Why are there l2*5*5 inputs to the first fully-connected layer? Well, let us\n",
        "# run through each of the operations step-by-step, and track the resultion of\n",
        "# the image as we go. Assume that l1 = 6, l2 = 16. Then l2*5*5 = 400.\n",
        "\n",
        "# We know that a given input image from the CIFAR-10 dataset has a resolution\n",
        "# of 32x32.\n",
        "\n",
        "# Operation 1:\n",
        "# Input 32, kernel size 5, 0 padding, stride of 1\n",
        "o1 = (32 - 5 + 0) / 1 + 1\n",
        "# Operation 2: pooling layer -- halves the resolution\n",
        "o2 = o1 // 2\n",
        "# Operation 3:\n",
        "# Input resoltion from step 2, kernel size 5, 0 padding, stride of 1\n",
        "o3 = (o2 - 5 + 0) / 1 + 1\n",
        "# Operation 4:\n",
        "o4 = o3 // 2\n",
        "\n",
        "# What we see is that after the first convolutional layer, we get a feature map\n",
        "# which is 28x28. Then we halve the resoltuion to 14x14. Then we run it through\n",
        "# the second convolutional layer, giving up 10x10. Then we falve the resoltion\n",
        "# one more time to 5x5.\n",
        "print(o1, o2, o3, o4)\n",
        "\n",
        "# This is where we get this 5*5 value. There are 16 channels so we have a\n",
        "# 16*5*5 image."
      ]
    },
    {
      "cell_type": "markdown",
      "id": "58f2398c",
      "metadata": {
        "id": "58f2398c"
      },
      "source": [
        "### Training the model"
      ]
    },
    {
      "cell_type": "code",
      "execution_count": null,
      "id": "fd51f05c",
      "metadata": {
        "colab": {
          "base_uri": "https://localhost:8080/",
          "height": 250
        },
        "id": "fd51f05c",
        "outputId": "83f4e9df-8b20-43e7-c984-f65469ddd77e"
      },
      "outputs": [
        {
          "output_type": "error",
          "ename": "NameError",
          "evalue": "ignored",
          "traceback": [
            "\u001b[0;31m---------------------------------------------------------------------------\u001b[0m",
            "\u001b[0;31mNameError\u001b[0m                                 Traceback (most recent call last)",
            "\u001b[0;32m<ipython-input-15-01fdfc920804>\u001b[0m in \u001b[0;36m<cell line: 3>\u001b[0;34m()\u001b[0m\n\u001b[1;32m      1\u001b[0m \u001b[0;32mimport\u001b[0m \u001b[0mtorch\u001b[0m\u001b[0;34m.\u001b[0m\u001b[0moptim\u001b[0m \u001b[0;32mas\u001b[0m \u001b[0moptim\u001b[0m\u001b[0;34m\u001b[0m\u001b[0;34m\u001b[0m\u001b[0m\n\u001b[1;32m      2\u001b[0m \u001b[0;34m\u001b[0m\u001b[0m\n\u001b[0;32m----> 3\u001b[0;31m \u001b[0mclassifier_model\u001b[0m \u001b[0;34m=\u001b[0m \u001b[0mnet\u001b[0m\u001b[0;34m\u001b[0m\u001b[0;34m\u001b[0m\u001b[0m\n\u001b[0m\u001b[1;32m      4\u001b[0m \u001b[0;31m# Defining the loss function\u001b[0m\u001b[0;34m\u001b[0m\u001b[0;34m\u001b[0m\u001b[0m\n\u001b[1;32m      5\u001b[0m \u001b[0mloss_function\u001b[0m \u001b[0;34m=\u001b[0m \u001b[0mnn\u001b[0m\u001b[0;34m.\u001b[0m\u001b[0mCrossEntropyLoss\u001b[0m\u001b[0;34m(\u001b[0m\u001b[0;34m)\u001b[0m\u001b[0;34m\u001b[0m\u001b[0;34m\u001b[0m\u001b[0m\n",
            "\u001b[0;31mNameError\u001b[0m: name 'net' is not defined"
          ]
        }
      ],
      "source": [
        "classifier_model = net\n",
        "# Defining the loss function\n",
        "loss_function = nn.CrossEntropyLoss()\n",
        "# We use stochastic gradient descent as an optimiser\n",
        "# Learning rate is lr\n",
        "optimiser = optim.SGD(net.parameters(), lr=0.001, momentum=0.9)"
      ]
    },
    {
      "cell_type": "markdown",
      "id": "51e1e009",
      "metadata": {
        "id": "51e1e009"
      },
      "source": [
        "### Note: takes 5 minutes to run – this is CPU computation."
      ]
    },
    {
      "cell_type": "code",
      "execution_count": null,
      "id": "54b89995",
      "metadata": {
        "colab": {
          "base_uri": "https://localhost:8080/"
        },
        "id": "54b89995",
        "outputId": "f2871d61-e328-44bb-dc12-aeadd123fa9b"
      },
      "outputs": [
        {
          "output_type": "stream",
          "name": "stdout",
          "text": [
            "[1] loss: 1.712\n",
            "[2] loss: 1.306\n",
            "[3] loss: 1.162\n",
            "[4] loss: 1.073\n",
            "[5] loss: 1.002\n",
            "[6] loss: 0.953\n",
            "Finished Training\n",
            "Runtime: 285.33732318878174 seconds\n"
          ]
        }
      ],
      "source": [
        "epochs = 6\n",
        "\n",
        "start = time.time()\n",
        "for epoch in range(epochs):  # Loop over the dataset multiple times\n",
        "\n",
        "    running_loss = 0.0\n",
        "    for i, batch in enumerate(train_dataloader, 0):\n",
        "        # Get the inputs; batch is a list of [images, labels]\n",
        "        images, labels = batch\n",
        "\n",
        "        # Zero the parameter gradients\n",
        "        optimiser.zero_grad()\n",
        "\n",
        "        # forward + backward + optimize\n",
        "        logits = classifier_model(images)\n",
        "        loss = loss_function(logits, labels)\n",
        "        # Backwards pass\n",
        "        loss.backward()\n",
        "        optimiser.step()\n",
        "\n",
        "        # Print statistics\n",
        "        running_loss += loss.item()\n",
        "        # Keep track of the loss as we proceed through the training loop\n",
        "        if i % 12000 == 11999:    # print every epoch\n",
        "            print(f'[{epoch + 1}] loss: {running_loss / 12000:.3f}')\n",
        "            # Reset running loss each time we print it out\n",
        "            running_loss = 0.0\n",
        "\n",
        "end = time.time()\n",
        "print('Finished Training')\n",
        "print(f'Runtime: {end - start} seconds')"
      ]
    },
    {
      "cell_type": "markdown",
      "id": "3729a792",
      "metadata": {
        "id": "3729a792"
      },
      "source": [
        "### Accuracy"
      ]
    },
    {
      "cell_type": "code",
      "execution_count": null,
      "id": "c2db4966",
      "metadata": {
        "colab": {
          "base_uri": "https://localhost:8080/"
        },
        "id": "c2db4966",
        "outputId": "ac2b709c-5b01-4416-8eda-76b84e23a923"
      },
      "outputs": [
        {
          "output_type": "stream",
          "name": "stdout",
          "text": [
            "Accuracy over 10,000 validation images: 62%\n"
          ]
        }
      ],
      "source": [
        "correct = 0\n",
        "total = 0\n",
        "\n",
        "# Make sure that we don't calculate gradients whilst we are evaluating the\n",
        "# performance of the model on the test dataset -- we don't want to change\n",
        "# the weights.\n",
        "with torch.no_grad():\n",
        "    for batch in val_dataloader:\n",
        "        images, labels = batch\n",
        "        logits = classifier_model(images)\n",
        "        # We have a batch size of 4, and 10 classes, therefore we get a 4x10\n",
        "        # tensor out of our model. So, we take the maximum on the first\n",
        "        # dimension -- this is the class dimension, since the batch dimension\n",
        "        # is the 'zeroth' dimension. What we want is the index of the highest\n",
        "        # value.\n",
        "        _, predicted = torch.max(logits.data, 1)\n",
        "        # Now we have a 4x1 tensor\n",
        "        total += labels.size(0)\n",
        "        # Gives tensor of whether they are equal or not\n",
        "        correct += (predicted == labels).sum().item()\n",
        "\n",
        "print(f'Accuracy over 10,000 validation images: {100 * correct // total}%')\n"
      ]
    },
    {
      "cell_type": "markdown",
      "id": "8d812c08",
      "metadata": {
        "id": "8d812c08"
      },
      "source": [
        "### What can we glean from this accuracy?\n",
        "\n",
        "Initially, we might not seem too impressed by the result of about 62%, but we should not be disheartened. Firstly, this value is far batter than chance, which would be a 10% accuracy – i.e., we choose at random which class a given image belongs to, and there are 10 choices. So, the network has clearly learnt something. The simple PyTorch tutorial that the code is inspired by had only an accuracy of 55%, so this is a clear improvement.\n",
        "\n",
        "Next, consider the EMNIST dataset: a set of hand-drawn digits with a resoltion of 28x28. A more detailed explanation of the contents and conversion process of the dataset are given in a paper by Cohen, et al $[3]$.\n",
        "\n",
        "It is not difficult for very simplistic models to perform very well in classification on this dataset -- models easily reach over 99% accurary. However, reaching an accuracy of over 90% on the CIFAR-10 dataset is very challenging – even for humans! Many state of the art models are tested on the CIFAR-10 dataset.\n",
        "\n",
        "Now, let us now look at the performance of the model on each class inividually."
      ]
    },
    {
      "cell_type": "code",
      "execution_count": null,
      "id": "b4942f91",
      "metadata": {
        "colab": {
          "base_uri": "https://localhost:8080/"
        },
        "id": "b4942f91",
        "outputId": "1521b3db-0c01-4d8a-dd3d-7a195d0a23d9"
      },
      "outputs": [
        {
          "output_type": "stream",
          "name": "stdout",
          "text": [
            "Accuracy for class: airplane is 68.8 %\n",
            "Accuracy for class: automobile is 73.3 %\n",
            "Accuracy for class: bird  is 45.5 %\n",
            "Accuracy for class: cat   is 36.6 %\n",
            "Accuracy for class: deer  is 74.4 %\n",
            "Accuracy for class: dog   is 52.5 %\n",
            "Accuracy for class: frog  is 62.5 %\n",
            "Accuracy for class: horse is 61.8 %\n",
            "Accuracy for class: ship  is 79.0 %\n",
            "Accuracy for class: truck is 70.3 %\n"
          ]
        }
      ],
      "source": [
        "# prepare to count predictions for each class\n",
        "correct_pred = {classname: 0 for classname in classes}\n",
        "total_pred = {classname: 0 for classname in classes}\n",
        "\n",
        "# again no gradients needed\n",
        "with torch.no_grad():\n",
        "    for data in val_dataloader:\n",
        "        images, labels = data\n",
        "        outputs = net(images)\n",
        "        _, predictions = torch.max(outputs, 1)\n",
        "        # collect the correct predictions for each class\n",
        "        for label, prediction in zip(labels, predictions):\n",
        "            if label == prediction:\n",
        "                correct_pred[classes[label]] += 1\n",
        "            total_pred[classes[label]] += 1\n",
        "\n",
        "\n",
        "# print accuracy for each class\n",
        "for classname, correct_count in correct_pred.items():\n",
        "    accuracy = 100 * float(correct_count) / total_pred[classname]\n",
        "    print(f'Accuracy for class: {classname:5s} is {accuracy:.1f} %')"
      ]
    },
    {
      "cell_type": "markdown",
      "id": "5ae1be6f",
      "metadata": {
        "id": "5ae1be6f"
      },
      "source": [
        "We can see that the model's performance varied significantly on the different classes."
      ]
    },
    {
      "cell_type": "markdown",
      "id": "72a17a76",
      "metadata": {
        "id": "72a17a76"
      },
      "source": [
        "## <ins>Improvements</ins>"
      ]
    },
    {
      "cell_type": "markdown",
      "id": "840386a8",
      "metadata": {
        "id": "840386a8"
      },
      "source": [
        "There are many ways to improve the model. Let us first consider how we might speed up the training process."
      ]
    },
    {
      "cell_type": "markdown",
      "id": "ffd4416a",
      "metadata": {
        "id": "ffd4416a"
      },
      "source": [
        "### <ins>Parallelism via GPU</ins>"
      ]
    },
    {
      "cell_type": "markdown",
      "id": "e2481cbb",
      "metadata": {
        "id": "e2481cbb"
      },
      "source": [
        "### Understanding NVIDIA CUDA: The Basics of GPU Parallel Computing\n",
        "\n",
        "GPU Parallel computing is used uqiquitously in machine learning; specifically, the fields of 'image recognition algorithms, text analysis, and predictive modeling.' [$[9]$](https://www.turing.com/kb/understanding-nvidia-cuda#what-is-cuda?).\n",
        "\n",
        "Machine learning ML is used in a variety of fields. It's used in image recognition algorithms, text analysis, and predictive modeling.\n",
        "\n",
        "Video: [How do GPUs speed up Neural Network training?](https://www.youtube.com/watch?v=EKD1kEMNeeU)\n",
        "\n",
        "Compute Unified Device Architecture (CUDA) is a framework created by NVIDIA to perform GPU-accelerated operations. By utilising CUDA GPUs, one is able to perform data processing faster than with the standard methods used with CPUs. This is because CUDA employs parallel processes to achieve greater efficiency and speeds when processing data.\n",
        "\n",
        "<strong>Why is GPU faster than CPU in a CNN?</strong>\n",
        "There are several reasons why GPUs tend to be faster, and perform better, than CPUs in convolutional neural networks.\n",
        "\n",
        "<strong>Parallel processing:</strong>\n",
        "GPUs use parallel processing to handing many tasks all at once. For CNNs, a great many matrix operations are performed by the models, such as matrix multiplication and convolution. GPUs are able to parallelise many of these operations at the same time — this can vastly reduce the training time of neural networks, such as image classifiers. Furthermore, due to the architecture of GPUs, they allow for the efficient simultaneous computation of entire layers within a CNN.\n",
        "\n",
        "<strong>GPUs have more cores:</strong>\n",
        "GPUs usually contain a much larger number of cores than CPUS. Namely, CPUs often have only a few cores, whereas GPUs often contain hundreds, or thousands, of smaller cores. Therefore, for tasks involving a larger number of simple repetitive operations, GPUs perform much better.\n",
        "\n",
        "<strong>Architecture:</strong>\n",
        "Involved in neural networks are many matrix and vector operations. The specific design of the GPU architecture is optimised for handling vast amounts of mathematical operations in the processing and rendering of graphics. This use precisely aligns with the computational and mathematical requirements of neural networks.\n",
        "\n",
        "<strong>Memory:</strong>\n",
        "The memory bandwidth — i.e., the rate that data is able to be read or stored into a semiconductor memory by a processor — is much higher in GPUs than it is in CPUs. Involved in CNNs are great numbers of data transfers between layers, and this requires a lot of memory bandwidth — something GPUs are well equipped for.\n",
        "\n",
        "<strong>CUDA:</strong>\n",
        "NVIDIA’s ‘Compute Unified Device Architecture’ (CUDA) platform performs highly optimised parallel computing. Specifically, Tensor Cores in NVIDIA GPUs are used to greatly speed up processes in deep learning, such as matrix multiplications.\n",
        "\n",
        "To summarise, GPUs utilise their parallel framework, hardware, and software to handle data on large scales, performing repetitive tasks that are highly parallelisable. For these reasons, they are often the optimal choice for use in deep learning.\n",
        "\n",
        "We shall use tools in PyTorch for this GPU for this GPU-acceleration [$[8]$]((https://domino.ai/blog/gpu-accelerated-convolutional-neural-networks-with-pytorch?fbclid=IwAR0vqjv6PFzwb2M8ZO7wjo11pg4_5UCfEla6N9n8PwSwZtHzbkKPPQm_wSg)).\n"
      ]
    },
    {
      "cell_type": "markdown",
      "id": "9939b4e7",
      "metadata": {
        "id": "9939b4e7"
      },
      "source": [
        "### Comparisons of GPU and CPU runtimes for matrix operations on different size matrices\n",
        "\n",
        "The GPU we used for this analyis is an NVIDIA Tesla V100 with 5120 cuda cores run on Google Colab, and the CPU is the 64-bit Apple M1 processor (SoC) with eight cores (4 performance cores, 4 efficiency cores). The inspiration for the following code can be [here](https://datascience.stackexchange.com/questions/41956/how-to-make-my-neural-netwok-run-on-gpu-instead-of-cpu)."
      ]
    },
    {
      "cell_type": "code",
      "source": [
        "import numpy as np\n",
        "import tensorflow as tf\n",
        "from datetime import datetime\n",
        "\n",
        "# View devices\n",
        "from tensorflow.python.client import device_lib\n",
        "print(device_lib.list_local_devices())"
      ],
      "metadata": {
        "id": "kOXqt8A2d-cU"
      },
      "id": "kOXqt8A2d-cU",
      "execution_count": null,
      "outputs": []
    },
    {
      "cell_type": "code",
      "source": [
        "\n",
        "\n",
        "tf.compat.v1.disable_eager_execution()\n",
        "print(tf.__version__)\n",
        "\n",
        "# Choose which device you want to test on: either 'cpu' or 'gpu'\n",
        "devices = ['cpu', 'gpu']\n",
        "\n",
        "# Choose size of the matrix to be used.\n",
        "# Make it bigger to see bigger benefits of parallel computation\n",
        "shapes = [(100, 100), (1000, 1000), (2000, 2000), (4000, 4000), (8000, 8000),\n",
        "          (12000, 12000), (16000, 16000), (20000, 20000), (30000, 30000)\n",
        "          ]\n",
        "\n",
        "\n",
        "def compute_operations(device, shape):\n",
        "    \"\"\"Run a simple set of operations on a matrix of given shape on given device\n",
        "\n",
        "    Parameters\n",
        "    ----------\n",
        "    device : the type of device to use, either 'cpu' or 'gpu'\n",
        "    shape : a tuple for the shape of a 2d tensor, e.g. (10, 10)\n",
        "\n",
        "    Returns\n",
        "    -------\n",
        "    out : results of the operations as the time taken\n",
        "    \"\"\"\n",
        "\n",
        "    # Define operations to be computed on selected device\n",
        "    with tf.device(device):\n",
        "        random_matrix = tf.random.uniform(shape=shape, minval=0, maxval=1)\n",
        "        dot_operation = tf.matmul(random_matrix, tf.transpose(random_matrix))\n",
        "        sum_operation = tf.reduce_sum(dot_operation)\n",
        "\n",
        "    # Time the actual runtime of the operations\n",
        "    start_time = datetime.now()\n",
        "    with tf.compat.v1.Session(\n",
        "        config=tf.compat.v1.ConfigProto(log_device_placement=False)) as session:\n",
        "        result = session.run(sum_operation)\n",
        "    elapsed_time = datetime.now() - start_time\n",
        "\n",
        "    return result, elapsed_time\n",
        "\n",
        "if __name__ == '__main__':\n",
        "\n",
        "    times = []\n",
        "    # Run the computations and print summary of each run\n",
        "    for device in devices:\n",
        "        print(\"--\" * 20)\n",
        "        for shape in shapes:\n",
        "            _, time_taken = compute_operations(device, shape)\n",
        "            time_taken = time_taken.seconds + time_taken.microseconds/1e6\n",
        "            times.append(time_taken)\n",
        "\n",
        "            # Print the result and also the time taken on the selected device\n",
        "            print(\"Computation on shape:\", shape, \"using device:\", device,\n",
        "                  \"took: {:.3f}\".format(time_taken), \"seconds\")\n",
        "    print(\"--\" * 20)\n",
        "\n",
        "    cpu_times = times[:len(times)//2]\n",
        "    gpu_times = times[len(times)//2:]\n",
        "    cpu_times.pop(0)\n",
        "    gpu_times.pop(0)\n",
        "    shapes.pop(0)"
      ],
      "metadata": {
        "colab": {
          "base_uri": "https://localhost:8080/"
        },
        "id": "zNSde_g8cX3N",
        "outputId": "cd9cfd6c-ac81-49a2-db8b-f3fe14fc0361"
      },
      "id": "zNSde_g8cX3N",
      "execution_count": null,
      "outputs": [
        {
          "output_type": "stream",
          "name": "stdout",
          "text": [
            "2.15.0\n",
            "----------------------------------------\n",
            "Computation on shape: (100, 100) using device: cpu took: 0.725 seconds\n",
            "Computation on shape: (1000, 1000) using device: cpu took: 0.020 seconds\n",
            "Computation on shape: (2000, 2000) using device: cpu took: 0.077 seconds\n",
            "Computation on shape: (4000, 4000) using device: cpu took: 0.533 seconds\n",
            "Computation on shape: (8000, 8000) using device: cpu took: 4.326 seconds\n",
            "----------------------------------------\n",
            "Computation on shape: (100, 100) using device: gpu took: 0.149 seconds\n",
            "Computation on shape: (1000, 1000) using device: gpu took: 0.015 seconds\n",
            "Computation on shape: (2000, 2000) using device: gpu took: 0.011 seconds\n",
            "Computation on shape: (4000, 4000) using device: gpu took: 0.019 seconds\n",
            "Computation on shape: (8000, 8000) using device: gpu took: 0.103 seconds\n",
            "----------------------------------------\n"
          ]
        }
      ]
    },
    {
      "cell_type": "markdown",
      "source": [
        "### Plot of computational time for $nxn$ matrix operation, GPU vs CPU\n",
        "\n",
        "From the following plot, it is clear to see that as the dimension of the matrix increases, the runtime increases at a much faster rate with computation done under CPU than under GPU. This experimental result agrees with the analysis presented in the previous section on why GPUs perfrom these operations much quicker than CPUs. Using GPUs to improve training speeds will be very useful as we adapt and improve our models to more complicated, and therefore more computationally intensive, versions. We shall increase the batch size, and the size of the convolutional layers, as well as perform more operations on tensors: this will require using GPU computation, since computation via CPU on these operations, at larger scales, will take far too long."
      ],
      "metadata": {
        "id": "CQWAn5oKkJic"
      },
      "id": "CQWAn5oKkJic"
    },
    {
      "cell_type": "code",
      "source": [
        "dimensions = [x[0] for x in shapes]\n",
        "\n",
        "fig, ax = plt.subplots() # using matplotlib's Object Oriented API\n",
        "ax.set_title('Computational time for $nxn$ matrix operation')\n",
        "ax.set_xlabel('Dimension')\n",
        "ax.set_ylabel('Time (seconds)')\n",
        "ax.set_xticks(np.arange(0, 30000 + 1, 3000))\n",
        "fig.autofmt_xdate(rotation=90)\n",
        "ax.plot(dimensions, cpu_times, color='blue', marker='x', linewidth=0.6, label='CPU')\n",
        "ax.plot(dimensions, gpu_times, color='orange', marker='x', linewidth=0.6, label='GPU')\n",
        "plt.legend(loc=\"upper left\")\n",
        "plt.grid()\n",
        "\n",
        "plt.show()"
      ],
      "metadata": {
        "colab": {
          "base_uri": "https://localhost:8080/",
          "height": 452
        },
        "id": "OEwgiIG3efts",
        "outputId": "a4d137f8-3420-41c6-c9c3-fb41f6e5223e"
      },
      "id": "OEwgiIG3efts",
      "execution_count": null,
      "outputs": [
        {
          "output_type": "display_data",
          "data": {
            "text/plain": [
              "<Figure size 640x480 with 1 Axes>"
            ],
            "image/png": "[encoded data removed]"
          },
          "metadata": {}
        }
      ]
    },
    {
      "cell_type": "markdown",
      "source": [
        "#### Let us inspect the GPU computation times at a closer scale. The computation time is so much faster than CPU that it is not easy to discern the pattern of the results on the dual graph."
      ],
      "metadata": {
        "id": "Pa3jq_EnmUQ5"
      },
      "id": "Pa3jq_EnmUQ5"
    },
    {
      "cell_type": "code",
      "source": [
        "fig, ax = plt.subplots() # using matplotlib's Object Oriented API\n",
        "\n",
        "ax.set_title('Computational time for $nxn$ matrix operation')\n",
        "ax.set_xlabel('Dimension')\n",
        "ax.set_ylabel('Time (seconds)')\n",
        "ax.set_xticks(np.arange(0, 30000 + 1, 3000))\n",
        "fig.autofmt_xdate(rotation=90)\n",
        "ax.plot(dimensions, gpu_times, color='blue', marker='x', linewidth=0.6, label='GPU')\n",
        "plt.legend(loc=\"upper left\")\n",
        "\n",
        "plt.show()"
      ],
      "metadata": {
        "colab": {
          "base_uri": "https://localhost:8080/",
          "height": 452
        },
        "id": "0wEZyawugwUx",
        "outputId": "9edfb41b-9aa5-426e-e524-c15ea7418e02"
      },
      "id": "0wEZyawugwUx",
      "execution_count": null,
      "outputs": [
        {
          "output_type": "display_data",
          "data": {
            "text/plain": [
              "<Figure size 640x480 with 1 Axes>"
            ],
            "image/png": "[encoded data removed]"
          },
          "metadata": {}
        }
      ]
    },
    {
      "cell_type": "markdown",
      "id": "6d6fd0ff",
      "metadata": {
        "id": "6d6fd0ff"
      },
      "source": [
        "### CNN operations\n",
        "\n",
        "In a CNN, the convolution process of sliding a kernel is a element-wise multiplication process, and then it sums the elements together. These are computationally intensive tasks, and the CPU finds it much harder to compute when more and more layers are added. Similarly, when the layers are widened, the CPU will also strugging due to its architecture. For the reasons stated above, GPUs are better suited to these computational tasks. We should expect an analogous speedup, from the results we have just seen, of GPU computation over CPU computation when increasing the complexity of a CNN."
      ]
    },
    {
      "cell_type": "markdown",
      "id": "e959621f",
      "metadata": {
        "id": "e959621f"
      },
      "source": [
        "## Analysis: CNN on GPU\n",
        "\n",
        "Below, we increase the batch size, and increase the number of epochs. This is a computation we can now do much faster on GPU.\n",
        "\n",
        "\n",
        "\n"
      ]
    },
    {
      "cell_type": "code",
      "execution_count": 68,
      "id": "0a06561e",
      "metadata": {
        "colab": {
          "base_uri": "https://localhost:8080/"
        },
        "id": "0a06561e",
        "outputId": "de6e3bbe-f377-4c42-a8d7-ca6ed8af54d5"
      },
      "outputs": [
        {
          "output_type": "stream",
          "name": "stdout",
          "text": [
            "Files already downloaded and verified\n",
            "Files already downloaded and verified\n"
          ]
        }
      ],
      "source": [
        "# Set larger batch size\n",
        "batch_size = 128\n",
        "train_data = torchvision.datasets.CIFAR10(root='./data', train=True,\n",
        "                                        download=True, transform=transform)\n",
        "train_dataloader = torch.utils.data.DataLoader(train_data, batch_size=batch_size,\n",
        "                                          shuffle=True, num_workers=2)\n",
        "test_data = torchvision.datasets.CIFAR10(root='./data', train=False,\n",
        "                                       download=True, transform=transform)\n",
        "val_dataloader = torch.utils.data.DataLoader(test_data, batch_size=batch_size,\n",
        "                                         shuffle=False, num_workers=2)"
      ]
    },
    {
      "cell_type": "code",
      "source": [
        "# Choose compute device type\n",
        "device = torch.device('cuda:0' if torch.cuda.is_available() else 'cpu')\n",
        "\n",
        "# Uncomment to run on cpu\n",
        "#device = 'cpu'"
      ],
      "metadata": {
        "id": "U8pcVnCECoD1"
      },
      "id": "U8pcVnCECoD1",
      "execution_count": 69,
      "outputs": []
    },
    {
      "cell_type": "code",
      "source": [
        "l1 = 64\n",
        "l2 = 128\n",
        "\n",
        "# Redefine to allow sending computation to GPU\n",
        "class Net(nn.Module):\n",
        "\n",
        "    def __init__(self):\n",
        "        super().__init__()\n",
        "        self.conv1 = nn.Conv2d(3, l1, 5)\n",
        "        self.pool = nn.MaxPool2d(2, 2)\n",
        "        self.conv2 = nn.Conv2d(l1, l2, 5)\n",
        "        self.fc1 = nn.Linear(l2 * 5 * 5, 128)\n",
        "        self.fc2 = nn.Linear(128, 64)\n",
        "        self.fc3 = nn.Linear(64, 10)\n",
        "\n",
        "    # This declares the forward pass for the network.\n",
        "    def forward(self, x):\n",
        "        x = x.to(device)\n",
        "        x = self.pool(F.relu(self.conv1(x)))\n",
        "        x = self.pool(F.relu(self.conv2(x)))\n",
        "        x = torch.flatten(x, 1)\n",
        "        x = F.relu(self.fc1(x))\n",
        "        x = F.relu(self.fc2(x))\n",
        "        x = self.fc3(x)\n",
        "        return x\n",
        "\n",
        "net = Net()\n",
        "print(net)"
      ],
      "metadata": {
        "colab": {
          "base_uri": "https://localhost:8080/"
        },
        "id": "UsesFi1HCDhY",
        "outputId": "a1d165f7-f155-489b-c8c7-9da322711fc9"
      },
      "id": "UsesFi1HCDhY",
      "execution_count": 70,
      "outputs": [
        {
          "output_type": "stream",
          "name": "stdout",
          "text": [
            "Net(\n",
            "  (conv1): Conv2d(3, 64, kernel_size=(5, 5), stride=(1, 1))\n",
            "  (pool): MaxPool2d(kernel_size=2, stride=2, padding=0, dilation=1, ceil_mode=False)\n",
            "  (conv2): Conv2d(64, 128, kernel_size=(5, 5), stride=(1, 1))\n",
            "  (fc1): Linear(in_features=3200, out_features=128, bias=True)\n",
            "  (fc2): Linear(in_features=128, out_features=64, bias=True)\n",
            "  (fc3): Linear(in_features=64, out_features=10, bias=True)\n",
            ")\n"
          ]
        }
      ]
    },
    {
      "cell_type": "code",
      "source": [
        "# Send to device\n",
        "net.to(device)\n",
        "\n",
        "# Check if the params are on GPU. Should output True if the model is on the GPU\n",
        "print(next(net.parameters()).is_cuda)"
      ],
      "metadata": {
        "colab": {
          "base_uri": "https://localhost:8080/"
        },
        "id": "606VlEOMCDj3",
        "outputId": "689295e9-0fbc-4ebd-a680-fcd796e9886c"
      },
      "id": "606VlEOMCDj3",
      "execution_count": 71,
      "outputs": [
        {
          "output_type": "stream",
          "name": "stdout",
          "text": [
            "True\n"
          ]
        }
      ]
    },
    {
      "cell_type": "code",
      "source": [
        "classifier_model = net\n",
        "# Defining the loss function\n",
        "loss_function = nn.CrossEntropyLoss()\n",
        "# We use stochastic gradient descent as an optimiser\n",
        "# Learning rate is lr\n",
        "optimiser = optim.SGD(net.parameters(), lr=0.001, momentum=0.9)"
      ],
      "metadata": {
        "id": "0objfmGsCDl-"
      },
      "id": "0objfmGsCDl-",
      "execution_count": 72,
      "outputs": []
    },
    {
      "cell_type": "markdown",
      "source": [
        "### This takes 5 minutes to run, but the accuracy is now over 70%"
      ],
      "metadata": {
        "id": "DmH1nW_bDLM6"
      },
      "id": "DmH1nW_bDLM6"
    },
    {
      "cell_type": "code",
      "source": [
        "epochs = 40\n",
        "\n",
        "start = time.time()\n",
        "mini_batch = len(train_dataloader) - 1\n",
        "losses = []\n",
        "for epoch in range(epochs):  # Loop over the dataset multiple times\n",
        "    running_loss = 0.0\n",
        "    for i, batch in enumerate(train_dataloader, 0):\n",
        "        # Get the inputs; batch is a list of [images, labels]\n",
        "        images, labels = batch\n",
        "        # Send these tensors to GPU for computation\n",
        "        images, labels = batch[0].to(device), batch[1].to(device)\n",
        "\n",
        "        # Zero the parameter gradients\n",
        "        optimiser.zero_grad()\n",
        "\n",
        "        # forward + backward + optimize\n",
        "        logits = classifier_model(images)\n",
        "        loss = loss_function(logits, labels)\n",
        "        # Backwards pass\n",
        "        loss.backward()\n",
        "        optimiser.step()\n",
        "\n",
        "        # Print statistics\n",
        "        running_loss += loss.item()\n",
        "        # Keep track of the loss as we proceed through the training loop\n",
        "        if i % mini_batch == (mini_batch-1):    # print every epoch\n",
        "            loss = running_loss/mini_batch\n",
        "            print(f'[Epoch: {epoch + 1}, {i + 1:5d}] loss: {loss:.3f}')\n",
        "            losses.append(loss)\n",
        "            # Reset running loss each time we print it out\n",
        "            running_loss = 0.0\n",
        "\n",
        "end = time.time()\n",
        "print('Finished Training')\n",
        "print(f'Runtime: {end - start} seconds')"
      ],
      "metadata": {
        "id": "3TBAJuP7CD02"
      },
      "id": "3TBAJuP7CD02",
      "execution_count": null,
      "outputs": []
    },
    {
      "cell_type": "code",
      "source": [
        "correct = 0\n",
        "total = 0\n",
        "\n",
        "with torch.no_grad():\n",
        "    for batch in val_dataloader:\n",
        "        images, labels = batch\n",
        "        images, labels = batch[0].to(device), batch[1].to(device)\n",
        "\n",
        "        logits = net(images)\n",
        "        _, predicted = torch.max(logits.data, 1)\n",
        "        total += labels.size(0)\n",
        "        correct += (predicted == labels).sum().item()\n",
        "\n",
        "print(f'Accuracy over 10000 validation images: {100 * correct / total}%')"
      ],
      "metadata": {
        "id": "VRuWjTD3CEZm"
      },
      "id": "VRuWjTD3CEZm",
      "execution_count": null,
      "outputs": []
    },
    {
      "cell_type": "markdown",
      "source": [
        "### Interpretation:\n",
        "\n",
        "We can see that we have been able to increase the accurary of our model by training with more epochs, while also increasing the batch size. We have kept the runtime around the same, using GPU computaton speed boost.\n",
        "\n",
        "Let us see how the accuracy changes as we increase the number of epochs.\n"
      ],
      "metadata": {
        "id": "M0Wk2ddQEThG"
      },
      "id": "M0Wk2ddQEThG"
    },
    {
      "cell_type": "code",
      "source": [
        "# Results: (epochs, runtime, accuracy)\n",
        "epoch_computations = [(1, 7.408554792, 20.58), (3, 22.32866406, 34.06),\n",
        "                      (6, 44.73545718, 43.34), (9, 67.79624248, 51.34),\n",
        "                      (12, 89.88221908, 56.1), (15, 113.297296, 60.78),\n",
        "                      (17, 127.0894275, 61.5), (20, 148.2551584, 65.31),\n",
        "                      (25, 184.7168143, 66.88), (30, 222.9016218, 70.09),\n",
        "                      (35, 278.0812137, 71.6), (40, 316.836256, 72.52),\n",
        "                      (45, 353.6044488, 72.03), (50, 401.4707859, 72.56),\n",
        "                      (60, 448.4164722, 72.16), (70, 503.9833045, 71.89),\n",
        "                      (80, 575.6888978, 72.83), (90, 647.5170252, 72.16),\n",
        "                      (100, 718.2058516, 71.33), (120, 904.9342792, 71.32),\n",
        "                      (160, 1189.518613, 71.78)]\n",
        "\n",
        "x0 = [x[0] for x in epoch_computations]\n",
        "y_vals = [x[2] for x in epoch_computations]\n",
        "\n",
        "fig, ax = plt.subplots() # using matplotlib's Object Oriented API\n",
        "\n",
        "ax.set_title('Accuracy vs number of epochs (batch size 128)')\n",
        "ax.set_xlabel('Epochs')\n",
        "ax.set_ylabel('Accuracy (%)')\n",
        "ax.set_xticks(np.arange(0, 160 + 1, 10))\n",
        "ax.set_yticks(np.arange(0, 81, 5))\n",
        "fig.autofmt_xdate(rotation=90)\n",
        "ax.plot(x0, y_vals, color='orange', marker='x', linewidth=0.6, label='GPU')\n",
        "plt.legend(loc=\"lower right\")\n",
        "plt.grid()\n",
        "\n",
        "plt.show()\n",
        "\n"
      ],
      "metadata": {
        "colab": {
          "base_uri": "https://localhost:8080/",
          "height": 441
        },
        "id": "GgiNOfCIr7Qq",
        "outputId": "a9d8d89c-2bac-413d-b4c7-b94288dd374a"
      },
      "id": "GgiNOfCIr7Qq",
      "execution_count": null,
      "outputs": [
        {
          "output_type": "display_data",
          "data": {
            "text/plain": [
              "<Figure size 640x480 with 1 Axes>"
            ],
            "image/png": "[encoded data removed]"
          },
          "metadata": {}
        }
      ]
    },
    {
      "cell_type": "markdown",
      "source": [
        "This model reaches an accuracy of around 72-73 percent. Inspecting the graph above, it is not likely that the performance will reach a higher accuracy. This indicates that we need to use a more powerful model that better learns the relationship between the input image and the given classes. Luckily, there are tools and methods of doing just this. We can use tools such as batch normalisation, adding more convolutional layers, or increasing the number of channels in the concoltional layers. In ResNet, at the end, we use a new concept of 'residual blocks' for better training, as well as an optimiser than updates te learning rate during training."
      ],
      "metadata": {
        "id": "vTyR4Rb3yxnF"
      },
      "id": "vTyR4Rb3yxnF"
    },
    {
      "cell_type": "code",
      "source": [
        "# Results from computation of 40 epochs\n",
        "\n",
        "losses = [2.291115410797431, 2.148948510284619, 1.9121665567388315,\n",
        "          1.7543728436960284, 1.637560645942493, 1.5560105423183392,\n",
        "          1.4838974399639822, 1.427204738187668, 1.3787011466062893,\n",
        "          1.331928366895222, 1.283140567257581, 1.2420185533021113,\n",
        "          1.2061319261255776, 1.1617660466057564, 1.1244802942971135,\n",
        "          1.0874351320974052, 1.0554725700022314, 1.0265474505436696,\n",
        "          0.9982285975190379, 0.966488349468202, 0.9450786877471162,\n",
        "          0.9159211824312234, 0.894616000945001, 0.8687216737081328,\n",
        "          0.8509254390016541, 0.823837133472228, 0.8016081813656156,\n",
        "          0.7815181946815433, 0.7581117176033957, 0.7391059174562049,\n",
        "          0.7165729947712111, 0.7026683135563151, 0.6786948660450518,\n",
        "          0.6581839047886832, 0.6382976758205677, 0.6198027787915886,\n",
        "          0.5993096672970316, 0.5829567461824783, 0.5610159378679817,\n",
        "          0.5442586294220536]\n",
        "\n",
        "fig, ax = plt.subplots()\n",
        "\n",
        "ax.set_title('Loss vs number of epochs (batch size 128)')\n",
        "ax.set_xlabel('Epochs')\n",
        "ax.set_ylabel('Loss')\n",
        "ax.set_xticks(np.arange(0, 40 + 1, 5))\n",
        "ax.set_yticks(np.arange(0, 3, 0.2))\n",
        "fig.autofmt_xdate(rotation=90)\n",
        "ax.plot(range(len(losses)), losses, color='orange', marker='x', linewidth=0.6,\n",
        "        label='GPU')\n",
        "plt.legend(loc=\"upper right\")\n",
        "plt.grid()\n",
        "\n",
        "plt.show()"
      ],
      "metadata": {
        "colab": {
          "base_uri": "https://localhost:8080/",
          "height": 432
        },
        "id": "6vXbYiCXBnR-",
        "outputId": "186a3449-5a1c-40ce-d762-93a3e94aa784"
      },
      "id": "6vXbYiCXBnR-",
      "execution_count": 77,
      "outputs": [
        {
          "output_type": "display_data",
          "data": {
            "text/plain": [
              "<Figure size 640x480 with 1 Axes>"
            ],
            "image/png": "[encoded data removed]"
          },
          "metadata": {}
        }
      ]
    },
    {
      "cell_type": "markdown",
      "source": [
        "Note that the training loss continues to decreases steadily as the number of epochs increase. But, as we can see from the previous graph, the accuracy plateaus and doesn't decrease beyond a certain point.\n",
        "\n",
        "This is because of overfitting. The model, in an attempt to continue minimising the loss, will try to memorize patterns specific to the dataset too much. This causes it to be unable to perform better on unseen data, and often the performance of the model, in terms of the accuracy, will start to decrease at this point as more noise is added in the model.\n",
        "\n",
        "Using techniches such as batch normalisation, dropout, and residual layers will be explored later; we shall see that this leads to a more accurate model."
      ],
      "metadata": {
        "id": "AwLNqMo-Bp9Z"
      },
      "id": "AwLNqMo-Bp9Z"
    },
    {
      "cell_type": "markdown",
      "source": [
        "## Comparison of GPU vs CPU computions\n",
        "\n",
        "Below, we see that the training time on different batch sizes follows a similar pattern for both GPU and CPU computations; however, GPU is consistently much faster. We keep the number of epochs then same, for comparison.\n",
        "\n",
        "Then we show how the accuracy varies as a function of the number of epochs used to train the network."
      ],
      "metadata": {
        "id": "-u_wbUE1Ezze"
      },
      "id": "-u_wbUE1Ezze"
    },
    {
      "cell_type": "code",
      "source": [
        "# (batch size, runtime (seconds), accuracy)\n",
        "\n",
        "gpu_computes = [(4, 433.3880789, 73.8),\n",
        "                (8, 216.0823815, 73.39),\n",
        "                (16, 114.7200339, 73.57),\n",
        "                (32, 89.74474382, 71.45),\n",
        "                (64, 79.80019307, 63.16),\n",
        "                (128, 72.4001863, 51.89),\n",
        "                (256, 68.97899532, 41.75),\n",
        "                (512, 66.80634308, 31.77),\n",
        "                (1024, 67.52044535, 22.18)]\n",
        "\n",
        "cpu_computes = [(4, 1081.162732, 72.04),\n",
        "                (8, 811.0543149, 73.05),\n",
        "                (16, 654.4295506, 73.77),\n",
        "                (32, 598.5905275, 71.34),\n",
        "                (64, 546.3165207, 64.15),\n",
        "                (128, 530.3795588, 52.67),\n",
        "                (256, 566.4555404, 43.82),\n",
        "                (512, 636.495065, 32.08),\n",
        "                (1024, 691.1057892, 20.7)]"
      ],
      "metadata": {
        "id": "m5Lq7jvwDgEn"
      },
      "id": "m5Lq7jvwDgEn",
      "execution_count": null,
      "outputs": []
    },
    {
      "cell_type": "code",
      "source": [
        "x1 = [x[0] for x in gpu_computes]\n",
        "gpu_times = [x[1] for x in gpu_computes]\n",
        "x2 = [x[0] for x in cpu_computes]\n",
        "cpu_times = [x[1] for x in cpu_computes]\n",
        "\n",
        "fig, ax = plt.subplots() # using matplotlib's Object Oriented API\n",
        "\n",
        "ax.set_title('Training time on different batch size (with 10 epochs)')\n",
        "ax.set_xlabel('Batch size')\n",
        "ax.set_ylabel('Time (seconds)')\n",
        "ax.set_xticks(np.arange(0, 1000 + 1, 50))\n",
        "ax.set_yticks(np.arange(0, 1100 + 1, 100))\n",
        "fig.autofmt_xdate(rotation=90)\n",
        "ax.plot(x2, cpu_times, color='blue', marker='x', linewidth=0.6, label='CPU')\n",
        "ax.plot(x1, gpu_times, color='orange', marker='x', linewidth=0.6, label='GPU')\n",
        "plt.legend(loc=\"upper right\")\n",
        "plt.grid()\n",
        "plt.show()"
      ],
      "metadata": {
        "colab": {
          "base_uri": "https://localhost:8080/",
          "height": 450
        },
        "id": "vdq5CkygDgJz",
        "outputId": "a9f7efcd-cbbb-4b8a-b06e-4992cd9533f5"
      },
      "id": "vdq5CkygDgJz",
      "execution_count": null,
      "outputs": [
        {
          "output_type": "display_data",
          "data": {
            "text/plain": [
              "<Figure size 640x480 with 1 Axes>"
            ],
            "image/png": "[encoded data removed]"
          },
          "metadata": {}
        }
      ]
    },
    {
      "cell_type": "code",
      "source": [
        "# More computes for lower batch sizes\n",
        "gpu_computes1 = [(1, 1650.808966, 57.71),\n",
        "                 (2, 795.7941215, 69.89),\n",
        "                 (4, 418.9475262, 72.05),\n",
        "                 (8, 213.3426504, 73.51),\n",
        "                 (12, 146.6565442, 73.76),\n",
        "                 (16, 114.7200339, 73.57),\n",
        "                 (32, 89.74474382, 71.45),\n",
        "                 (64, 79.80019307, 63.16)]\n",
        "\n",
        "x3 = [x[0] for x in gpu_computes1]\n",
        "gpu_acc = [x[2] for x in gpu_computes1]\n",
        "\n",
        "fig, ax = plt.subplots() # using matplotlib's Object Oriented API\n",
        "\n",
        "ax.set_title('Accuracy vs batch size (10 epochs)')\n",
        "ax.set_xlabel('Batch size')\n",
        "ax.set_ylabel('Accuracy (%)')\n",
        "ax.set_xticks(np.arange(0, 70 + 1, 10))\n",
        "ax.set_yticks(np.arange(54, 81, 2))\n",
        "fig.autofmt_xdate(rotation=90)\n",
        "ax.plot(x3, gpu_acc, color='orange', marker='x', linewidth=0.6, label='GPU')\n",
        "plt.legend(loc=\"upper right\")\n",
        "plt.grid()\n",
        "\n",
        "plt.show()"
      ],
      "metadata": {
        "colab": {
          "base_uri": "https://localhost:8080/",
          "height": 432
        },
        "id": "7yXj_cOODlcV",
        "outputId": "e96e8b77-1f4f-4573-ae46-f2d1c2c21d51"
      },
      "id": "7yXj_cOODlcV",
      "execution_count": null,
      "outputs": [
        {
          "output_type": "display_data",
          "data": {
            "text/plain": [
              "<Figure size 640x480 with 1 Axes>"
            ],
            "image/png": "[encoded data removed]"
          },
          "metadata": {}
        }
      ]
    },
    {
      "cell_type": "markdown",
      "source": [
        "The accuracy is initially very low, as the batch size is tiny. The accuracy then reaches a peak, and then diminishes as the batch size increases.\n",
        "\n",
        "With the batch size, there is a certain trade-off between the accuracy of the model, and the speed. As we saw from the graph, a small batch size has a very large computation time, while larger batch sizes  greatly reduce the training time. So we can see that we need a balance between the training time of the mode, and accuracy.  This is also explained [here](https://www.kaggle.com/code/shadabhussain/cifar-10-cnn-using-pytorch).\n",
        "\n",
        "\n",
        "Inspecting these graphs, we can see that a batch size of around 12, with 10 epochs, leads to the highest accuracy. Furthermore, on GPU, this does not have an enormous runtime; this shows the benefit parallel computation architecture of the GPU.\n",
        "\n",
        "Note that larger batch sizes are less susceptible to random fluctuations within the trainset. This is because the training, in each epoch, is done over more data which smooths out these abnormalities, so to speak. However, a larger batch size may cause the model to converge slower; this is another of the many trade-offs we encounter in machine learning. There is no ideal batch size, and there needs to be an analysis to decide on a case-by-case basis which is the best for each model."
      ],
      "metadata": {
        "id": "G3cJNT9L-kd6"
      },
      "id": "G3cJNT9L-kd6"
    },
    {
      "cell_type": "markdown",
      "id": "ad6adf9f",
      "metadata": {
        "id": "ad6adf9f"
      },
      "source": [
        "## <ins>Batch normalisation (used in ResNet)</ins> $[7]$\n",
        "\n",
        "We shall explore the ways in which batch normalisation can be used to improve the performance of neural networks, as well as other advantages its use offers.\n",
        "\n",
        "One of the most integral and ubiquitous problems in the field of data science, when training classifiers, is that of over-fitting. The issue can be typified by the following: consider a scenario where a model performs very well during training — so well that we become very optimistic about its further employment on unseen data; however, when applied to unseen test data, the model fails to deliver the expected strong performance we had hoped for; here we come across the problem: overfitting. The model has been trained too well on the given training data, and therefore it has not the ability to adapt and deliver well on new data. An attempt to solve this problem is a method of regularisation: this technique aids the speed of convergence of a model. Various such techniques exist, such as batch normalisation, as well as weight initialisation techniques.\n",
        "\n",
        "### So, [what is batch normalisation](https://www.analyticsvidhya.com/blog/2021/03/introduction-to-batch-normalization/#:~:text=By%20reducing%20internal%20covariate%20shift%2C%20batch%20normalization%20allows%20for%20higher,more%20efficient%20neural%20network%20training.)?\n",
        "\n",
        "Firstly, let us clearly define what we mean by our use of the term ‘normalisation.’ Normalisation is a pre-processing technique that we employ onto data in order to scale it, without distorting its shape.\n",
        "\n",
        "In deep learning models, it is most often beneficial to scale the data in this manner. This way, we attempt to ensure that our model is able to successfully generalise (onto unseen data).\n",
        "\n",
        "Batch normalisation aims to make faster the performance of neural networks, as well as increasing their stability by adding more layers into the network. These new layers perform standardisation and normalisation operations on the inputted data that ‘arrives’ from the previous layer.\n",
        "\n",
        "### Now, why should we use batches?\n",
        "\n",
        "Typically, the process of training a neural network uses data that are split into a collected set that is termed a ‘batch.’ Therefore, the normalisation operations are performed on these data batches, and not on the entire dataset at once. This process has the advantage of speeding up the training process by normalising the activation layer.\n",
        "\n",
        "Note that if the features vary widely, such as those not on the same scale (e.g. age and miles driven), larger datapoints can cause instability in the network, since the realtively large inputs can cascade down through the layers in the network, potentially resulting in highly imbalanced gradients. Furthermore, non-normalised data decrease training speeds.\n",
        "\n",
        "Note that, through the process of stochastic gradient descent, during training, some weights sometimes become much larger than the others. This causes imbalance and instability in the network. Batch normalisation at each stage the batches enter the next layer, or simply just the layers one chooses, aims to solve this issue. This very process is trainable, and can therefore be optimised. The parameters of the normalisation, such as the mean, standard deviation, and weight ceofficients can all be trained.\n",
        "\n",
        "\n",
        "Training Convolutional Neural Network (CNN) is a computationally intensive task whose parallelization has become critical in order to complete the training in an acceptable time. However, there are two obstacles to developing a scalable parallel CNN in a distributed-memory computing environment. One is the high degree of data dependency exhibited in the model parameters across every two adjacent minibatches and the other is the large amount of data to be transferred across the communication channel. In this paper, we present a parallelization strategy that maximizes the overlap of inter-process communication with the computation. The overlapping is achieved by using a thread per compute node to initiate communication after the gradients are available. The output data of backpropagation stage is generated at each model layer, and the communication for the data can run concurrently with the computation of other layers. To study the effectiveness of the overlapping and its impact on the scalability, we evaluated various model architectures and hyperparameter settings. When training VGG-A model using ImageNet data sets, we achieve speedups of 62.97× and 77.97× on 128 compute nodes using mini-batch sizes of 256 and 512, respectively."
      ]
    },
    {
      "cell_type": "markdown",
      "id": "1dc2c6cf",
      "metadata": {
        "id": "1dc2c6cf"
      },
      "source": [
        "## <ins>ResNet</ins>\n",
        "\n",
        "ResNet, or residual network, is a term for a form of neural network that uses in its architecture the notion of 'residual blocks.' Inputs into these blocks can 'skip' layers and be added to the output of a layer further in the network. This is done through a process of 'shortcuts.'\n",
        "\n",
        "### Motivation: what do we mean by the 'residual?'\n",
        "\n",
        "Suppose we have the following problem: we wish to create a function (i.e. a neural network) that takes as an input a low-resolution image and outptus a higher resolution version of the image. Clearly, an input image has a limited amount of information, and we cannot magically make clearer what we do not know is there; however, with machine learning and AI, we can create a model that accomplishes this task. Such a model can be trained on thousands of images to learn how to 'predict' what information is missing from the original image – we call this missing information the 'residual'; the original low-resolution input image can then be augmented with this learnt information to form a high-resoltuion output.\n",
        "\n",
        "So, given that we have low-resolution input image data at the time of training, we can create a network to learn only the part of the image that we care about – the residual. Framing the problem in this way makes the network's job much easier, since it doesn't need to retain the entire input signal. This was the same intuition that inspired the authors of the 2015 paper 'Deep Residual Learning for Image Recognition.' $[11]$ This paper is considered seminal in the field of deep learning. It is rare to find a model architecture in deep learning that does not utilise the contributions from this paper in some fashion.\n",
        "\n",
        "Now, we often want to create a model with inputs and outputs that do not share the same dimensions. For example, in image classification, where you have an input image and map it to a single class label. How do we meaningfully add inputs and outputs in such a scenario? We must consider how the input signal is propagated throughout the network. What we don't want to do is lose track of an input signal after several layers in the network. Now, if we add residual connections all the way along the network, we can boost the input signal all the way along the network. This allows us to sum inputs and outputs, since the dimensionality is adjusted on the go. The nework is then a series of 'residual blocks,' rather than independent layers. Thus, the network has the option of not fully-utilising all the blocks, since it is easy for each block to output the identity function, and take no penalty in relation to the loss function; this allows us to train extemely deep networks.\n",
        "\n",
        "### A closer look at the architecture: the residual block\n",
        "\n",
        "<img src=\"https://production-media.paperswithcode.com/methods/resnet-e1548261477164_2_mD02h5A.png\" alt=\"residual block\" style=\"width:350px;\"/>\n",
        "\n",
        "In the above diagram an input (or identity), $x$, arrives into the weight layer. This layer includes a convolutional layer, batch normalisation, and then an activation layer using the ReLU function. Then we pass through another convolutional layer and then batch normalisaion These layers aim to learn the residual function, $F(x)$, with respect to the input signal. The identity is added to this function, yielding $\n",
        "F(x) + x$, and then ReLU is applied. More formally, a desired underlying mapping $H(x)$ can be expressed as $F(x) := F(x) - x$. We then recast the original mapping into $F(x) + x$, where $F(x)$ acts as a residual. This defines the residual block.\n",
        "\n",
        "#### Below is a sample of code that uses pytorch to implement the forward pass of a residual block.\n",
        "\n"
      ]
    },
    {
      "cell_type": "code",
      "execution_count": null,
      "id": "8f0e6981",
      "metadata": {
        "id": "8f0e6981"
      },
      "outputs": [],
      "source": [
        "def fwd(self, x): # x is a tensor\n",
        "        identity = x\n",
        "\n",
        "        out = self.conv1(x)\n",
        "        out = self.bn1(out)\n",
        "        out = self.relu(out)\n",
        "\n",
        "        out = self.conv2(out)\n",
        "        out = self.bn2(out)\n",
        "\n",
        "        if self.downsample is not None:\n",
        "            identity = self.downsample(x)\n",
        "\n",
        "        out += identity\n",
        "        out = self.relu(out)\n",
        "\n",
        "        return out"
      ]
    },
    {
      "cell_type": "markdown",
      "id": "cdd5832b",
      "metadata": {
        "id": "cdd5832b"
      },
      "source": [
        "### The issue of dimensionality\n",
        "\n",
        "In the original paper, the authors proposed a method of downsampling throughout the network, where convolutional layers ocasionally have a stride of two. This produces features with half the heigh, half the width, and double the number of convolutional filters, which in-turn doubles the number of channels in the output features. A problem here arises with dimension matching, since the input that is sent through the residual connection does not have the same dimensions as the features coning through the network.\n",
        "\n",
        "#### The authors' proposed a solution:\n",
        "\n",
        "The solution is to match the number of channels by passing over the input features with a 1x1 convolution. 'A projection shortcut is used to match dimensions (done by 1x1 convolutions).' This, of course, adds extra parameters. A stride of two is used: 'when the shortcuts go across feature maps of two sizes, they are performed with a stride of 2.' This means that the output feature maps have half the width, half the height, and double the channels. Hence, they exactly match the current input features in the network. The authors found this approach to be the best."
      ]
    },
    {
      "cell_type": "markdown",
      "id": "06838205",
      "metadata": {
        "id": "06838205"
      },
      "source": [
        "## <ins>Implementing ResNet</ins>\n",
        "\n",
        "This code is taken from/inspired by the following link."
      ]
    },
    {
      "cell_type": "code",
      "execution_count": 96,
      "id": "8d36b55e",
      "metadata": {
        "id": "8d36b55e"
      },
      "outputs": [],
      "source": [
        "def accuracy(outputs, labels):\n",
        "    _, preds = torch.max(outputs, dim=1)\n",
        "    return torch.tensor(torch.sum(preds == labels).item() / len(preds))\n",
        "\n",
        "class ImageClassificationBase(nn.Module):\n",
        "    def training_step(self, batch):\n",
        "        images, labels = batch\n",
        "        out = self(images)                  # Generate predictions\n",
        "        loss = F.cross_entropy(out, labels) # Calculate loss\n",
        "        return loss\n",
        "\n",
        "    def validation_step(self, batch):\n",
        "        images, labels = batch\n",
        "        out = self(images)                    # Generate predictions\n",
        "        loss = F.cross_entropy(out, labels)   # Calculate loss\n",
        "        acc = accuracy(out, labels)           # Calculate accuracy\n",
        "        return {'val_loss': loss.detach(), 'val_acc': acc}\n",
        "\n",
        "    def validation_epoch_end(self, outputs):\n",
        "        batch_losses = [x['val_loss'] for x in outputs]\n",
        "        epoch_loss = torch.stack(batch_losses).mean()   # Combine losses\n",
        "        batch_accs = [x['val_acc'] for x in outputs]\n",
        "        epoch_acc = torch.stack(batch_accs).mean()      # Combine accuracies\n",
        "        return {'val_loss': epoch_loss.item(), 'val_acc': epoch_acc.item()}\n",
        "\n",
        "    def test_step(self, batch):\n",
        "        images, labels = batch\n",
        "        out = self(images)                    # Generate predictions\n",
        "        loss = F.cross_entropy(out, labels)   # Calculate loss\n",
        "        acc = accuracy(out, labels)           # Calculate accuracy\n",
        "        return {'test_loss': loss.detach(), 'test_acc': acc}\n",
        "\n",
        "    def test_epoch_end(self, outputs):\n",
        "        batch_losses = [x['test_loss'] for x in outputs]\n",
        "        epoch_loss = torch.stack(batch_losses).mean()   # Combine losses\n",
        "        batch_accs = [x['test_acc'] for x in outputs]\n",
        "        epoch_acc = torch.stack(batch_accs).mean()      # Combine accuracies\n",
        "        return {'test_loss': epoch_loss.item(), 'test_acc': epoch_acc.item()}\n",
        "\n",
        "    def epoch_end(self, epoch, result):\n",
        "        print(\"Epoch [{}], train_loss: {:.4f}, val_loss: {:.4f}, val_acc: {:.4f}\".format(\n",
        "            epoch, result['train_loss'], result['val_loss'], result['val_acc']))"
      ]
    },
    {
      "cell_type": "code",
      "execution_count": 97,
      "id": "bffc973b",
      "metadata": {
        "id": "bffc973b"
      },
      "outputs": [],
      "source": [
        "def evaluate(model, val_loader):\n",
        "    model.eval()\n",
        "    outputs = [model.validation_step(batch) for batch in val_loader]\n",
        "    return model.validation_epoch_end(outputs)\n",
        "\n",
        "def test(model, test_loader):\n",
        "    model.eval()\n",
        "    outputs = [model.test_step(batch) for batch in test_loader]\n",
        "    return model.test_epoch_end(outputs)\n",
        "\n",
        "def fit(epochs, lr, model, train_loader, val_loader, opt_func):\n",
        "    history = [] #store model accuracy and loss for each epoch\n",
        "    training_start_time=time.time()\n",
        "    optimizer = opt_func\n",
        "    for epoch in range(epochs):\n",
        "        # Training Phase\n",
        "        model.train()\n",
        "        train_losses = []\n",
        "        for batch in train_loader:\n",
        "            loss = model.training_step(batch)\n",
        "            train_losses.append(loss)\n",
        "            loss.backward()\n",
        "            optimizer.step()\n",
        "            optimizer.zero_grad()\n",
        "        # Validation phase\n",
        "        result = evaluate(model, val_loader)\n",
        "        result['train_loss'] = torch.stack(train_losses).mean().item()\n",
        "        model.epoch_end(epoch, result)\n",
        "        history.append(result)\n",
        "    print('Training finished, took {:.2f}s'.format(time.time() - training_start_time))\n",
        "    return history"
      ]
    },
    {
      "cell_type": "code",
      "execution_count": 98,
      "id": "a5eb04fa",
      "metadata": {
        "id": "a5eb04fa"
      },
      "outputs": [],
      "source": [
        "def get_default_device():\n",
        "    \"\"\"Pick GPU if available, else CPU\"\"\"\n",
        "    if torch.cuda.is_available():\n",
        "        return torch.device('cuda')\n",
        "    else:\n",
        "        return torch.device('cpu')\n",
        "\n",
        "device = get_default_device()\n",
        "def to_device(data, device):\n",
        "    \"\"\"Move tensor(s) to chosen device\"\"\"\n",
        "    if isinstance(data, (list,tuple)):\n",
        "        return [to_device(x, device) for x in data]\n",
        "    return data.to(device, non_blocking=True)\n",
        "\n",
        "class DeviceDataLoader():\n",
        "    \"\"\"Wrap a dataloader to move data to a device\"\"\"\n",
        "    def __init__(self, dl, device):\n",
        "        self.dl = dl\n",
        "        self.device = device\n",
        "\n",
        "    def __iter__(self):\n",
        "        \"\"\"Yield a batch of data after moving it to device\"\"\"\n",
        "        for b in self.dl:\n",
        "            yield to_device(b, self.device)\n",
        "\n",
        "    def __len__(self):\n",
        "        \"\"\"Number of batches\"\"\"\n",
        "        return len(self.dl)"
      ]
    },
    {
      "cell_type": "code",
      "source": [
        "def plot_loss_accuracy(history):\n",
        "    train_losses = [x['train_loss'] for x in history]\n",
        "    val_losses = [x['val_loss'] for x in history]\n",
        "    accuracies = [x['val_acc'] for x in history]\n",
        "    fig, axes = plt.subplots(nrows=1, ncols=2, figsize=(12, 6))\n",
        "    axes[0].plot(val_losses,'-x', label='val loss', color='blue')\n",
        "    axes[0].plot(train_losses,'-x', label='train loss', color='orange')\n",
        "    axes[0].set_xlabel('epoch')\n",
        "    axes[0].set_ylabel('loss')\n",
        "    axes[0].set_title('Loss vs. No. of epochs')\n",
        "    axes[0].set_xticks(np.arange(0, 31, 2))\n",
        "    axes[0].legend()\n",
        "\n",
        "\n",
        "    axes[1].plot(accuracies,'-x')\n",
        "    axes[1].set_xlabel('epoch')\n",
        "    axes[1].set_ylabel('accuracy')\n",
        "    axes[1].set_title('Accuracy vs. No. of epochs')\n",
        "    axes[1].set_xticks(np.arange(0, 31, 2))\n",
        "    plt.show()"
      ],
      "metadata": {
        "id": "6IDOj0PDqqM2"
      },
      "id": "6IDOj0PDqqM2",
      "execution_count": 121,
      "outputs": []
    },
    {
      "cell_type": "code",
      "source": [
        "train_data = torchvision.datasets.CIFAR10(root='./data', train=True,\n",
        "                                        download=True, transform=transform)\n",
        "test_data = torchvision.datasets.CIFAR10(root='./data', train=False,\n",
        "                                       download=True, transform=transform)"
      ],
      "metadata": {
        "colab": {
          "base_uri": "https://localhost:8080/"
        },
        "id": "9-qJbaolHnVE",
        "outputId": "aee5c79f-c241-4909-e110-0f298028e370"
      },
      "id": "9-qJbaolHnVE",
      "execution_count": 100,
      "outputs": [
        {
          "output_type": "stream",
          "name": "stdout",
          "text": [
            "Files already downloaded and verified\n",
            "Files already downloaded and verified\n"
          ]
        }
      ]
    },
    {
      "cell_type": "code",
      "source": [
        "# Create smaller validation set within training set\n",
        "torch.manual_seed(42)\n",
        "val_size=5000 #10% of training data\n",
        "train_size=len(train_data)-val_size\n",
        "train_data,valset=torch.utils.data.random_split(train_data,[train_size,val_size])\n",
        "print(len(train_data), len(valset))"
      ],
      "metadata": {
        "colab": {
          "base_uri": "https://localhost:8080/"
        },
        "id": "z1HJ0_n3N0E6",
        "outputId": "59579b5a-79ab-4095-cf48-b36d1ea924ff"
      },
      "id": "z1HJ0_n3N0E6",
      "execution_count": 101,
      "outputs": [
        {
          "output_type": "stream",
          "name": "stdout",
          "text": [
            "45000 5000\n"
          ]
        }
      ]
    },
    {
      "cell_type": "code",
      "source": [
        "batch_size = 128\n",
        "train_data=torch.utils.data.DataLoader(train_data, batch_size, shuffle=True,\n",
        "                                       pin_memory=True)\n",
        "valset=torch.utils.data.DataLoader(valset,batch_size, shuffle=False,\n",
        "                                     pin_memory=True)\n",
        "test_data=torch.utils.data.DataLoader(test_data, batch_size, shuffle=False,\n",
        "                                      pin_memory=True)"
      ],
      "metadata": {
        "id": "8CsbYns5L10T"
      },
      "id": "8CsbYns5L10T",
      "execution_count": 102,
      "outputs": []
    },
    {
      "cell_type": "code",
      "source": [
        "train_data = DeviceDataLoader(train_data, device)\n",
        "valset = DeviceDataLoader(valset, device)\n",
        "test_data = DeviceDataLoader(test_data, device)"
      ],
      "metadata": {
        "id": "CULE3BoPL13Y"
      },
      "id": "CULE3BoPL13Y",
      "execution_count": 103,
      "outputs": []
    },
    {
      "cell_type": "code",
      "source": [
        "class ResNet(ImageClassificationBase):\n",
        "\n",
        "    def __init__(self):\n",
        "        super().__init__()\n",
        "        self.network=nn.Sequential(\n",
        "            nn.Conv2d(3,32,3,padding=1),\n",
        "            nn.BatchNorm2d(32),#2D Batch Normalization since our inputs are 4D.\n",
        "            nn.ReLU(),\n",
        "            nn.MaxPool2d(2,2),\n",
        "            nn.Dropout(0.25),\n",
        "\n",
        "            nn.Conv2d(32,64,3,padding=1),\n",
        "            nn.BatchNorm2d(64),\n",
        "            nn.ReLU(),\n",
        "            nn.Dropout(0.25),\n",
        "\n",
        "            nn.Conv2d(64,128,3,padding=1),\n",
        "            nn.BatchNorm2d(128),\n",
        "            nn.ReLU(),\n",
        "            nn.MaxPool2d(2,2),\n",
        "            nn.Dropout(0.25),\n",
        "\n",
        "            nn.Conv2d(128,128,3,padding=1),\n",
        "            nn.BatchNorm2d(128),\n",
        "            nn.ReLU(),\n",
        "            nn.Dropout(0.25),\n",
        "\n",
        "            nn.Conv2d(128,128,3,padding=1),\n",
        "            nn.BatchNorm2d(128),\n",
        "            nn.ReLU(),\n",
        "            nn.MaxPool2d(2,2),\n",
        "            nn.Dropout(0.25),\n",
        "\n",
        "            nn.Flatten(),\n",
        "            nn.Linear(128*4*4,512),\n",
        "            nn.ReLU(),\n",
        "            nn.Linear(512,256),\n",
        "            nn.ReLU(),\n",
        "            nn.Linear(256,10))\n",
        "\n",
        "    def forward(self,x):\n",
        "        return self.network(x)"
      ],
      "metadata": {
        "id": "qGleUf_ttUen"
      },
      "id": "qGleUf_ttUen",
      "execution_count": 104,
      "outputs": []
    },
    {
      "cell_type": "code",
      "source": [
        "model_ResNet = to_device(ResNet(), device)"
      ],
      "metadata": {
        "id": "iCflcwzYtUgv"
      },
      "id": "iCflcwzYtUgv",
      "execution_count": 105,
      "outputs": []
    },
    {
      "cell_type": "code",
      "source": [
        "num_epochs=30\n",
        "lr=0.001\n",
        "opt_func=torch.optim.Adam(model_ResNet.parameters(), lr)\n"
      ],
      "metadata": {
        "id": "E5vlCP8A9Elg"
      },
      "id": "E5vlCP8A9Elg",
      "execution_count": 106,
      "outputs": []
    },
    {
      "cell_type": "markdown",
      "source": [
        "## Code takes a few minutes"
      ],
      "metadata": {
        "id": "vM3T3MXnPMKr"
      },
      "id": "vM3T3MXnPMKr"
    },
    {
      "cell_type": "code",
      "source": [
        "start = time.time()\n",
        "history_ResNet = fit(num_epochs, lr, model_ResNet, train_data, valset, opt_func)\n",
        "end = time.time()\n",
        "print('Finished Training')\n",
        "print(f'Runtime: {end - start} seconds')"
      ],
      "metadata": {
        "colab": {
          "base_uri": "https://localhost:8080/"
        },
        "id": "pIHAUVfotUl7",
        "outputId": "6cc6da85-171c-49ae-dcfc-48bf63a5d857"
      },
      "id": "pIHAUVfotUl7",
      "execution_count": 107,
      "outputs": [
        {
          "output_type": "stream",
          "name": "stdout",
          "text": [
            "Epoch [0], train_loss: 1.4119, val_loss: 1.1738, val_acc: 0.5957\n",
            "Epoch [1], train_loss: 1.0340, val_loss: 0.8504, val_acc: 0.6949\n",
            "Epoch [2], train_loss: 0.8668, val_loss: 0.7366, val_acc: 0.7314\n",
            "Epoch [3], train_loss: 0.7753, val_loss: 0.8529, val_acc: 0.7064\n",
            "Epoch [4], train_loss: 0.7052, val_loss: 0.7047, val_acc: 0.7521\n",
            "Epoch [5], train_loss: 0.6568, val_loss: 0.6761, val_acc: 0.7615\n",
            "Epoch [6], train_loss: 0.6048, val_loss: 0.6313, val_acc: 0.7812\n",
            "Epoch [7], train_loss: 0.5686, val_loss: 0.5864, val_acc: 0.7961\n",
            "Epoch [8], train_loss: 0.5335, val_loss: 0.5984, val_acc: 0.7895\n",
            "Epoch [9], train_loss: 0.5014, val_loss: 0.6183, val_acc: 0.7887\n",
            "Epoch [10], train_loss: 0.4719, val_loss: 0.5666, val_acc: 0.8045\n",
            "Epoch [11], train_loss: 0.4439, val_loss: 0.5824, val_acc: 0.8047\n",
            "Epoch [12], train_loss: 0.4209, val_loss: 0.5308, val_acc: 0.8293\n",
            "Epoch [13], train_loss: 0.3961, val_loss: 0.5653, val_acc: 0.8146\n",
            "Epoch [14], train_loss: 0.3768, val_loss: 0.5509, val_acc: 0.8232\n",
            "Epoch [15], train_loss: 0.3628, val_loss: 0.5291, val_acc: 0.8283\n",
            "Epoch [16], train_loss: 0.3380, val_loss: 0.5468, val_acc: 0.8230\n",
            "Epoch [17], train_loss: 0.3238, val_loss: 0.5119, val_acc: 0.8340\n",
            "Epoch [18], train_loss: 0.3033, val_loss: 0.5716, val_acc: 0.8219\n",
            "Epoch [19], train_loss: 0.2993, val_loss: 0.5671, val_acc: 0.8268\n",
            "Epoch [20], train_loss: 0.2797, val_loss: 0.5400, val_acc: 0.8311\n",
            "Epoch [21], train_loss: 0.2664, val_loss: 0.5240, val_acc: 0.8422\n",
            "Epoch [22], train_loss: 0.2582, val_loss: 0.5129, val_acc: 0.8412\n",
            "Epoch [23], train_loss: 0.2467, val_loss: 0.5635, val_acc: 0.8291\n",
            "Epoch [24], train_loss: 0.2308, val_loss: 0.5388, val_acc: 0.8348\n",
            "Epoch [25], train_loss: 0.2223, val_loss: 0.5587, val_acc: 0.8404\n",
            "Epoch [26], train_loss: 0.2163, val_loss: 0.5649, val_acc: 0.8318\n",
            "Epoch [27], train_loss: 0.2081, val_loss: 0.5578, val_acc: 0.8377\n",
            "Epoch [28], train_loss: 0.2015, val_loss: 0.6363, val_acc: 0.8262\n",
            "Epoch [29], train_loss: 0.1922, val_loss: 0.5746, val_acc: 0.8346\n",
            "Training finished, took 451.14s\n",
            "Finished Training\n",
            "Runtime: 451.1525888442993 seconds\n"
          ]
        }
      ]
    },
    {
      "cell_type": "code",
      "source": [
        "test(model_ResNet, test_data)"
      ],
      "metadata": {
        "colab": {
          "base_uri": "https://localhost:8080/"
        },
        "id": "1wn_DAVQR9UV",
        "outputId": "8f23c45b-51e5-4a48-a9a5-05caf945f606"
      },
      "id": "1wn_DAVQR9UV",
      "execution_count": 123,
      "outputs": [
        {
          "output_type": "execute_result",
          "data": {
            "text/plain": [
              "{'test_loss': 0.6195818185806274, 'test_acc': 0.8262460231781006}"
            ]
          },
          "metadata": {},
          "execution_count": 123
        }
      ]
    },
    {
      "cell_type": "markdown",
      "source": [
        "### Success!\n",
        "\n",
        "The accuracy of the ResNet model is much higher than before. Note that many more improvements can be made, and state-of-the-art models are now pushing towards 100% test accuracy. An [example](https://myrtle.ai/learn/how-to-train-your-resnet/) blog achieves a 94% accuracy threshhold on a single V100 GPU - the same used here."
      ],
      "metadata": {
        "id": "tP1_UHw1SIdp"
      },
      "id": "tP1_UHw1SIdp"
    },
    {
      "cell_type": "code",
      "source": [
        "plot_loss_accuracy(history_ResNet)"
      ],
      "metadata": {
        "colab": {
          "base_uri": "https://localhost:8080/",
          "height": 564
        },
        "id": "0MzWTNha9IGM",
        "outputId": "04395234-d845-408f-c41d-bf33b499a848"
      },
      "id": "0MzWTNha9IGM",
      "execution_count": 122,
      "outputs": [
        {
          "output_type": "display_data",
          "data": {
            "text/plain": [
              "<Figure size 1200x600 with 2 Axes>"
            ],
            "image/png": "[encoded data removed]"
          },
          "metadata": {}
        }
      ]
    },
    {
      "cell_type": "markdown",
      "source": [
        "We note that in the graph on the left, the validation loss (note that the loss is a measure of error) stops decreasing after a certain number of epochs, while the training loss continues to decrease. We discussed this earlier, and this is due to overfitting of the model. Overfitting is one of the main problems we must overcome in datascience, and machine learning. If we were to train using even more epochs, we would find that the validation loss will incrase. This will, in-turn, cause the test accuracy of the model to fall. This is because it fails to adapt to new unseen data when it is overfitted to the training data.\n",
        "\n",
        "This empircal result mirrors this theoretical graph, found [here](https://www.kaggle.com/code/shadabhussain/cifar-10-cnn-using-pytorch).\n",
        "\n",
        "<img src=\"https://i.stack.imgur.com/1QU0m.png\" alt=\"graph\" style=\"width:350px;\"/>\n",
        "\n",
        "\n",
        "\n"
      ],
      "metadata": {
        "id": "buKMZZ-L_RrO"
      },
      "id": "buKMZZ-L_RrO"
    },
    {
      "cell_type": "code",
      "source": [
        "# Storing the results of ResNet run with 30 epochs (training of 451 seconds)\n",
        "\n",
        "results_ResNet = [{'val_loss': 1.1738336086273193,\n",
        "  'val_acc': 0.595703125,\n",
        "  'train_loss': 1.4118685722351074},\n",
        " {'val_loss': 0.8503761291503906,\n",
        "  'val_acc': 0.6949218511581421,\n",
        "  'train_loss': 1.0339841842651367},\n",
        " {'val_loss': 0.7366348505020142,\n",
        "  'val_acc': 0.7314453125,\n",
        "  'train_loss': 0.8667844533920288},\n",
        " {'val_loss': 0.8528968095779419,\n",
        "  'val_acc': 0.7064453363418579,\n",
        "  'train_loss': 0.7753389477729797},\n",
        " {'val_loss': 0.7047030925750732,\n",
        "  'val_acc': 0.752148449420929,\n",
        "  'train_loss': 0.7052079439163208},\n",
        " {'val_loss': 0.6760860681533813,\n",
        "  'val_acc': 0.761523425579071,\n",
        "  'train_loss': 0.6568374633789062},\n",
        " {'val_loss': 0.6313431859016418,\n",
        "  'val_acc': 0.78125,\n",
        "  'train_loss': 0.6048000454902649},\n",
        " {'val_loss': 0.5864030122756958,\n",
        "  'val_acc': 0.796093761920929,\n",
        "  'train_loss': 0.568634033203125},\n",
        " {'val_loss': 0.5983705520629883,\n",
        "  'val_acc': 0.7894531488418579,\n",
        "  'train_loss': 0.5335195660591125},\n",
        " {'val_loss': 0.6182528734207153,\n",
        "  'val_acc': 0.7886718511581421,\n",
        "  'train_loss': 0.5014123916625977},\n",
        " {'val_loss': 0.5665678381919861,\n",
        "  'val_acc': 0.804492175579071,\n",
        "  'train_loss': 0.4719301760196686},\n",
        " {'val_loss': 0.5824182033538818,\n",
        "  'val_acc': 0.8046875,\n",
        "  'train_loss': 0.44393500685691833},\n",
        " {'val_loss': 0.5307778716087341,\n",
        "  'val_acc': 0.829296886920929,\n",
        "  'train_loss': 0.42094457149505615},\n",
        " {'val_loss': 0.5653226971626282,\n",
        "  'val_acc': 0.814648449420929,\n",
        "  'train_loss': 0.39610767364501953},\n",
        " {'val_loss': 0.5508533716201782,\n",
        "  'val_acc': 0.8232421875,\n",
        "  'train_loss': 0.37676379084587097},\n",
        " {'val_loss': 0.5291057825088501,\n",
        "  'val_acc': 0.828320324420929,\n",
        "  'train_loss': 0.3627541959285736},\n",
        " {'val_loss': 0.5468037724494934,\n",
        "  'val_acc': 0.823046863079071,\n",
        "  'train_loss': 0.33803510665893555},\n",
        " {'val_loss': 0.5119414925575256,\n",
        "  'val_acc': 0.833984375,\n",
        "  'train_loss': 0.3238164782524109},\n",
        " {'val_loss': 0.5716387033462524,\n",
        "  'val_acc': 0.8218749761581421,\n",
        "  'train_loss': 0.3033255636692047},\n",
        " {'val_loss': 0.5671338438987732,\n",
        "  'val_acc': 0.8267577886581421,\n",
        "  'train_loss': 0.29927435517311096},\n",
        " {'val_loss': 0.5400354266166687,\n",
        "  'val_acc': 0.8310546875,\n",
        "  'train_loss': 0.27967146039009094},\n",
        " {'val_loss': 0.5239763259887695,\n",
        "  'val_acc': 0.8421875238418579,\n",
        "  'train_loss': 0.26642417907714844},\n",
        " {'val_loss': 0.5128991007804871,\n",
        "  'val_acc': 0.8412109613418579,\n",
        "  'train_loss': 0.2581913471221924},\n",
        " {'val_loss': 0.5635442137718201,\n",
        "  'val_acc': 0.8291015625,\n",
        "  'train_loss': 0.24669302999973297},\n",
        " {'val_loss': 0.5388285517692566,\n",
        "  'val_acc': 0.834765613079071,\n",
        "  'train_loss': 0.23084819316864014},\n",
        " {'val_loss': 0.5586759448051453,\n",
        "  'val_acc': 0.8404296636581421,\n",
        "  'train_loss': 0.22232389450073242},\n",
        " {'val_loss': 0.5649061799049377,\n",
        "  'val_acc': 0.831835925579071,\n",
        "  'train_loss': 0.21633465588092804},\n",
        " {'val_loss': 0.5578263401985168,\n",
        "  'val_acc': 0.837695300579071,\n",
        "  'train_loss': 0.2080903947353363},\n",
        " {'val_loss': 0.6362513899803162,\n",
        "  'val_acc': 0.826171875,\n",
        "  'train_loss': 0.20147116482257843},\n",
        " {'val_loss': 0.5746090412139893,\n",
        "  'val_acc': 0.8345702886581421,\n",
        "  'train_loss': 0.19216613471508026}]"
      ],
      "metadata": {
        "id": "P6wgeKu0oLRg",
        "colab": {
          "base_uri": "https://localhost:8080/"
        },
        "outputId": "5df9bbd6-1ab3-4edd-c280-4bbe18b598fb"
      },
      "id": "P6wgeKu0oLRg",
      "execution_count": 110,
      "outputs": [
        {
          "output_type": "execute_result",
          "data": {
            "text/plain": [
              "[{'val_loss': 1.1738336086273193,\n",
              "  'val_acc': 0.595703125,\n",
              "  'train_loss': 1.4118685722351074},\n",
              " {'val_loss': 0.8503761291503906,\n",
              "  'val_acc': 0.6949218511581421,\n",
              "  'train_loss': 1.0339841842651367},\n",
              " {'val_loss': 0.7366348505020142,\n",
              "  'val_acc': 0.7314453125,\n",
              "  'train_loss': 0.8667844533920288},\n",
              " {'val_loss': 0.8528968095779419,\n",
              "  'val_acc': 0.7064453363418579,\n",
              "  'train_loss': 0.7753389477729797},\n",
              " {'val_loss': 0.7047030925750732,\n",
              "  'val_acc': 0.752148449420929,\n",
              "  'train_loss': 0.7052079439163208},\n",
              " {'val_loss': 0.6760860681533813,\n",
              "  'val_acc': 0.761523425579071,\n",
              "  'train_loss': 0.6568374633789062},\n",
              " {'val_loss': 0.6313431859016418,\n",
              "  'val_acc': 0.78125,\n",
              "  'train_loss': 0.6048000454902649},\n",
              " {'val_loss': 0.5864030122756958,\n",
              "  'val_acc': 0.796093761920929,\n",
              "  'train_loss': 0.568634033203125},\n",
              " {'val_loss': 0.5983705520629883,\n",
              "  'val_acc': 0.7894531488418579,\n",
              "  'train_loss': 0.5335195660591125},\n",
              " {'val_loss': 0.6182528734207153,\n",
              "  'val_acc': 0.7886718511581421,\n",
              "  'train_loss': 0.5014123916625977},\n",
              " {'val_loss': 0.5665678381919861,\n",
              "  'val_acc': 0.804492175579071,\n",
              "  'train_loss': 0.4719301760196686},\n",
              " {'val_loss': 0.5824182033538818,\n",
              "  'val_acc': 0.8046875,\n",
              "  'train_loss': 0.44393500685691833},\n",
              " {'val_loss': 0.5307778716087341,\n",
              "  'val_acc': 0.829296886920929,\n",
              "  'train_loss': 0.42094457149505615},\n",
              " {'val_loss': 0.5653226971626282,\n",
              "  'val_acc': 0.814648449420929,\n",
              "  'train_loss': 0.39610767364501953},\n",
              " {'val_loss': 0.5508533716201782,\n",
              "  'val_acc': 0.8232421875,\n",
              "  'train_loss': 0.37676379084587097},\n",
              " {'val_loss': 0.5291057825088501,\n",
              "  'val_acc': 0.828320324420929,\n",
              "  'train_loss': 0.3627541959285736},\n",
              " {'val_loss': 0.5468037724494934,\n",
              "  'val_acc': 0.823046863079071,\n",
              "  'train_loss': 0.33803510665893555},\n",
              " {'val_loss': 0.5119414925575256,\n",
              "  'val_acc': 0.833984375,\n",
              "  'train_loss': 0.3238164782524109},\n",
              " {'val_loss': 0.5716387033462524,\n",
              "  'val_acc': 0.8218749761581421,\n",
              "  'train_loss': 0.3033255636692047},\n",
              " {'val_loss': 0.5671338438987732,\n",
              "  'val_acc': 0.8267577886581421,\n",
              "  'train_loss': 0.29927435517311096},\n",
              " {'val_loss': 0.5400354266166687,\n",
              "  'val_acc': 0.8310546875,\n",
              "  'train_loss': 0.27967146039009094},\n",
              " {'val_loss': 0.5239763259887695,\n",
              "  'val_acc': 0.8421875238418579,\n",
              "  'train_loss': 0.26642417907714844},\n",
              " {'val_loss': 0.5128991007804871,\n",
              "  'val_acc': 0.8412109613418579,\n",
              "  'train_loss': 0.2581913471221924},\n",
              " {'val_loss': 0.5635442137718201,\n",
              "  'val_acc': 0.8291015625,\n",
              "  'train_loss': 0.24669302999973297},\n",
              " {'val_loss': 0.5388285517692566,\n",
              "  'val_acc': 0.834765613079071,\n",
              "  'train_loss': 0.23084819316864014},\n",
              " {'val_loss': 0.5586759448051453,\n",
              "  'val_acc': 0.8404296636581421,\n",
              "  'train_loss': 0.22232389450073242},\n",
              " {'val_loss': 0.5649061799049377,\n",
              "  'val_acc': 0.831835925579071,\n",
              "  'train_loss': 0.21633465588092804},\n",
              " {'val_loss': 0.5578263401985168,\n",
              "  'val_acc': 0.837695300579071,\n",
              "  'train_loss': 0.2080903947353363},\n",
              " {'val_loss': 0.6362513899803162,\n",
              "  'val_acc': 0.826171875,\n",
              "  'train_loss': 0.20147116482257843},\n",
              " {'val_loss': 0.5746090412139893,\n",
              "  'val_acc': 0.8345702886581421,\n",
              "  'train_loss': 0.19216613471508026}]"
            ]
          },
          "metadata": {},
          "execution_count": 110
        }
      ]
    },
    {
      "cell_type": "markdown",
      "source": [
        "## Conclusion\n",
        "\n",
        "To conclude, we have found that the\n",
        "\n",
        "\n",
        "In this report, we train a convolutional neural network (CNN) for image classification. An appropriate dataset was chosen, and the CNN was trained to classify images from this dataset. Initially, we train a very simple model which has an test accuracy of about 60%. Next, we improve the model, and see the accuracy improve to around 70%. Finally, we implement a smarter, and more complex model called ResNet. This increases the accuracy to over 80%. That is, where the initial 'simple' model fell short, we explored multiple new implimentations. We also examine the mathematics behind CNNs.\n",
        "\n",
        "The question we aim to look at is: Can we use the parallel computation processes in GPUs to increase the training speed of convolutional neural networks, allowing us to train more complex (and therefore more accurarte) models?\n",
        "\n",
        "We tackle this problem in depth, by using many examples. What we find is that the answer is yes. We compare the runtime of the model when varying parameters that lead to increased computation. The operations involved in CNNs are mainly matrix (or tensor) operations; therefore, we perform experiments to see how the GPU - due to its architure of allowing many parallel processes - fares better than the CPU at these operations.\n",
        "\n",
        "In this project, we also delve deeply into how the convolutional neural works, and we also inspect the mathematics behind some of the functions and operations involed. We use the package PyTorch - a vital python tool for performing machine learning."
      ],
      "metadata": {
        "id": "WxXVE2XjjM4D"
      },
      "id": "WxXVE2XjjM4D"
    },
    {
      "cell_type": "markdown",
      "id": "94981f6c",
      "metadata": {
        "id": "94981f6c"
      },
      "source": [
        "## References\n",
        "\n",
        "$[1]$ L. Bottou (2012). Stochastic gradient descent tricks. In Neural Net- works: Tricks of the Trade.\n",
        "\n",
        "$[2]$ Kingma,  Diederik P. and Ba,  Jimmy (2014). Adam: A Method for Stochastic Optimization.\n",
        "\n",
        "$[3]$ Cohen,  Gregory and Afshar,  Saeed and Tapson,  Jonathan and van Schaik,  André (2017). EMNIST: an extension of MNIST to handwritten letters.\n",
        "\n",
        "$[4]$ O'Shea,  Keiron and Nash,  Ryan (2015). An Introduction to Convolutional Neural Networks\n",
        "\n",
        "$[5]$ Shannon, C. E. (1948). A Mathematical Theory of Communication. Bell   System Technical Journal.\n",
        "\n",
        "$[6]$ University of Illinois. CS412 Fall 2008.  Introduction to Data Warehousing and Data Mining (2.4.8 Kullback-Leibler Divergence)\n",
        "\n",
        "$[7]$ Balestriero,  Randall and Baraniuk,  Richard G. (2022). Batch Normalization Explained.\n",
        "\n",
        "$[8]$ Nikolay Manchev (2022). GPU-accelerated Convolutional Neural Networks with PyTorch. domino.ai\n",
        "\n",
        "$[9]$ Understanding NVIDIA CUDA: The Basics of GPU Parallel Computing. https://www.turing.com/kb/understanding-nvidia-cuda#what-is-cuda?\n",
        "\n",
        "$[10]$ Agarap,  Abien Fred (2018). Deep Learning using Rectified Linear Units (ReLU)\n",
        "\n",
        "$[11]$ He,  Kaiming and Zhang,  Xiangyu and Ren,  Shaoqing and Sun,  Jian (2015). Deep Residual Learning for Image Recognition.\n",
        "\n"
      ]
    }
  ],
  "metadata": {
    "kernelspec": {
      "display_name": "Python 3",
      "name": "python3"
    },
    "language_info": {
      "codemirror_mode": {
        "name": "ipython",
        "version": 3
      },
      "file_extension": ".py",
      "mimetype": "text/x-python",
      "name": "python",
      "nbconvert_exporter": "python",
      "pygments_lexer": "ipython3",
      "version": "3.11.5"
    },
    "colab": {
      "provenance": [],
      "machine_shape": "hm",
      "gpuType": "V100"
    },
    "accelerator": "GPU"
  },
  "nbformat": 4,
  "nbformat_minor": 5
}