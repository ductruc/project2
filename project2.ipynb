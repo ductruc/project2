{
  "cells": [
    {
      "cell_type": "code",
      "execution_count": 16,
      "id": "cea57417",
      "metadata": {
        "id": "cea57417"
      },
      "outputs": [],
      "source": [
        "# The two cells below aid with markdown formatting"
      ]
    },
    {
      "cell_type": "code",
      "execution_count": 17,
      "id": "e4b7d04d",
      "metadata": {
        "colab": {
          "base_uri": "https://localhost:8080/",
          "height": 17
        },
        "id": "e4b7d04d",
        "outputId": "55ca44ce-1c01-4d0b-86d4-1021c9a4f467"
      },
      "outputs": [
        {
          "output_type": "display_data",
          "data": {
            "text/plain": [
              "<IPython.core.display.Javascript object>"
            ],
            "application/javascript": [
              "MathJax.Hub.Config({\n",
              "    TeX: { equationNumbers: { autoNumber: \"AMS\" } }\n",
              "});\n"
            ]
          },
          "metadata": {}
        }
      ],
      "source": [
        "%%javascript\n",
        "MathJax.Hub.Config({\n",
        "    TeX: { equationNumbers: { autoNumber: \"AMS\" } }\n",
        "});"
      ]
    },
    {
      "cell_type": "code",
      "execution_count": 18,
      "id": "7c31e3b5",
      "metadata": {
        "colab": {
          "base_uri": "https://localhost:8080/",
          "height": 17
        },
        "id": "7c31e3b5",
        "outputId": "71992458-5391-45f3-f55d-cd90bbc4f0a0"
      },
      "outputs": [
        {
          "output_type": "display_data",
          "data": {
            "text/plain": [
              "<IPython.core.display.Javascript object>"
            ],
            "application/javascript": [
              "MathJax.Hub.Queue(\n",
              "  [\"resetEquationNumbers\", MathJax.InputJax.TeX],\n",
              "  [\"PreProcess\", MathJax.Hub],\n",
              "  [\"Reprocess\", MathJax.Hub]\n",
              ");\n"
            ]
          },
          "metadata": {}
        }
      ],
      "source": [
        "%%javascript\n",
        "MathJax.Hub.Queue(\n",
        "  [\"resetEquationNumbers\", MathJax.InputJax.TeX],\n",
        "  [\"PreProcess\", MathJax.Hub],\n",
        "  [\"Reprocess\", MathJax.Hub]\n",
        ");"
      ]
    },
    {
      "cell_type": "markdown",
      "id": "00ee3117",
      "metadata": {
        "id": "00ee3117"
      },
      "source": [
        "### Total runtime ~ 1300s"
      ]
    },
    {
      "cell_type": "markdown",
      "id": "7fa1000e",
      "metadata": {
        "id": "7fa1000e"
      },
      "source": [
        "# <ins>An Exploration of Convolutional Neural Networks for Image Classification and Examination of the Performance of CPU vs GPU Parallel Computing</ins>"
      ]
    },
    {
      "cell_type": "markdown",
      "id": "2fa6033f",
      "metadata": {
        "id": "2fa6033f"
      },
      "source": [
        "## <ins>Table of contents</ins>\n",
        "1. [Introduction](#introduction)\n",
        "2. [CIFAR-10 – the dataset](#section1)\n",
        "3. [Overview of a CNN](#section2)\n",
        "4. [The loss function](#section3)\n",
        "5. [Stochastic gradient descent (SGD)](#section4)\n",
        "6. [Loading the data](#section5)\n",
        "7. [Creating a convolutional neural network](#section6)\n",
        "    1. [Training the model](#subsection6.1)\n",
        "    2. [Measuring the accuracy](#subsection6.2)\n",
        "    3. [What can we glean from this accuracy?](#subsection6.3)\n",
        "8. [GPU parallel computing](#section7)\n",
        "    1. [Why is GPU faster than CPU in a CNN?](#section7.1)\n",
        "    2. [Multiprocessing](#section7.2)\n",
        "    3. [Comparisons of GPU and CPU runtimes for matrix operations on different size matrices](#section7.3)\n",
        "    4. [Computational time for nxn matrix operations, GPU vs CPU](#section7.4)\n",
        "    5. [CNN operations](#section7.5)\n",
        "    6. [Analysis: CNN on GPU](#section7.6)\n",
        "        1. [Interpretation](#section7.6.1)\n",
        "        2. [Comparison of GPU vs CPU computions](#section7.6.2)\n",
        "9. [Batch normalisation (used in ResNet)](#section8)\n",
        "10. [ResNet: a large improvement](#section9)\n",
        "    1. [Motivation: what do we mean by the 'residual?'](#section9.1)\n",
        "    2. [A closer look at the architecture: the residual block](#section9.2)\n",
        "    3. [The issue of dimensionality](#section9.3)\n",
        "11. [Implementing ResNet](#section10)\n",
        "    1. [The results: success!](#section10.1)\n",
        "12. [Conclusion](#section11)\n",
        "13. [References](#section12)\n",
        "14. [Appendix](#section13)\n"
      ]
    },
    {
      "cell_type": "markdown",
      "id": "3bd0e360",
      "metadata": {
        "id": "3bd0e360"
      },
      "source": [
        "## <ins>Introduction</ins><a name=\"introduction\"></a>\n",
        "\n",
        "Image classification is a method of categorising groups of pixels in an image. One of the primary employments of image classification is in the domain of medical image analysis. Convolutinal neural networks have been used in this field to classify Alzheimer's disease $[1]$, and predict brain development $[2]$. Other uses include identification in satellite imagery, brake detection in autonomous vehicles, and many more.\n",
        "\n",
        "In this report, we train a convolutional neural network (CNN) for image classification. An appropriate dataset was chosen, and the CNN was trained to classify images from this dataset. Initially, we trained a very simple model, which has a test accuracy of about 60%. Next, we improve the model, and see the accuracy improve to around 70%. Finally, we implement a smarter and more complex model called ResNet. This increases the accuracy to over 80%. So, when the initial 'simple' model fell short, we explored multiple new implementations. We delve into an exploration of how CNNs work, and also examine some of the mathematics within CNNs, such as the operations performed. Progressing from a simpler implementation to a more sophisticated model, we introduce various concepts along the way that are used in the optimisation of more advanced models. This exploration involves understanding how and why these tools are used, as well as their impact on the training time and validation accuracy of the models. We discuss the drawbacks of certain tools, but we often find that these are outweighed by the benefits.\n",
        "\n",
        "The question we aim to look at is: Can we use the parallel computation processes in GPUs to increase the training speed of convolutional neural networks, allowing us to train more complex (and, therefore, more accurate) models?\n",
        "\n",
        "We tackle this problem in depth by using many examples and find that the answer is yes. We compare the runtime of the model with varying parameters. The operations involved in CNNs are mainly matrix (or tensor) operations; therefore, experiments were performed to see empirically that GPUs - due to their ability to parallelise many operations at the same time - fare better than the CPUs in deeper and more complex convolutional networks.\n",
        "\n",
        "The PyTorch framework was used to create the convolutional neural networks. PyTorch is a vital Python tool for performing machine learning, and we explore some of its features.\n",
        "\n",
        "-------------------------------------------------------------------------------------------------------------------\n",
        "\n",
        "All sources for the images in this project are included in the respective html code as `src=\"URL...\"`."
      ]
    },
    {
      "cell_type": "markdown",
      "id": "03558f00",
      "metadata": {
        "id": "03558f00"
      },
      "source": [
        "## <ins>CIFAR-10 – the dataset</ins><a name=\"section1\"></a>\n",
        "\n",
        "In this project, we used the CIFAR-10 dataset. This dataset is comprised of 60,000 colour images — each image belongs uniquely to one of ten classes. There are no crossovers of classes, meaning that an image can only belong to one class. There are 6,000 images in each class. The data are split into a training set of 50,000 images and a test/validation set of 10,000 images. The classes of the dataset are 'airplane', 'automobile', 'bird', 'cat', 'deer', 'dog', 'frog', 'horse', 'ship', and 'truck.' The dimension of each image is 3x32x32. This means that there are 3 RGB colour channels, and the size of the images is 32x32 pixels.\n",
        "\n",
        "CIFAR-10 is a diverse dataset that is representative of real-world image data. The images are large, and so there is a lot of information for a model to learn. But, this makes it a more challenging dataset, since using it to train classifiers can be computationally expensive, and time-consuming. The images are not perfect either, and they do contain an amount of background 'noise' or 'clutter' that may confuse more simplistic models, and make it harder for them to generalise well to new unseen data. But, since a more challenging reality-resembling dataset is what we are after, it makes it a suitable choice in this product for the purpose of classification.\n",
        "\n",
        "Data Source: https://www.cs.toronto.edu/~kriz/cifar.html\n",
        "\n",
        "Initially, we shall take the following steps:\n",
        "\n",
        "1. Load the data, inspect it, and normalise it\n",
        "2. Create/define a convolutional neural network\n",
        "3. Define a loss function\n",
        "4. Train/optimise the CNN on the training set\n",
        "5. Test the accuracy of the CNN on the validation set\n",
        "\n",
        "The code we shall use is inspired by the [PyTorch tutorial](https://pytorch.org/tutorials/beginner/blitz/cifar10_tutorial.html) on how to train an image classifier. We diverge from this code, and discuss ways of optimising the model."
      ]
    },
    {
      "cell_type": "markdown",
      "id": "5131a34d",
      "metadata": {
        "id": "5131a34d"
      },
      "source": [
        "### Some key words:\n",
        "\n",
        "1. <strong>Epoch</strong> – The number of iterations the algorithm completes over the entire training dataset.\n",
        "2. <strong>Batch size</strong> – The number of samples to be propagated through the network.\n",
        "3. <strong>Learning rate (`lr`)</strong> – A parameter that give a scale of how much the model's weights/parameters should be updated.\n",
        "4. <strong>Cost Function/Loss Function</strong> – A function is used to calculate the cost; the cost is defined to be the difference between the predicted value and the true value.\n",
        "5. <strong>Weights/biases</strong> – Trainable parameters in the model."
      ]
    },
    {
      "cell_type": "markdown",
      "id": "548863ae",
      "metadata": {
        "id": "548863ae"
      },
      "source": [
        "## <ins>Overview of a CNN</ins><a name=\"section2\"></a>\n",
        "\n",
        "1. A CCN takes as an input the raw data of an image, in tensor form. In the case of the CIFAR-10 dataset, these have dimensions (3, 32, 32).\n",
        "\n",
        "2. Convolution:\n",
        "* During this stage, we perform the operation of convolution using kernels – small (say 3x3 or 5x5) matrices that act as feature detectors (they are sometimes called filters). The convolution operator, often denoted by $*$, creates a new image matrix such that every element is a weighted combination of the entries in a small section of the input matrix/image, where the weights are determined by the kernel. That is, convolution is like the dot product of two matrices.\n",
        "* When training a CNN, we start with random weights in the filters. When the model is exposed to examples, it tries to learn which features best allow it to successfully choose between classes. Convolutions are spacially invariant, since the kernel slides across the entire image. Say we have a filter that is good at detecting eyes. It doesn’t matter where the eye is in the image; the filter will slide across the whole image. In the resulting feature map, there is a high activation if the model finds an eye. Many convolutional layers can be placed in succession, which increases the receptive field of the model.\n",
        "* We perform convolution in 'strides.' That is, the number of pixels the kernel moves each time it is moved across the image. If the stride is one, then the kernel is shifted by one pixel each time. It should be clear that a higher stride will reduce the dimension of the output image by a greater amount. Let us see how this works with some diagrams. In the second diagram, you can see how the kernel slides across the image matrix to produce an output.\n",
        "\n",
        "<center>\n",
        "<img src=\"https://anhreynolds.com/img/cnn.png\" alt=\"conv\" style=\"width:550px;\"/>\n",
        "</center>\n",
        "\n",
        "<center>\n",
        "<img src=\"https://miro.medium.com/v2/resize:fit:1070/format:webp/1*Zx-ZMLKab7VOCQTxdZ1OAw.gif\" alt=\"conv2d\" style=\"width:300px;\"/>\n",
        "</center>\n",
        "\n",
        "4. Padding:\n",
        "* You can notice that during the process of sliding the kernel over the image, the edges are ignored. This is not good since there could be vital feature information located at the edges of the image that are characteristic of certain classes, and therefore, it is integral that we do not 'trim off' these pixels. But the fact that these pixels are at the edge of the image means that there is no way that the kernel can extend over the edge, and the output size wouldn't be equal to the input if we do this.\n",
        "* Padding is a clever method of circumventing this problem. The edges of the image are 'padded' with pixels taking the value of zero. These are essentially fake pixels. Now, when the kernel slides over the image, there is space to allow it to capture the edge image pixels at its centre, and therefore represent them in the subsequently generated feature map. Crucially, the output can thus be the same size as the input. Let us visualise this in the diagram below.\n",
        "\n",
        "<center>\n",
        "<img src=\"https://miro.medium.com/v2/resize:fit:790/format:webp/1*1okwhewf5KCtIPaFib4XaA.gif\" alt=\"pad\" style=\"width:250px;\"/>\n",
        "</center>\n",
        "\n",
        "5. An activation function called ReLU (rectified linear unit) $[3]$ is used after each convolution to introduce non-linearity. This allows the model to learn non-linear patterns. Specifically, the function gives a value of zero to all the negative pixel values within the feature map.\n",
        "\n",
        "6. Pooling: This is a process of dimension reduction; in the next layer of the network, a lower-resolution input image undergoes convolution. This has the benefit of preventing over-fitting, as well as reducing computational intensity. Max pooling is often performed; this is an operation that calculates the maximum value for smaller sections of the feature map. We can see this in the following diagram.\n",
        "\n",
        "<center>\n",
        "<img src=\"https://computersciencewiki.org/images/8/8a/MaxpoolSample2.png\" alt=\"max pool\" style=\"width:350px;\"/>\n",
        "</center>\n",
        "\n",
        "\n",
        "7. Fully connected layer: After a process of several convolutional layers and pooling layers, the 2D feature maps are flattened into a 1D vector. Each neuron in the subsequent layer is connected to each neuron in the previous layer.\n",
        "\n",
        "8. Softmax activation is applied in the final layer so that the model's output is a probability distribution. This is necessary in classification, since we require a meaningful output to be able to choose a target class. This completes a forward pass: this is when information traverses from the first layer to the last layer.\n",
        "\n",
        "9. Training: A loss function is used to optimise the model — we discuss this in detail below. Simply, the loss function measures the error in the model’s predictions. Via a method known as backpropagation, the error is propagated backwards through the CNN, which allows the model to adjust the weights in relation to this error value. Stochastic gradient descent is used to minimise the loss function by parameter adjustment.\n",
        "\n",
        "10. The model goes through the process of forward pass, backward pass, and optimisation iteratively n times (where n is the number of epochs) until the model reaches convergence – this can mean a maximum classification accuracy.\n",
        "\n",
        "For more information, see 'An Introduction to Convolutional Neural Networks' $[4]$, and ['A Comprehensive Guide to Convolutional Neural Networks'](https://www.v7labs.com/blog/convolutional-neural-networks-guide). The blog post an ['Intuitively Understanding Convolutions for Deep Learning'](https://towardsdatascience.com/intuitively-understanding-convolutions-for-deep-learning-1f6f42faee1) is very useful for visualising the matrix operations involved in CNNs.\n"
      ]
    },
    {
      "cell_type": "markdown",
      "id": "a72cafef",
      "metadata": {
        "id": "a72cafef"
      },
      "source": [
        "## <ins>The loss function</ins><a name=\"section3\"></a>\n",
        "\n",
        "Loss functions are an integral part of machine learning, and deep learning; they provide a means to measure how well a given algorithm models a dataset. Predictions that are more inaccurate result in higher outputs of the loss function. A loss function is a vital tool for guiding the optimisation of parameters in the model. More specifically, the loss function measures the difference between the values that the model predicts, and the ground truths, i.e. the bona fide values we should be getting. We wish to minimise this loss function — that is, increase the accuracy — which allows us to improve, and optimise, the model.\n",
        "\n",
        "### Defining a loss function: what is cross-entropy?\n",
        "\n",
        "\n",
        "Before we attempt to explain this concept, let us embark on a brief journey explaining information theory. First introduced by Claude Shannon in his seminal 1948 work ‘A Theory of Communication,’ $[5]$ entropy is ‘the average number of bits required to represent or transmit an event drawn from the probability distribution for the random variable.’ Entropy tells us how much uncertainty an event has.\n",
        "\n",
        "The cross-entropy, $\\mathrm{H}$, is defined to be the summation of the probability multiplied by the log probability for all classes in a distribution. For a true probability distribution $\\mathrm{P^{*}}$, the model's predicted distribution $\\mathrm{P}$, the cross-entropy is expressed as a sum over each class, $i$, as follows.\n",
        "\n",
        "$$\n",
        "\\begin{equation}\n",
        "\\begin{aligned}\n",
        "\\mathrm{H}(\\mathrm{P^{*}} \\mid \\mathrm{P}) = -\\sum_{i}^{}\\mathrm{P^{*}}(i)\\log{\\mathrm{P}(i)} .\n",
        "\\end{aligned}\n",
        "\\end{equation}\n",
        "$$\n",
        "\n",
        "\n",
        "In the field of machine learning, and data science, the cross-entropy is related to the Kullback-Leibler (KL) Divergence [$[6]$](https://hanj.cs.illinois.edu/cs412/bk3/KL-divergence.pdf) — this is a metric describing the similarity, or distance, between two distributions. In reality, the predicted values of a model will be different from the true values; we say they ‘diverge.’ The sum of the entropy and KL divergence gives the cross-entropy.\n",
        "\n",
        "Let us consider the example of image classification. We want a network that predicts in which class a given input image, $x_i$, belongs; say, there are ten fixed classes. Assume that we have a non-linear model, parameterised by weights, $\\theta$, that outputs a prediction for the class of the input; this output is usually a number that directly maps to a given class label, for example, in a dictionary. A natural output for a model is an entire probability distribution. For the CIFAR-10 dataset, there are ten classes. Therefore, as an output, the model will have ten probabilities corresponding to each class label. A higher probability associated with a given class indicates the model has determined that the input image more likely belongs to the corresponding class. This introduces a notion of uncertainty.\n",
        "\n",
        "So, we have an input image $x_i$, a predicted class distribution $\\mathrm{P}(y \\mid x_i; \\theta)$ for classes $y$, and an assumed true class distribution $\\mathrm{P^{*}}(y \\mid x_i)$. We can use this true distribution in training to optimise the parameters theta of the model, aiming to match the model distribution to the true distribution as closely as possible. Since the KL divergence captures the distance between the model distribution and the true distribution, an intuitive approach is to create a loss function which minimises the KL divergence.\n",
        "\n",
        "The KL divergence is defined by\n",
        "\n",
        "$$\n",
        "\\begin{equation}\n",
        "\\begin{aligned}\n",
        "  \\mathrm{D_{KL}}(\\mathrm{P^{*}} \\mid \\mid \\mathrm{P}) &= \\sum_{y}^{} \\mathrm{P^{*}}(y \\mid x_i) \\log \\left( \\frac{\\mathrm{P^{*}}(y \\mid x_i)}{\\mathrm{P}(y \\mid x_i; \\theta)} \\right) \\\\\n",
        "  & = \\sum_{y}^{} \\mathrm{P^{*}}(y \\mid x_i) \\left[ \\log{\\mathrm{P^{*}}(y \\mid x_i)}-\\log{\\mathrm{P}(y \\mid x_i; \\theta)} \\right] \\\\\n",
        "  & = \\sum_{y}^{} \\mathrm{P^{*}}(y \\mid x_i)\\log{\\mathrm{P^{*}}(y \\mid x_i)}-\\sum_{y}^{}\\mathrm{P^{*}}(y \\mid x_i)\\log{\\mathrm{P}(y \\mid x_i; \\theta)} .\n",
        "\\end{aligned}\n",
        "\\end{equation}\n",
        "$$\n",
        "\n",
        "Note that, on the third line of $(2)$, the first term is idependent of $\\theta$. Indeed, this is the entropy of the label distribution. Therefore, minimising $\\mathrm{D_{KL}}(\\mathrm{P^{*}} \\mid \\mid \\mathrm{P})$ with respect to $\\theta$ corresponds to minimising just the second term. Hence, we have\n",
        "\n",
        "$$\n",
        "\\begin{equation}\n",
        "\\underset{\\theta}{\\text{arg min }} \\mathrm{D_{KL}}(\\mathrm{P^{*}} \\mid \\mid \\mathrm{P}) \\equiv\n",
        "\\underset{\\theta}{\\text{arg min }}\\left(-\\sum_{y}^{}\\mathrm{P^{*}}(y \\mid x_i)\\log{\\mathrm{P}(y \\mid x_i; \\theta)}\\right) .\n",
        "\\end{equation}\n",
        "$$\n",
        "\n",
        "Minimising the cross-entropy loss is equivalent to minimising the KL divergence. Since the cross-entropy loss has a simpler form, it is the standard choice of loss function in classification.\n",
        "\n",
        "Note that if we are claiming to model a probability distribution, it is important to make sure that the output of the model is indeed a bona fide distribution. Namely, we must have the probabilities sum to 1, and each of the probability values must be between 0 and 1. An activation function at the end of a neural network (typically [softmax](https://www.analyticsvidhya.com/blog/2021/04/introduction-to-softmax-for-neural-network/#:~:text=Softmax%20ensures%20that%20the%20final,class%20of%20the%20input%20image.)) normalises the scores into a valid probability distribution, converting logits into probabilities.\n",
        "\n",
        "PyTorch does not automatically apply the softmax function. The function can have issues relating to [numerical stability](https://stackoverflow.com/questions/42599498/numerically-stable-softmax) – issues we want to avoid as much as possible. A fix could be using the log-softmax function, [`nn.LogSoftmax()`](https://pytorch.org/docs/stable/generated/torch.nn.LogSoftmax.html#torch.nn.LogSoftmax), but this is slow, especially when using the negative log-likelihood loss function.  \n",
        "\n",
        "Especially when we are using Negative Log Likelihood as a loss function, [`nn.NLLLoss()`](https://pytorch.org/docs/stable/generated/torch.nn.NLLLoss.html#torch.nn.NLLLoss). Note that the derivative of (log-)softmax+NLLL is quite [mathematically simple](https://ljvmiranda921.github.io/notebook/2017/08/13/softmax-and-the-negative-log-likelihood/). Therefore, we can combine into a single class [`torch.nn.CrossEntropyLoss()`](https://pytorch.org/docs/stable/generated/torch.nn.CrossEntropyLoss.html#torch.nn.CrossEntropyLoss) the functions `nn.LogSoftmax()` and `nn.NLLLoss()`. This is only applied to the final layer in the CNN."
      ]
    },
    {
      "cell_type": "markdown",
      "id": "dc27f2e4",
      "metadata": {
        "id": "dc27f2e4"
      },
      "source": [
        "## <ins>Stochastic gradient descent (SGD)</ins><a name=\"section4\"></a>\n",
        "\n",
        "In machine learning algorithms, we often wish to minimise the loss function, which corresponds to increasing the accuracy of the model. If we are able to tune the parameters (i.e. the weights) of a model in such a way that reduces the value of the loss function, we can optimise the model. What we wish to do is find a way of systematically, and iteratively, updating these parameter values such that the value of the total-loss function decreases. We may image this total-loss function landscape to consist of many peaks and troughs (or valleys) — our aim is to reach the deepest valley (ideally globally), i.e., the minimum $[7]$.\n",
        "\n",
        "SGD introduces randomness into the process of parameter optimisation, since it chooses at random a particular data point (or a small batch of data points) and then computes the gradient, while iteratively updating the value of the weights of the model. After iterating over the entire training set, the weights of the model will converge to values that minimise the loss function. One of the parameters of the SGD algorithm is the learning rate; if its value is too high, the model may converge too fast — this is not a good thing, since the parameters of the model may not be well optimised. Conversely, a learning rate that is too slow can drastically reduce the training time.\n",
        "\n",
        "Algorithms exist that vary the learning rate. During training, the algorithm Adam $[8]$ adjusts the learning rate for each weight. We shall see its use when we implement a ResNet classifier at the end.\n",
        "\n",
        "The optimiser we use initially is SGD with momentum. Momentum $[9]$ is an addition to the traditional SGD algorithm, which results in quicker convergence by accelerating gradient vectors in the correct directions. Many state-of-the-art models utilise it, and its use is ubiquitous in CNNs."
      ]
    },
    {
      "cell_type": "markdown",
      "id": "2044fb9b",
      "metadata": {
        "id": "2044fb9b"
      },
      "source": [
        "## <ins>Loading the data</ins><a name=\"section5\"></a>"
      ]
    },
    {
      "cell_type": "code",
      "execution_count": 19,
      "id": "1134e365",
      "metadata": {
        "id": "1134e365"
      },
      "outputs": [],
      "source": [
        "import torch\n",
        "import torchvision\n",
        "import torchvision.transforms as transforms\n",
        "import time\n",
        "from datetime import datetime\n",
        "import numpy as np\n",
        "import matplotlib.pyplot as plt\n",
        "import torch.nn as nn\n",
        "import torch.nn.functional as F\n",
        "import torch.optim as optim\n",
        "import tensorflow as tf"
      ]
    },
    {
      "cell_type": "code",
      "execution_count": 20,
      "id": "4ht7psxev89f",
      "metadata": {
        "id": "4ht7psxev89f"
      },
      "outputs": [],
      "source": [
        "start_time = time.time()\n"
      ]
    },
    {
      "cell_type": "code",
      "execution_count": 21,
      "id": "c083e48f",
      "metadata": {
        "colab": {
          "base_uri": "https://localhost:8080/"
        },
        "id": "c083e48f",
        "outputId": "e2f9a36f-243c-4735-e5be-abd26e091b95"
      },
      "outputs": [
        {
          "output_type": "stream",
          "name": "stdout",
          "text": [
            "Files already downloaded and verified\n",
            "Files already downloaded and verified\n"
          ]
        }
      ],
      "source": [
        "# We transform the dataset to tensors, so we have tensor images to train the model; we also normalize these data\n",
        "# so that the values in the tensors are in the range [-1,1].\n",
        "transform = transforms.Compose(\n",
        "    [transforms.ToTensor(),\n",
        "     transforms.Normalize((0.5, 0.5, 0.5), (0.5, 0.5, 0.5))\n",
        "    ])\n",
        "\n",
        "# Split data into batches of 4 -- these go into the neural network in small batches to make the computation\n",
        "# faster.\n",
        "batch_size = 4\n",
        "\n",
        "train_data = torchvision.datasets.CIFAR10(root='./data', train=True,\n",
        "                                        download=True, transform=transform)\n",
        "train_dataloader = torch.utils.data.DataLoader(train_data, batch_size=batch_size,\n",
        "                                          shuffle=True, num_workers=2)\n",
        "\n",
        "test_data = torchvision.datasets.CIFAR10(root='./data', train=False,\n",
        "                                       download=True, transform=transform)\n",
        "val_dataloader = torch.utils.data.DataLoader(test_data, batch_size=batch_size,\n",
        "                                         shuffle=False, num_workers=2)\n",
        "\n",
        "classes = train_data.classes"
      ]
    },
    {
      "cell_type": "markdown",
      "id": "1365861b",
      "metadata": {
        "id": "1365861b"
      },
      "source": [
        "### Let us inspect the data"
      ]
    },
    {
      "cell_type": "code",
      "execution_count": 22,
      "id": "e9098035",
      "metadata": {
        "colab": {
          "base_uri": "https://localhost:8080/",
          "height": 211
        },
        "id": "e9098035",
        "outputId": "029b3116-40eb-4a3c-82c2-4a23a950c993"
      },
      "outputs": [
        {
          "output_type": "display_data",
          "data": {
            "text/plain": [
              "<Figure size 640x480 with 1 Axes>"
            ],
            "image/png": "[encoded data removed]"
          },
          "metadata": {}
        },
        {
          "output_type": "stream",
          "name": "stdout",
          "text": [
            "ship  automobile cat   deer \n"
          ]
        }
      ],
      "source": [
        "# Functions to show an image\n",
        "def imshow(img):\n",
        "    img = img / 2 + 0.5     # unnormalize\n",
        "    npimg = img.numpy()\n",
        "    plt.imshow(np.transpose(npimg, (1, 2, 0)))\n",
        "    plt.show()\n",
        "\n",
        "# Get some random training images\n",
        "dataiter = iter(train_dataloader)\n",
        "images, labels = next(dataiter)\n",
        "\n",
        "# Show images\n",
        "imshow(torchvision.utils.make_grid(images))\n",
        "# Print labels\n",
        "print(' '.join(f'{classes[labels[j]]:5s}' for j in range(batch_size)))"
      ]
    },
    {
      "cell_type": "code",
      "execution_count": 23,
      "id": "9ce3590a",
      "metadata": {
        "colab": {
          "base_uri": "https://localhost:8080/",
          "height": 466
        },
        "id": "9ce3590a",
        "outputId": "40e7e518-d3a9-4e92-a282-73310759ec8b"
      },
      "outputs": [
        {
          "output_type": "display_data",
          "data": {
            "text/plain": [
              "<Figure size 640x480 with 1 Axes>"
            ],
            "image/png": "[encoded data removed]"
          },
          "metadata": {}
        },
        {
          "output_type": "stream",
          "name": "stdout",
          "text": [
            "torch.Size([3, 32, 32])\n",
            "torch.Size([4, 3, 32, 32])\n"
          ]
        }
      ],
      "source": [
        "# Let us take a single image from the dataset, and see how it's represented as a tensor -- this is how the\n",
        "# computer 'sees' the image.\n",
        "\n",
        "# Take the first image from above\n",
        "image0 = images[0]\n",
        "\n",
        "imshow(image0)\n",
        "\n",
        "# The resolution is 32x32, and there are 3 RGB channels\n",
        "print(image0.shape)\n",
        "\n",
        "# We pass the data into the model in batch sizes of 4, in a tensor form\n",
        "print(images.shape)"
      ]
    },
    {
      "cell_type": "code",
      "execution_count": 24,
      "id": "c5e8d3fb",
      "metadata": {
        "colab": {
          "base_uri": "https://localhost:8080/"
        },
        "id": "c5e8d3fb",
        "outputId": "917ca8f8-bf9d-4ac4-c379-bf07b8de1410"
      },
      "outputs": [
        {
          "output_type": "stream",
          "name": "stdout",
          "text": [
            "tensor([[[0.7490, 0.7176, 0.7020,  ..., 0.8510, 0.8275, 0.8431],\n",
            "         [0.7882, 0.7647, 0.7569,  ..., 0.8902, 0.8902, 0.9294],\n",
            "         [0.8118, 0.8039, 0.8196,  ..., 0.9294, 0.9373, 0.9843],\n",
            "         ...,\n",
            "         [0.6706, 0.6235, 0.6157,  ..., 0.5608, 0.5529, 0.5765],\n",
            "         [0.6941, 0.6706, 0.6706,  ..., 0.5843, 0.6000, 0.6314],\n",
            "         [0.7255, 0.6941, 0.6863,  ..., 0.6784, 0.6784, 0.7176]],\n",
            "\n",
            "        [[0.7255, 0.6941, 0.6863,  ..., 0.7882, 0.7647, 0.7804],\n",
            "         [0.7569, 0.7255, 0.7255,  ..., 0.8275, 0.8275, 0.8667],\n",
            "         [0.7647, 0.7569, 0.7725,  ..., 0.8588, 0.8667, 0.9216],\n",
            "         ...,\n",
            "         [0.7176, 0.6706, 0.6627,  ..., 0.6235, 0.6157, 0.6471],\n",
            "         [0.7490, 0.7176, 0.7176,  ..., 0.6471, 0.6627, 0.6941],\n",
            "         [0.7725, 0.7412, 0.7333,  ..., 0.7412, 0.7490, 0.7882]],\n",
            "\n",
            "        [[0.5059, 0.4824, 0.4667,  ..., 0.5137, 0.4902, 0.5059],\n",
            "         [0.5059, 0.4902, 0.4824,  ..., 0.4980, 0.4980, 0.5294],\n",
            "         [0.4824, 0.4824, 0.4980,  ..., 0.4902, 0.4980, 0.5451],\n",
            "         ...,\n",
            "         [0.7020, 0.6549, 0.6471,  ..., 0.6314, 0.6235, 0.6549],\n",
            "         [0.7333, 0.7020, 0.7020,  ..., 0.6706, 0.6784, 0.7098],\n",
            "         [0.7490, 0.7176, 0.7176,  ..., 0.7490, 0.7490, 0.7961]]])\n"
          ]
        }
      ],
      "source": [
        "# Image representation in array/tensor form -- this is how the computer 'sees' each image\n",
        "\n",
        "print(image0)"
      ]
    },
    {
      "cell_type": "markdown",
      "id": "05b4aded",
      "metadata": {
        "id": "05b4aded"
      },
      "source": [
        "Below, we can see that there are equal numbers of data points in each class, so there is no need for stratified sampling or oversampling to balance the class sizes. Furthermore, we know from the source that this dataset has no missing values. This makes our task simpler. In a real-world scenario, we are likely to encounter missing data, as well as imbalanced classes. Various methods, such as data imputation to deal with missing values and oversampling to balance the classes, can help to improve the training of a classification model.\n",
        "\n",
        "Image imputation is a complex task that aims to generate better-quality images from low-resolution ones, or those with missing data values. Algorithms for generating high-resolution plausible images of brain MRI scans have been used in the field of medicine $[10]$. Although our dataset is somewhat idealised, data can be imperfect in the real world for many reasons. Various techniques of upsampling to create super-resolution images can be used to improve sparse scan images which have been unsuccessful in capturing clear anatomical features. If proven to be safe, and accurate, this can greatly save costs in medical diagnostics."
      ]
    },
    {
      "cell_type": "code",
      "execution_count": 25,
      "id": "c20123fa",
      "metadata": {
        "id": "c20123fa"
      },
      "outputs": [],
      "source": [
        "from tensorflow.keras.datasets import cifar10\n",
        "(X_train, y_train), (X_test, y_test) = cifar10.load_data()"
      ]
    },
    {
      "cell_type": "code",
      "execution_count": 26,
      "id": "e450e899",
      "metadata": {
        "colab": {
          "base_uri": "https://localhost:8080/",
          "height": 472
        },
        "id": "e450e899",
        "outputId": "9e98b218-f0e5-4d33-f802-bdffab65f1cd"
      },
      "outputs": [
        {
          "output_type": "display_data",
          "data": {
            "text/plain": [
              "<Figure size 640x480 with 1 Axes>"
            ],
            "image/png": "[encoded data removed]"
          },
          "metadata": {}
        }
      ],
      "source": [
        "class0, counts0 = np.unique(y_train, return_counts=True)\n",
        "plt.barh(classes, counts0)\n",
        "plt.title('Class distribution')\n",
        "plt.xlabel('Number of images')\n",
        "plt.ylabel('Class')\n",
        "class1, counts1 = np.unique(y_test, return_counts=True)\n",
        "plt.barh(classes, counts1)\n",
        "plt.show()"
      ]
    },
    {
      "cell_type": "markdown",
      "id": "2bab10e2",
      "metadata": {
        "id": "2bab10e2"
      },
      "source": [
        "## <ins>Creating a convolutional neural network</ins><a name=\"section6\"></a>"
      ]
    },
    {
      "cell_type": "code",
      "execution_count": 27,
      "id": "13d11c23",
      "metadata": {
        "colab": {
          "base_uri": "https://localhost:8080/"
        },
        "id": "13d11c23",
        "outputId": "7d046209-e8ce-42f1-d8fb-55eece71bf51"
      },
      "outputs": [
        {
          "output_type": "stream",
          "name": "stdout",
          "text": [
            "Net(\n",
            "  (conv1): Conv2d(3, 8, kernel_size=(5, 5), stride=(1, 1))\n",
            "  (pool): MaxPool2d(kernel_size=2, stride=2, padding=0, dilation=1, ceil_mode=False)\n",
            "  (conv2): Conv2d(8, 16, kernel_size=(5, 5), stride=(1, 1))\n",
            "  (fc1): Linear(in_features=400, out_features=128, bias=True)\n",
            "  (fc2): Linear(in_features=128, out_features=64, bias=True)\n",
            "  (fc3): Linear(in_features=64, out_features=10, bias=True)\n",
            ")\n"
          ]
        }
      ],
      "source": [
        "l1 = 8\n",
        "l2 = 16\n",
        "\n",
        "class Net(nn.Module):\n",
        "\n",
        "    def __init__(self):\n",
        "        super().__init__()\n",
        "        # 2D layer, since we have 2D images, with 3 input channels and l1 output\n",
        "        # channels. This takes the images (which are in RGB space) and transforms\n",
        "        # them into 6-channel feature maps. We then set a kernel size 5.\n",
        "        self.conv1 = nn.Conv2d(3, l1, 5)\n",
        "        # Create a pooling layer – this takes an image and downsizes it with\n",
        "        # respect to the kernel size and stride. I.e., a kernel size of 2, and a\n",
        "        # stride of 2. For each 2x2 patch, we take the maximum pixel value for\n",
        "        # that patch. In essence, we downsize the image to half the resoltion\n",
        "        # and we take the maximum activation for each of the feature maps at\n",
        "        # each of the local positions.\n",
        "        self.pool = nn.MaxPool2d(2, 2)\n",
        "        # Second convolutional layer\n",
        "        self.conv2 = nn.Conv2d(l1, l2, 5)\n",
        "        # Fully-connected layers\n",
        "        self.fc1 = nn.Linear(l2 * 5 * 5, 128)\n",
        "        # Output of the first fully-connected layer is 128, so this is the input\n",
        "        # of the next layer.\n",
        "        self.fc2 = nn.Linear(128, 64)\n",
        "        # Final output is 10, since there are 10 classes in the CIFAR-10\n",
        "        # dataset. Therefore, we need a probability for each of the classes;\n",
        "        # then we can work out how correct (or incorrect) the predictions are.\n",
        "        # For example, if the input image is a place, then want there to be a\n",
        "        # low probability for all of the other classes, apart from the deer\n",
        "        # class, which should have a high probabilty. So we can calculate out\n",
        "        # loss when we have these 10 output numbers.\n",
        "        self.fc3 = nn.Linear(64, 10)\n",
        "\n",
        "    # This declares the forward pass for the network.\n",
        "    def forward(self, x):\n",
        "        # We pass through the first convolutional layer, and then through the\n",
        "        # activation function. Classically, we use an activation function at\n",
        "        # each of the layers to transform linear transformations into non-linear\n",
        "        # ones, so we can learn non-linear functions; here, we use the 'ReLU'\n",
        "        # function.\n",
        "        x = self.pool(F.relu(self.conv1(x)))\n",
        "        x = self.pool(F.relu(self.conv2(x)))\n",
        "        # Flatten all dimensions except batch-size: we want to pass multiple\n",
        "        # examples through the network at once, and then we can update the\n",
        "        # weights with respect to the whole batch.\n",
        "        x = torch.flatten(x, 1)\n",
        "        x = F.relu(self.fc1(x))\n",
        "        x = F.relu(self.fc2(x))\n",
        "        # Final layer\n",
        "        x = self.fc3(x)\n",
        "        return x\n",
        "\n",
        "net = Net()\n",
        "print(net)"
      ]
    },
    {
      "cell_type": "code",
      "execution_count": 28,
      "id": "b7abac4a",
      "metadata": {
        "colab": {
          "base_uri": "https://localhost:8080/"
        },
        "id": "b7abac4a",
        "outputId": "2f6ad3e9-0733-4b15-990e-00595c243a2b"
      },
      "outputs": [
        {
          "output_type": "stream",
          "name": "stdout",
          "text": [
            "28.0 14.0 10.0 5.0\n"
          ]
        }
      ],
      "source": [
        "# Why are there l2*5*5 inputs to the first fully-connected layer? Well, let us\n",
        "# run through each of the operations step-by-step, and track the resultion of\n",
        "# the image as we go. Assume that l1 = 6, l2 = 16. Then l2*5*5 = 400.\n",
        "\n",
        "# We know that a given input image from the CIFAR-10 dataset has a resolution\n",
        "# of 32x32.\n",
        "\n",
        "# Operation 1:\n",
        "# Input 32, kernel size 5, 0 padding, stride of 1\n",
        "o1 = (32 - 5 + 0) / 1 + 1\n",
        "# Operation 2: pooling layer -- halves the resolution\n",
        "o2 = o1 // 2\n",
        "# Operation 3:\n",
        "# Input resoltion from step 2, kernel size 5, 0 padding, stride of 1\n",
        "o3 = (o2 - 5 + 0) / 1 + 1\n",
        "# Operation 4:\n",
        "o4 = o3 // 2\n",
        "\n",
        "# What we see is that after the first convolutional layer, we get a feature map\n",
        "# which is 28x28. Then we halve the resoltuion to 14x14. Then we run it through\n",
        "# the second convolutional layer, giving up 10x10. Then we falve the resoltion\n",
        "# one more time to 5x5.\n",
        "print(o1, o2, o3, o4)\n",
        "\n",
        "# This is where we get this 5*5 value. There are 16 channels so we have a\n",
        "# 16*5*5 image."
      ]
    },
    {
      "cell_type": "markdown",
      "id": "58f2398c",
      "metadata": {
        "id": "58f2398c"
      },
      "source": [
        "### <ins>Training the model</ins><a name=\"subsection6.1\"></a>"
      ]
    },
    {
      "cell_type": "code",
      "execution_count": 29,
      "id": "fd51f05c",
      "metadata": {
        "id": "fd51f05c"
      },
      "outputs": [],
      "source": [
        "classifier_model = net\n",
        "\n",
        "# Defining the loss function\n",
        "loss_function = nn.CrossEntropyLoss()\n",
        "\n",
        "# We use stochastic gradient with momentum descent as an optimiser\n",
        "# Learning rate is 'lr'\n",
        "optimiser = optim.SGD(net.parameters(), lr=0.001, momentum=0.9)"
      ]
    },
    {
      "cell_type": "markdown",
      "id": "51e1e009",
      "metadata": {
        "id": "51e1e009"
      },
      "source": [
        "### Runtime ~ 5 minutes (this is CPU computation)"
      ]
    },
    {
      "cell_type": "code",
      "execution_count": 30,
      "id": "54b89995",
      "metadata": {
        "colab": {
          "base_uri": "https://localhost:8080/"
        },
        "id": "54b89995",
        "outputId": "0d87fbe8-0740-44dc-fb0e-9b7b561bc06a"
      },
      "outputs": [
        {
          "output_type": "stream",
          "name": "stdout",
          "text": [
            "[Epoch: 1, 12499] loss: 1.694\n",
            "[Epoch: 2, 12499] loss: 1.319\n",
            "[Epoch: 3, 12499] loss: 1.179\n",
            "[Epoch: 4, 12499] loss: 1.083\n",
            "[Epoch: 5, 12499] loss: 1.007\n",
            "[Epoch: 6, 12499] loss: 0.949\n",
            "Finished Training\n",
            "Runtime: 315.1587495803833 seconds\n"
          ]
        }
      ],
      "source": [
        "epochs = 6\n",
        "\n",
        "mini_batch = len(train_dataloader) - 1\n",
        "start = time.time()\n",
        "for epoch in range(epochs):  # Loop over the dataset multiple times\n",
        "\n",
        "    running_loss = 0.0\n",
        "    for i, batch in enumerate(train_dataloader, 0):\n",
        "        # Get the inputs; batch is a list of [images, labels]\n",
        "        images, labels = batch\n",
        "\n",
        "        # Zero the parameter gradients\n",
        "        optimiser.zero_grad()\n",
        "\n",
        "        # forward + backward + optimize\n",
        "        logits = classifier_model(images)\n",
        "        loss = loss_function(logits, labels)\n",
        "        # Backwards pass\n",
        "        loss.backward()\n",
        "        optimiser.step()\n",
        "\n",
        "        # Print statistics\n",
        "        running_loss += loss.item()\n",
        "        # Keep track of the loss as we proceed through the training loop\n",
        "        if i % mini_batch == (mini_batch-1):    # print every epoch\n",
        "            loss = running_loss/mini_batch\n",
        "            print(f'[Epoch: {epoch + 1}, {i + 1:5d}] loss: {loss:.3f}')\n",
        "            # Reset running loss each time we print it out\n",
        "            running_loss = 0.0\n",
        "\n",
        "end = time.time()\n",
        "print('Finished Training')\n",
        "print(f'Runtime: {end - start} seconds')"
      ]
    },
    {
      "cell_type": "markdown",
      "id": "3729a792",
      "metadata": {
        "id": "3729a792"
      },
      "source": [
        "### <ins>Measuring the accuracy</ins><a name=\"subsection6.2\"></a>"
      ]
    },
    {
      "cell_type": "code",
      "execution_count": 31,
      "id": "c2db4966",
      "metadata": {
        "id": "c2db4966",
        "colab": {
          "base_uri": "https://localhost:8080/"
        },
        "outputId": "54a0258e-74cd-41b1-d302-2d59665febe9"
      },
      "outputs": [
        {
          "output_type": "stream",
          "name": "stdout",
          "text": [
            "Accuracy over 10,000 validation images: 62%\n"
          ]
        }
      ],
      "source": [
        "correct = 0\n",
        "total = 0\n",
        "\n",
        "# Make sure that we don't calculate gradients whilst we are evaluating the\n",
        "# performance of the model on the test dataset -- we don't want to change\n",
        "# the weights.\n",
        "with torch.no_grad():\n",
        "    for batch in val_dataloader:\n",
        "        images, labels = batch\n",
        "        logits = classifier_model(images)\n",
        "        # We have a batch size of 4, and 10 classes, therefore we get a 4x10\n",
        "        # tensor out of our model. So, we take the maximum on the first\n",
        "        # dimension -- this is the class dimension, since the batch dimension\n",
        "        # is the 'zeroth' dimension. What we want is the index of the highest\n",
        "        # value.\n",
        "        _, predicted = torch.max(logits.data, 1)\n",
        "        # Now we have a 4x1 tensor\n",
        "        total += labels.size(0)\n",
        "        # Gives tensor of whether they are equal or not\n",
        "        correct += (predicted == labels).sum().item()\n",
        "\n",
        "print(f'Accuracy over 10,000 validation images: {100 * correct // total}%')\n"
      ]
    },
    {
      "cell_type": "markdown",
      "id": "8d812c08",
      "metadata": {
        "id": "8d812c08"
      },
      "source": [
        "### <ins>What can we glean from this accuracy?</ins><a name=\"subsection6.3\"></a>\n",
        "\n",
        "Initially, we might not seem too impressed by the result of about ~64%, but we should not be disheartened. Firstly, this value is far better than chance, which would be a 10% accuracy; i.e., we randomly choose which class a given image belongs to – there are ten choices. So, the network has learnt something. The simple PyTorch tutorial that inspired the code had an accuracy of only 55%, so this is a clear improvement.\n",
        "\n",
        "Now, consider the EMNIST dataset: a set of hand-drawn digits with a resolution of 28x28. A more detailed explanation of the contents and conversion process of the dataset is given in a paper by Cohen et al. $[11]$. It is not difficult for very simplistic models to perform very well in classification on this dataset – such models easily reach over 99% accuracy. However, reaching an accuracy of over 90% on the CIFAR-10 dataset is very challenging – even for humans! Many state-of-the-art models are tested on the CIFAR-10 dataset.\n",
        "\n",
        "Now, let us look at the performance of the model in each class individually."
      ]
    },
    {
      "cell_type": "code",
      "execution_count": 32,
      "id": "b4942f91",
      "metadata": {
        "id": "b4942f91",
        "colab": {
          "base_uri": "https://localhost:8080/"
        },
        "outputId": "123b8138-af61-4d88-f7e1-e5ed14ff6e0f"
      },
      "outputs": [
        {
          "output_type": "stream",
          "name": "stdout",
          "text": [
            "Accuracy for class: airplane is 64.1 %\n",
            "Accuracy for class: automobile is 68.0 %\n",
            "Accuracy for class: bird  is 45.0 %\n",
            "Accuracy for class: cat   is 48.2 %\n",
            "Accuracy for class: deer  is 50.0 %\n",
            "Accuracy for class: dog   is 60.5 %\n",
            "Accuracy for class: frog  is 68.6 %\n",
            "Accuracy for class: horse is 71.9 %\n",
            "Accuracy for class: ship  is 77.5 %\n",
            "Accuracy for class: truck is 73.3 %\n"
          ]
        }
      ],
      "source": [
        "# prepare to count predictions for each class\n",
        "correct_pred = {classname: 0 for classname in classes}\n",
        "total_pred = {classname: 0 for classname in classes}\n",
        "\n",
        "# again no gradients needed\n",
        "with torch.no_grad():\n",
        "    for data in val_dataloader:\n",
        "        images, labels = data\n",
        "        outputs = net(images)\n",
        "        _, predictions = torch.max(outputs, 1)\n",
        "        # collect the correct predictions for each class\n",
        "        for label, prediction in zip(labels, predictions):\n",
        "            if label == prediction:\n",
        "                correct_pred[classes[label]] += 1\n",
        "            total_pred[classes[label]] += 1\n",
        "\n",
        "\n",
        "# print accuracy for each class\n",
        "for classname, correct_count in correct_pred.items():\n",
        "    accuracy = 100 * float(correct_count) / total_pred[classname]\n",
        "    print(f'Accuracy for class: {classname:5s} is {accuracy:.1f} %')"
      ]
    },
    {
      "cell_type": "markdown",
      "id": "5ae1be6f",
      "metadata": {
        "id": "5ae1be6f"
      },
      "source": [
        "We can see that the model's performance varied significantly on the different classes."
      ]
    },
    {
      "cell_type": "markdown",
      "id": "ffd4416a",
      "metadata": {
        "id": "ffd4416a"
      },
      "source": [
        "## <ins>GPU parallel computing</ins><a name=\"section7\"></a>"
      ]
    },
    {
      "cell_type": "markdown",
      "id": "e2481cbb",
      "metadata": {
        "id": "e2481cbb"
      },
      "source": [
        "GPU parallel computing is ubiquitous in machine learning, specifically in the fields of 'image recognition algorithms, text analysis, and predictive modelling.'\n",
        "\n",
        "Compute Unified Device Architecture (CUDA) $[12]$ is a framework created by NVIDIA to perform GPU-accelerated operations. By utilising CUDA GPUs, one can perform data processing faster than with the standard methods used with CPUs. This is because CUDA performs highly optimised parallel computing to achieve greater efficiency and speed when processing data. Specifically, Tensor Cores in NVIDIA GPUs are used to speed up processes in deep learning greatly, such as matrix multiplications.\n",
        "\n",
        "### <ins>Why is GPU faster than CPU in a CNN?</ins><a name=\"section7.1\"></a>\n",
        "\n",
        "There are several reasons why GPUs tend to be faster, and perform better, than CPUs in convolutional neural networks. We list several below [$[13]$](https://www.turing.com/kb/understanding-nvidia-cuda#what-is-cuda?).\n",
        "\n",
        "<strong>Parallel processing:</strong>\n",
        "GPUs use parallel processing to handle many tasks all at once. A large number of matrix operations are performed in CNNs, such as matrix multiplication and convolution. GPUs can parallelise many of these operations at the same time — this can vastly reduce the training time of neural networks. Furthermore, the architecture of GPUs allows for the efficient simultaneous computation of entire layers within a CNN. The specific design of the GPU architecture is optimised for handling vast amounts of mathematical operations in the processing and rendering of graphics. This use precisely aligns with the computational and mathematical requirements of neural networks.\n",
        "\n",
        "<strong>GPUs have more cores:</strong>\n",
        "GPUs usually contain many more cores than CPUs, which often have only a few cores. GPUs often contain hundreds, or thousands, of smaller cores. Therefore, for tasks involving a larger number of simple repetitive operations (such as those in CNNs), GPUs perform much better.\n",
        "\n",
        "<strong>Memory:</strong>\n",
        "The memory bandwidth — i.e., the rate at which data is able to be read or stored into a semiconductor memory by a processor — is much higher in GPUs than it is in CPUs. There are a great number of data transfers between layers of CNNs – this requires a lot of memory bandwidth.\n",
        "\n",
        "CPUs process tasks sequentially, and one at a time. Therefore, they are not as efficient as GPUs for deep learning. In more complex models, with many more layers, this becomes a problem as training speeds become very high. GPUs utilise their parallel framework, hardware, and software to handle data on large scales, performing repetitive tasks that are highly parallelisable. Hence, they are often the optimal choice for use in deep learning.\n",
        "\n",
        "One can program by using CUDA code directly, but thankfully, there are frameworks for deep learning (such as PyTorch and TensorFlow) that do not require this. The computationally intensive parts are written in CUDA using the deep learning library cuDNN. In Python, we can call these modules, which makes things very easy. We shall use tools in PyTorch for this GPU for this GPU-acceleration $[14]$.\n",
        "\n",
        "### <ins>Multiprocessing</ins><a name=\"section7.2\"></a>\n",
        "\n",
        "With two large matrices, we can use the GPU memory, which is shared by the streamline multiprocessors (SMs). These are the processing part of the GPU. There is a global memory shared by the multiprocessors, and local memory that is specific to the multiprocessors – this cannot be shared with other SMs. This hardware has great potential, but it must be used in the right way.\n",
        "\n",
        "Suppose we have two large $n \\times n$ matrices, where, say, $n \\gt 10000$. The GPU memory may not be large enough to hold both large matrices, but it could certainly be large enough to hold the $i-$th row of the first matrix, and the $j-$th row of the second matrix. We can use block multiplication, which makes use of the shared memory within a streamline multiprocessor, so that each SM can compute a block of the final matrix. We can only allocate a block to an SM if every element in each sub-matrix block can be computed using the same shared data. Furthermore, it should be small enough to fit in the SM memory. This is possible with block multiplication. In parallel, each SM computes different blocks in the final matrix. This is more efficient, since we are using the memory within a streamline multiprocessor. We can, therefore, make use of the higher memory bandwidth in GPUs to fetch blocks of data either into the GPU or into the SM memory. A lot of parallelisation happens when getting data from the system memory, and within the streamline multiprocessors. To optimise this method, we need to know some hyper-parameters: the optimal block size and the number of SMs to use; furthermore, how should we allocate which blocks go to which SM. Thankfully, CUDA takes care of some of this.\n",
        "\n",
        "In future work, it would be prudent to ['Optimise PyTorch Performance for Speed and Memory Efficiency'](https://towardsdatascience.com/optimize-pytorch-performance-for-speed-and-memory-efficiency-2022-84f453916ea6).\n"
      ]
    },
    {
      "cell_type": "markdown",
      "id": "9939b4e7",
      "metadata": {
        "id": "9939b4e7"
      },
      "source": [
        "### <ins>Comparisons of GPU and CPU runtimes for matrix operations on different size matrices</ins><a name=\"section7.3\"></a>\n",
        "\n",
        "The GPU used for this analysis is an NVIDIA Tesla V100 with 5120 CUDA cores run on Google Colab, and the CPU is the 64-bit Apple M1 processor (SoC) with eight cores (4 performance cores, 4 efficiency cores). The inspiration for the following code can be found [here](https://datascience.stackexchange.com/questions/41956/how-to-make-my-neural-netwok-run-on-gpu-instead-of-cpu)."
      ]
    },
    {
      "cell_type": "code",
      "execution_count": 33,
      "id": "kOXqt8A2d-cU",
      "metadata": {
        "id": "kOXqt8A2d-cU",
        "colab": {
          "base_uri": "https://localhost:8080/"
        },
        "outputId": "3844af68-57a9-4952-be17-927dd1a180b5"
      },
      "outputs": [
        {
          "output_type": "stream",
          "name": "stdout",
          "text": [
            "[name: \"/device:CPU:0\"\n",
            "device_type: \"CPU\"\n",
            "memory_limit: 268435456\n",
            "locality {\n",
            "}\n",
            "incarnation: 15479089427290404156\n",
            "xla_global_id: -1\n",
            ", name: \"/device:GPU:0\"\n",
            "device_type: \"GPU\"\n",
            "memory_limit: 15510929408\n",
            "locality {\n",
            "  bus_id: 1\n",
            "  links {\n",
            "  }\n",
            "}\n",
            "incarnation: 12868611667345631352\n",
            "physical_device_desc: \"device: 0, name: Tesla V100-SXM2-16GB, pci bus id: 0000:00:04.0, compute capability: 7.0\"\n",
            "xla_global_id: 416903419\n",
            "]\n"
          ]
        }
      ],
      "source": [
        "# View devices\n",
        "from tensorflow.python.client import device_lib\n",
        "print(device_lib.list_local_devices())"
      ]
    },
    {
      "cell_type": "markdown",
      "id": "6168e454",
      "metadata": {
        "id": "6168e454"
      },
      "source": [
        "### Runtime ~ 5 minutes"
      ]
    },
    {
      "cell_type": "code",
      "execution_count": 34,
      "id": "zNSde_g8cX3N",
      "metadata": {
        "id": "zNSde_g8cX3N",
        "colab": {
          "base_uri": "https://localhost:8080/"
        },
        "outputId": "829151f5-7a3d-4289-902a-02b029fa3328"
      },
      "outputs": [
        {
          "output_type": "stream",
          "name": "stdout",
          "text": [
            "2.15.0\n",
            "----------------------------------------\n",
            "Computation on shape: (100, 100) using device: cpu took: 0.147 seconds\n",
            "Computation on shape: (1000, 1000) using device: cpu took: 0.018 seconds\n",
            "Computation on shape: (2000, 2000) using device: cpu took: 0.056 seconds\n",
            "Computation on shape: (4000, 4000) using device: cpu took: 0.364 seconds\n",
            "Computation on shape: (8000, 8000) using device: cpu took: 2.848 seconds\n",
            "Computation on shape: (12000, 12000) using device: cpu took: 8.759 seconds\n",
            "Computation on shape: (16000, 16000) using device: cpu took: 20.583 seconds\n",
            "Computation on shape: (20000, 20000) using device: cpu took: 38.267 seconds\n",
            "Computation on shape: (30000, 30000) using device: cpu took: 130.507 seconds\n",
            "----------------------------------------\n",
            "Computation on shape: (100, 100) using device: gpu took: 0.135 seconds\n",
            "Computation on shape: (1000, 1000) using device: gpu took: 0.014 seconds\n",
            "Computation on shape: (2000, 2000) using device: gpu took: 0.009 seconds\n",
            "Computation on shape: (4000, 4000) using device: gpu took: 0.022 seconds\n",
            "Computation on shape: (8000, 8000) using device: gpu took: 0.102 seconds\n",
            "Computation on shape: (12000, 12000) using device: gpu took: 0.298 seconds\n",
            "Computation on shape: (16000, 16000) using device: gpu took: 0.649 seconds\n",
            "Computation on shape: (20000, 20000) using device: gpu took: 1.391 seconds\n",
            "Computation on shape: (30000, 30000) using device: gpu took: 3.995 seconds\n",
            "----------------------------------------\n"
          ]
        }
      ],
      "source": [
        "tf.compat.v1.disable_eager_execution()\n",
        "print(tf.__version__)\n",
        "\n",
        "# Choose which device you want to test on: either 'cpu' or 'gpu'\n",
        "devices = ['cpu', 'gpu']\n",
        "\n",
        "# Choose size of the matrix to be used.\n",
        "# Make it bigger to see bigger benefits of parallel computation\n",
        "shapes = [(100, 100), (1000, 1000), (2000, 2000), (4000, 4000), (8000, 8000),\n",
        "          (12000, 12000), (16000, 16000), (20000, 20000), (30000, 30000)\n",
        "          ]\n",
        "\n",
        "\n",
        "def compute_operations(device, shape):\n",
        "    \"\"\"Run a simple set of operations on a matrix of given shape on given device\n",
        "\n",
        "    Parameters\n",
        "    ----------\n",
        "    device : the type of device to use, either 'cpu' or 'gpu'\n",
        "    shape : a tuple for the shape of a 2d tensor, e.g. (10, 10)\n",
        "\n",
        "    Returns\n",
        "    -------\n",
        "    out : results of the operations as the time taken\n",
        "    \"\"\"\n",
        "\n",
        "    # Define operations to be computed on selected device\n",
        "    with tf.device(device):\n",
        "        random_matrix = tf.random.uniform(shape=shape, minval=0, maxval=1)\n",
        "        dot_operation = tf.matmul(random_matrix, tf.transpose(random_matrix))\n",
        "        sum_operation = tf.reduce_sum(dot_operation)\n",
        "\n",
        "    # Time the actual runtime of the operations\n",
        "    start_time = datetime.now()\n",
        "    with tf.compat.v1.Session(\n",
        "        config=tf.compat.v1.ConfigProto(log_device_placement=False)) as session:\n",
        "        result = session.run(sum_operation)\n",
        "    elapsed_time = datetime.now() - start_time\n",
        "\n",
        "    return result, elapsed_time\n",
        "\n",
        "if __name__ == '__main__':\n",
        "\n",
        "    times = []\n",
        "    # Run the computations and print summary of each run\n",
        "    for device in devices:\n",
        "        print(\"--\" * 20)\n",
        "        for shape in shapes:\n",
        "            _, time_taken = compute_operations(device, shape)\n",
        "            time_taken = time_taken.seconds + time_taken.microseconds/1e6\n",
        "            times.append(time_taken)\n",
        "\n",
        "            # Print the result and also the time taken on the selected device\n",
        "            print(\"Computation on shape:\", shape, \"using device:\", device,\n",
        "                  \"took: {:.3f}\".format(time_taken), \"seconds\")\n",
        "    print(\"--\" * 20)\n",
        "\n",
        "    cpu_times = times[:len(times)//2]\n",
        "    gpu_times = times[len(times)//2:]\n",
        "    cpu_times.pop(0)\n",
        "    gpu_times.pop(0)\n",
        "    shapes.pop(0)"
      ]
    },
    {
      "cell_type": "markdown",
      "id": "CQWAn5oKkJic",
      "metadata": {
        "id": "CQWAn5oKkJic"
      },
      "source": [
        "### <ins>Computational time for nxn matrix operations, GPU vs CPU</ins><a name=\"section7.4\"></a>\n",
        "\n",
        "From the following plot, it is clear that as the matrix's dimension increases, the runtime increases at a much faster rate with computation done under CPU than under GPU. This experimental result agrees with the analysis presented in the previous section on why GPUs perform these operations much quicker than CPUs. Using GPUs to improve training speeds will be very useful as we adapt and improve our models to be deeper, more complicated, and, therefore, more computationally intensive. We shall increase the batch size and the size of the convolutional layers and perform more operations on tensors: this will require using GPU computation since computation via CPU on these operations, at larger scales, will take far too long."
      ]
    },
    {
      "cell_type": "code",
      "execution_count": 35,
      "id": "OEwgiIG3efts",
      "metadata": {
        "id": "OEwgiIG3efts",
        "colab": {
          "base_uri": "https://localhost:8080/",
          "height": 461
        },
        "outputId": "b83e3b1e-6ddb-40a0-f231-dc4547bd4329"
      },
      "outputs": [
        {
          "output_type": "display_data",
          "data": {
            "text/plain": [
              "<Figure size 640x480 with 1 Axes>"
            ],
            "image/png": "[encoded data removed]"
          },
          "metadata": {}
        }
      ],
      "source": [
        "dimensions = [x[0] for x in shapes]\n",
        "\n",
        "fig, ax = plt.subplots() # using matplotlib's Object Oriented API\n",
        "ax.set_title('Computational time for $nxn$ matrix operation')\n",
        "ax.set_xlabel('Dimension')\n",
        "ax.set_ylabel('Time (seconds)')\n",
        "ax.set_xticks(np.arange(0, 30000 + 1, 3000))\n",
        "fig.autofmt_xdate(rotation=90)\n",
        "ax.plot(dimensions, cpu_times, color='blue', marker='x', linewidth=0.6, label='CPU')\n",
        "ax.plot(dimensions, gpu_times, color='orange', marker='x', linewidth=0.6, label='GPU')\n",
        "plt.legend(loc=\"upper left\")\n",
        "plt.grid()\n",
        "\n",
        "plt.show()"
      ]
    },
    {
      "cell_type": "markdown",
      "id": "Pa3jq_EnmUQ5",
      "metadata": {
        "id": "Pa3jq_EnmUQ5"
      },
      "source": [
        "### Let us inspect the GPU computation times at a closer scale. The GPU computation time is much faster than CPU that it is not easy to discern the pattern of the results on the dual graph."
      ]
    },
    {
      "cell_type": "code",
      "execution_count": 36,
      "id": "0wEZyawugwUx",
      "metadata": {
        "id": "0wEZyawugwUx",
        "colab": {
          "base_uri": "https://localhost:8080/",
          "height": 461
        },
        "outputId": "206d9aa7-6aec-43d2-92f7-9864be5e150c"
      },
      "outputs": [
        {
          "output_type": "display_data",
          "data": {
            "text/plain": [
              "<Figure size 640x480 with 1 Axes>"
            ],
            "image/png": "[encoded data removed]"
          },
          "metadata": {}
        }
      ],
      "source": [
        "fig, ax = plt.subplots() # using matplotlib's Object Oriented API\n",
        "\n",
        "ax.set_title('Computational time for $nxn$ matrix operation')\n",
        "ax.set_xlabel('Dimension')\n",
        "ax.set_ylabel('Time (seconds)')\n",
        "ax.set_xticks(np.arange(0, 30000 + 1, 3000))\n",
        "fig.autofmt_xdate(rotation=90)\n",
        "ax.plot(dimensions, gpu_times, color='orange', marker='x', linewidth=0.6, label='GPU')\n",
        "plt.legend(loc=\"upper left\")\n",
        "plt.grid()\n",
        "\n",
        "plt.show()"
      ]
    },
    {
      "cell_type": "markdown",
      "id": "6d6fd0ff",
      "metadata": {
        "id": "6d6fd0ff"
      },
      "source": [
        "### <ins>CNN operations</ins><a name=\"section7.5\"></a>\n",
        "\n",
        "In a CNN, the convolution process of sliding a kernel is an element-wise multiplication process, and then it sums the elements together. These are computationally intensive tasks, and the CPU finds it much harder to compute when more and more layers are added. Similarly, when the layers are widened, the CPU will also struggle due to its architecture. For the reasons stated above, GPUs are better suited to these computational tasks, and block multiplication can be performed. We should expect an analogous speedup, from the results we have just seen, of GPU computation over CPU computation when increasing the complexity of a CNN. Furthermore, CNNs are very 'data hungry' due to their millions of trainable weight parameters. These costly computations necessitate the use of GPU in the training of models $[15]$.\n"
      ]
    },
    {
      "cell_type": "markdown",
      "id": "e959621f",
      "metadata": {
        "id": "e959621f"
      },
      "source": [
        "### <ins>Analysis: CNN on GPU</ins><a name=\"section7.6\"></a>\n",
        "\n",
        "Below, we increase the batch size, and increase the number of epochs. This is a computation we can now do much faster on GPU."
      ]
    },
    {
      "cell_type": "code",
      "execution_count": 37,
      "id": "0a06561e",
      "metadata": {
        "id": "0a06561e",
        "colab": {
          "base_uri": "https://localhost:8080/"
        },
        "outputId": "79389cf9-7d46-4d93-fd6a-179d5ebe4e49"
      },
      "outputs": [
        {
          "output_type": "stream",
          "name": "stdout",
          "text": [
            "Files already downloaded and verified\n",
            "Files already downloaded and verified\n"
          ]
        }
      ],
      "source": [
        "# Set larger batch size\n",
        "batch_size = 128\n",
        "train_data = torchvision.datasets.CIFAR10(root='./data', train=True,\n",
        "                                        download=True, transform=transform)\n",
        "train_dataloader = torch.utils.data.DataLoader(train_data, batch_size=batch_size,\n",
        "                                          shuffle=True, num_workers=2)\n",
        "test_data = torchvision.datasets.CIFAR10(root='./data', train=False,\n",
        "                                       download=True, transform=transform)\n",
        "val_dataloader = torch.utils.data.DataLoader(test_data, batch_size=batch_size,\n",
        "                                         shuffle=False, num_workers=2)"
      ]
    },
    {
      "cell_type": "code",
      "execution_count": 38,
      "id": "U8pcVnCECoD1",
      "metadata": {
        "id": "U8pcVnCECoD1"
      },
      "outputs": [],
      "source": [
        "# Choose compute device type\n",
        "device = torch.device('cuda:0' if torch.cuda.is_available() else 'cpu')\n",
        "\n",
        "# Uncomment to run on cpu\n",
        "#device = 'cpu'"
      ]
    },
    {
      "cell_type": "code",
      "execution_count": 39,
      "id": "UsesFi1HCDhY",
      "metadata": {
        "id": "UsesFi1HCDhY"
      },
      "outputs": [],
      "source": [
        "l1 = 64\n",
        "l2 = 128\n",
        "\n",
        "# Redefine the original CNN to allow sending computation of tensors to GPU\n",
        "class Net(nn.Module):\n",
        "\n",
        "    def __init__(self):\n",
        "        super().__init__()\n",
        "        self.conv1 = nn.Conv2d(3, l1, 5)\n",
        "        self.pool = nn.MaxPool2d(2, 2)\n",
        "        self.conv2 = nn.Conv2d(l1, l2, 5)\n",
        "        self.fc1 = nn.Linear(l2 * 5 * 5, 128)\n",
        "        self.fc2 = nn.Linear(128, 64)\n",
        "        self.fc3 = nn.Linear(64, 10)\n",
        "\n",
        "    # This declares the forward pass for the network.\n",
        "    def forward(self, x):\n",
        "        x = x.to(device)\n",
        "        x = self.pool(F.relu(self.conv1(x)))\n",
        "        x = self.pool(F.relu(self.conv2(x)))\n",
        "        x = torch.flatten(x, 1)\n",
        "        x = F.relu(self.fc1(x))\n",
        "        x = F.relu(self.fc2(x))\n",
        "        x = self.fc3(x)\n",
        "        return x\n",
        "\n",
        "net = Net()"
      ]
    },
    {
      "cell_type": "code",
      "execution_count": 40,
      "id": "606VlEOMCDj3",
      "metadata": {
        "id": "606VlEOMCDj3",
        "colab": {
          "base_uri": "https://localhost:8080/"
        },
        "outputId": "01a9c30d-7f9b-4184-eca7-22660de9f44d"
      },
      "outputs": [
        {
          "output_type": "stream",
          "name": "stdout",
          "text": [
            "True\n"
          ]
        }
      ],
      "source": [
        "# Send to device\n",
        "net.to(device)\n",
        "\n",
        "# Check if the params are on GPU. Should output True if the model is on the GPU\n",
        "print(next(net.parameters()).is_cuda)"
      ]
    },
    {
      "cell_type": "code",
      "execution_count": 41,
      "id": "0objfmGsCDl-",
      "metadata": {
        "id": "0objfmGsCDl-"
      },
      "outputs": [],
      "source": [
        "classifier_model = net\n",
        "loss_function = nn.CrossEntropyLoss()\n",
        "optimiser = optim.SGD(net.parameters(), lr=0.001, momentum=0.9)"
      ]
    },
    {
      "cell_type": "markdown",
      "id": "DmH1nW_bDLM6",
      "metadata": {
        "id": "DmH1nW_bDLM6"
      },
      "source": [
        "### Runtime ~ 5 minutes, but the accuracy is now over 70%"
      ]
    },
    {
      "cell_type": "code",
      "execution_count": 42,
      "id": "3TBAJuP7CD02",
      "metadata": {
        "id": "3TBAJuP7CD02",
        "colab": {
          "base_uri": "https://localhost:8080/"
        },
        "outputId": "8dac344c-c269-4612-da5a-b21b1e8674ad"
      },
      "outputs": [
        {
          "output_type": "stream",
          "name": "stdout",
          "text": [
            "[Epoch: 1,   390] loss: 2.293\n",
            "[Epoch: 2,   390] loss: 2.161\n",
            "[Epoch: 3,   390] loss: 1.897\n",
            "[Epoch: 4,   390] loss: 1.739\n",
            "[Epoch: 5,   390] loss: 1.614\n",
            "[Epoch: 6,   390] loss: 1.525\n",
            "[Epoch: 7,   390] loss: 1.461\n",
            "[Epoch: 8,   390] loss: 1.403\n",
            "[Epoch: 9,   390] loss: 1.351\n",
            "[Epoch: 10,   390] loss: 1.306\n",
            "[Epoch: 11,   390] loss: 1.261\n",
            "[Epoch: 12,   390] loss: 1.220\n",
            "[Epoch: 13,   390] loss: 1.179\n",
            "[Epoch: 14,   390] loss: 1.141\n",
            "[Epoch: 15,   390] loss: 1.108\n",
            "[Epoch: 16,   390] loss: 1.078\n",
            "[Epoch: 17,   390] loss: 1.045\n",
            "[Epoch: 18,   390] loss: 1.016\n",
            "[Epoch: 19,   390] loss: 0.985\n",
            "[Epoch: 20,   390] loss: 0.964\n",
            "[Epoch: 21,   390] loss: 0.935\n",
            "[Epoch: 22,   390] loss: 0.909\n",
            "[Epoch: 23,   390] loss: 0.882\n",
            "[Epoch: 24,   390] loss: 0.865\n",
            "[Epoch: 25,   390] loss: 0.841\n",
            "[Epoch: 26,   390] loss: 0.821\n",
            "[Epoch: 27,   390] loss: 0.798\n",
            "[Epoch: 28,   390] loss: 0.775\n",
            "[Epoch: 29,   390] loss: 0.753\n",
            "[Epoch: 30,   390] loss: 0.740\n",
            "[Epoch: 31,   390] loss: 0.717\n",
            "[Epoch: 32,   390] loss: 0.697\n",
            "[Epoch: 33,   390] loss: 0.680\n",
            "[Epoch: 34,   390] loss: 0.660\n",
            "[Epoch: 35,   390] loss: 0.640\n",
            "[Epoch: 36,   390] loss: 0.628\n",
            "[Epoch: 37,   390] loss: 0.605\n",
            "[Epoch: 38,   390] loss: 0.584\n",
            "[Epoch: 39,   390] loss: 0.568\n",
            "[Epoch: 40,   390] loss: 0.548\n",
            "Finished Training\n",
            "Runtime: 287.3644781112671 seconds\n"
          ]
        }
      ],
      "source": [
        "epochs = 40\n",
        "\n",
        "start = time.time()\n",
        "mini_batch = len(train_dataloader) - 1\n",
        "losses = []\n",
        "for epoch in range(epochs):  # Loop over the dataset multiple times\n",
        "    running_loss = 0.0\n",
        "    for i, batch in enumerate(train_dataloader, 0):\n",
        "        # Get the inputs; batch is a list of [images, labels]\n",
        "        images, labels = batch\n",
        "        # Send these tensors to GPU for computation\n",
        "        images, labels = batch[0].to(device), batch[1].to(device)\n",
        "\n",
        "        # Zero the parameter gradients\n",
        "        optimiser.zero_grad()\n",
        "\n",
        "        # forward + backward + optimize\n",
        "        logits = classifier_model(images)\n",
        "        loss = loss_function(logits, labels)\n",
        "        # Backwards pass\n",
        "        loss.backward()\n",
        "        optimiser.step()\n",
        "\n",
        "        # Print statistics\n",
        "        running_loss += loss.item()\n",
        "        # Keep track of the loss as we proceed through the training loop\n",
        "        if i % mini_batch == (mini_batch-1):    # print every epoch\n",
        "            loss = running_loss/mini_batch\n",
        "            print(f'[Epoch: {epoch + 1}, {i + 1:5d}] loss: {loss:.3f}')\n",
        "            losses.append(loss)\n",
        "            # Reset running loss each time we print it out\n",
        "            running_loss = 0.0\n",
        "\n",
        "end = time.time()\n",
        "print('Finished Training')\n",
        "print(f'Runtime: {end - start} seconds')"
      ]
    },
    {
      "cell_type": "code",
      "execution_count": 43,
      "id": "VRuWjTD3CEZm",
      "metadata": {
        "id": "VRuWjTD3CEZm",
        "colab": {
          "base_uri": "https://localhost:8080/"
        },
        "outputId": "92ecc16d-41b5-4dd6-cff5-13e7e48b9659"
      },
      "outputs": [
        {
          "output_type": "stream",
          "name": "stdout",
          "text": [
            "Accuracy over 10000 validation images: 71.68%\n"
          ]
        }
      ],
      "source": [
        "correct = 0\n",
        "total = 0\n",
        "\n",
        "with torch.no_grad():\n",
        "    for batch in val_dataloader:\n",
        "        images, labels = batch\n",
        "        images, labels = batch[0].to(device), batch[1].to(device)\n",
        "\n",
        "        logits = net(images)\n",
        "        _, predicted = torch.max(logits.data, 1)\n",
        "        total += labels.size(0)\n",
        "        correct += (predicted == labels).sum().item()\n",
        "\n",
        "print(f'Accuracy over 10000 validation images: {100 * correct / total}%')"
      ]
    },
    {
      "cell_type": "markdown",
      "id": "M0Wk2ddQEThG",
      "metadata": {
        "id": "M0Wk2ddQEThG"
      },
      "source": [
        "#### <ins>Interpretation</ins><a name=\"section7.6.1\"></a>\n",
        "\n",
        "We have been able to increase the accuracy of our model by training with more epochs while also increasing the batch size, which reduces the training time. Therefore, the upshot is that the runtime is around the same, using GPU computation speed boost, but the accuracy is now ten percentage points higher. So, increasing the number of epochs improved the accuracy. Can we keep using more and more epochs until the model is perfect? The answer is no.\n",
        "\n",
        "Let us see how the accuracy changes as we increase the number of epochs."
      ]
    },
    {
      "cell_type": "code",
      "execution_count": 44,
      "id": "GgiNOfCIr7Qq",
      "metadata": {
        "id": "GgiNOfCIr7Qq",
        "colab": {
          "base_uri": "https://localhost:8080/",
          "height": 441
        },
        "outputId": "d9ec9937-744c-4b15-ca9f-717d6068fc83"
      },
      "outputs": [
        {
          "output_type": "display_data",
          "data": {
            "text/plain": [
              "<Figure size 640x480 with 1 Axes>"
            ],
            "image/png": "[encoded data removed]"
          },
          "metadata": {}
        }
      ],
      "source": [
        "# Results: (epochs, runtime, accuracy)\n",
        "epoch_computations = [(1, 7.408554792, 20.58), (3, 22.32866406, 34.06),\n",
        "                      (6, 44.73545718, 43.34), (9, 67.79624248, 51.34),\n",
        "                      (12, 89.88221908, 56.1), (15, 113.297296, 60.78),\n",
        "                      (17, 127.0894275, 61.5), (20, 148.2551584, 65.31),\n",
        "                      (25, 184.7168143, 66.88), (30, 222.9016218, 70.09),\n",
        "                      (35, 278.0812137, 71.6), (40, 316.836256, 72.52),\n",
        "                      (45, 353.6044488, 72.03), (50, 401.4707859, 72.56),\n",
        "                      (60, 448.4164722, 72.16), (70, 503.9833045, 71.89),\n",
        "                      (80, 575.6888978, 72.83), (90, 647.5170252, 72.16),\n",
        "                      (100, 718.2058516, 71.33), (120, 904.9342792, 71.32),\n",
        "                      (160, 1189.518613, 71.78)]\n",
        "\n",
        "x0 = [x[0] for x in epoch_computations]\n",
        "y_vals = [x[2] for x in epoch_computations]\n",
        "\n",
        "fig, ax = plt.subplots() # using matplotlib's Object Oriented API\n",
        "\n",
        "ax.set_title('Accuracy vs number of epochs (batch size 128)')\n",
        "ax.set_xlabel('Epochs')\n",
        "ax.set_ylabel('Accuracy (%)')\n",
        "ax.set_xticks(np.arange(0, 160 + 1, 10))\n",
        "ax.set_yticks(np.arange(0, 81, 5))\n",
        "fig.autofmt_xdate(rotation=90)\n",
        "ax.plot(x0, y_vals, color='orange', marker='x', linewidth=0.6, label='GPU')\n",
        "plt.legend(loc=\"lower right\")\n",
        "plt.grid()\n",
        "\n",
        "plt.show()\n",
        "\n"
      ]
    },
    {
      "cell_type": "markdown",
      "id": "vTyR4Rb3yxnF",
      "metadata": {
        "id": "vTyR4Rb3yxnF"
      },
      "source": [
        "We can see that the model's accuracy appears to plateau at ~72-73 percent – this is likely due to over-fitting. Inspecting the graph above, it is not likely that the performance will reach a higher accuracy. This indicates that we need to use a more powerful model that better learns the relationship between the input image and the given classes. Luckily, there are tools and methods of doing just this. We can use tools such as batch normalisation, adding more convolutional layers, or increasing the number of channels in the convolutional layers. In ResNet, at the end, we use the concept of 'residual blocks' for better training, as well as an optimiser that updates the learning rate during training."
      ]
    },
    {
      "cell_type": "code",
      "execution_count": 45,
      "id": "6vXbYiCXBnR-",
      "metadata": {
        "id": "6vXbYiCXBnR-",
        "colab": {
          "base_uri": "https://localhost:8080/",
          "height": 432
        },
        "outputId": "0c4b6bb0-fab4-4fec-88c1-dc242f55edca"
      },
      "outputs": [
        {
          "output_type": "display_data",
          "data": {
            "text/plain": [
              "<Figure size 640x480 with 1 Axes>"
            ],
            "image/png": "[encoded data removed]"
          },
          "metadata": {}
        }
      ],
      "source": [
        "# Results from computation of 40 epochs\n",
        "\n",
        "losses = [2.291115410797431, 2.148948510284619, 1.9121665567388315,\n",
        "          1.7543728436960284, 1.637560645942493, 1.5560105423183392,\n",
        "          1.4838974399639822, 1.427204738187668, 1.3787011466062893,\n",
        "          1.331928366895222, 1.283140567257581, 1.2420185533021113,\n",
        "          1.2061319261255776, 1.1617660466057564, 1.1244802942971135,\n",
        "          1.0874351320974052, 1.0554725700022314, 1.0265474505436696,\n",
        "          0.9982285975190379, 0.966488349468202, 0.9450786877471162,\n",
        "          0.9159211824312234, 0.894616000945001, 0.8687216737081328,\n",
        "          0.8509254390016541, 0.823837133472228, 0.8016081813656156,\n",
        "          0.7815181946815433, 0.7581117176033957, 0.7391059174562049,\n",
        "          0.7165729947712111, 0.7026683135563151, 0.6786948660450518,\n",
        "          0.6581839047886832, 0.6382976758205677, 0.6198027787915886,\n",
        "          0.5993096672970316, 0.5829567461824783, 0.5610159378679817,\n",
        "          0.5442586294220536]\n",
        "\n",
        "fig, ax = plt.subplots()\n",
        "\n",
        "ax.set_title('Loss vs number of epochs (batch size 128)')\n",
        "ax.set_xlabel('Epochs')\n",
        "ax.set_ylabel('Loss')\n",
        "ax.set_xticks(np.arange(0, 40 + 1, 5))\n",
        "ax.set_yticks(np.arange(0, 3, 0.2))\n",
        "fig.autofmt_xdate(rotation=90)\n",
        "ax.plot(range(len(losses)), losses, color='orange', marker='x', linewidth=0.6,\n",
        "        label='GPU')\n",
        "plt.legend(loc=\"upper right\")\n",
        "plt.grid()\n",
        "\n",
        "plt.show()"
      ]
    },
    {
      "cell_type": "markdown",
      "id": "AwLNqMo-Bp9Z",
      "metadata": {
        "id": "AwLNqMo-Bp9Z"
      },
      "source": [
        "Note that the training loss continues to decrease steadily as the number of epochs increases. But, as we can see from the previous graph, the accuracy plateaus and doesn't decrease beyond a certain point.\n",
        "\n",
        "As mentioned, this is due to overfitting. To continue minimising the loss, the model will try to memorize patterns specific to the dataset too much. This causes it to be unable to perform better on unseen data, and often, the performance of the model, in terms of accuracy, will start to decrease at this point.\n",
        "\n",
        "Using techniques such as batch normalisation, and residual layers which will be explored later, we shall see that we can improve accuracy."
      ]
    },
    {
      "cell_type": "markdown",
      "id": "-u_wbUE1Ezze",
      "metadata": {
        "id": "-u_wbUE1Ezze"
      },
      "source": [
        "#### <ins>Comparison of GPU vs CPU computions</ins><a name=\"section7.6.2\"></a>\n",
        "\n",
        "Below, we see that the training time on different batch sizes follows a similar pattern for GPU and CPU computations; however, GPU is consistently much faster. We keep the number of epochs the same for comparison. Then, we show how the accuracy varies as a function of the number of epochs used to train the network."
      ]
    },
    {
      "cell_type": "code",
      "execution_count": 46,
      "id": "m5Lq7jvwDgEn",
      "metadata": {
        "id": "m5Lq7jvwDgEn"
      },
      "outputs": [],
      "source": [
        "# (batch size, runtime (seconds), accuracy)\n",
        "\n",
        "gpu_computes = [(4, 433.3880789, 73.8),\n",
        "                (8, 216.0823815, 73.39),\n",
        "                (16, 114.7200339, 73.57),\n",
        "                (32, 89.74474382, 71.45),\n",
        "                (64, 79.80019307, 63.16),\n",
        "                (128, 72.4001863, 51.89),\n",
        "                (256, 68.97899532, 41.75),\n",
        "                (512, 66.80634308, 31.77),\n",
        "                (1024, 67.52044535, 22.18)]\n",
        "\n",
        "cpu_computes = [(4, 1081.162732, 72.04),\n",
        "                (8, 811.0543149, 73.05),\n",
        "                (16, 654.4295506, 73.77),\n",
        "                (32, 598.5905275, 71.34),\n",
        "                (64, 546.3165207, 64.15),\n",
        "                (128, 530.3795588, 52.67),\n",
        "                (256, 566.4555404, 43.82),\n",
        "                (512, 636.495065, 32.08),\n",
        "                (1024, 691.1057892, 20.7)]"
      ]
    },
    {
      "cell_type": "code",
      "execution_count": 47,
      "id": "vdq5CkygDgJz",
      "metadata": {
        "id": "vdq5CkygDgJz",
        "colab": {
          "base_uri": "https://localhost:8080/",
          "height": 450
        },
        "outputId": "79079f7d-34e8-45e3-8d8f-5a366add9b1c"
      },
      "outputs": [
        {
          "output_type": "display_data",
          "data": {
            "text/plain": [
              "<Figure size 640x480 with 1 Axes>"
            ],
            "image/png": "[encoded data removed]"
          },
          "metadata": {}
        }
      ],
      "source": [
        "x1 = [x[0] for x in gpu_computes]\n",
        "gpu_times = [x[1] for x in gpu_computes]\n",
        "x2 = [x[0] for x in cpu_computes]\n",
        "cpu_times = [x[1] for x in cpu_computes]\n",
        "\n",
        "fig, ax = plt.subplots() # using matplotlib's Object Oriented API\n",
        "\n",
        "ax.set_title('Training time on different batch size (with 10 epochs)')\n",
        "ax.set_xlabel('Batch size')\n",
        "ax.set_ylabel('Time (seconds)')\n",
        "ax.set_xticks(np.arange(0, 1000 + 1, 50))\n",
        "ax.set_yticks(np.arange(0, 1100 + 1, 100))\n",
        "fig.autofmt_xdate(rotation=90)\n",
        "ax.plot(x2, cpu_times, color='blue', marker='x', linewidth=0.6, label='CPU')\n",
        "ax.plot(x1, gpu_times, color='orange', marker='x', linewidth=0.6, label='GPU')\n",
        "plt.legend(loc=\"upper right\")\n",
        "plt.grid()\n",
        "plt.show()"
      ]
    },
    {
      "cell_type": "code",
      "execution_count": 48,
      "id": "7yXj_cOODlcV",
      "metadata": {
        "id": "7yXj_cOODlcV",
        "colab": {
          "base_uri": "https://localhost:8080/",
          "height": 432
        },
        "outputId": "09b8b1a8-3971-437d-b898-a53d9814f0dd"
      },
      "outputs": [
        {
          "output_type": "display_data",
          "data": {
            "text/plain": [
              "<Figure size 640x480 with 1 Axes>"
            ],
            "image/png": "[encoded data removed]"
          },
          "metadata": {}
        }
      ],
      "source": [
        "# More computes for lower batch sizes\n",
        "gpu_computes1 = [(1, 1650.808966, 57.71),\n",
        "                 (2, 795.7941215, 69.89),\n",
        "                 (4, 418.9475262, 72.05),\n",
        "                 (8, 213.3426504, 73.51),\n",
        "                 (12, 146.6565442, 73.76),\n",
        "                 (16, 114.7200339, 73.57),\n",
        "                 (32, 89.74474382, 71.45),\n",
        "                 (64, 79.80019307, 63.16)]\n",
        "\n",
        "x3 = [x[0] for x in gpu_computes1]\n",
        "gpu_acc = [x[2] for x in gpu_computes1]\n",
        "\n",
        "fig, ax = plt.subplots() # using matplotlib's Object Oriented API\n",
        "\n",
        "ax.set_title('Accuracy vs batch size (10 epochs)')\n",
        "ax.set_xlabel('Batch size')\n",
        "ax.set_ylabel('Accuracy (%)')\n",
        "ax.set_xticks(np.arange(0, 70 + 1, 10))\n",
        "ax.set_yticks(np.arange(54, 81, 2))\n",
        "fig.autofmt_xdate(rotation=90)\n",
        "ax.plot(x3, gpu_acc, color='orange', marker='x', linewidth=0.6, label='GPU')\n",
        "plt.legend(loc=\"upper right\")\n",
        "plt.grid()\n",
        "\n",
        "plt.show()"
      ]
    },
    {
      "cell_type": "markdown",
      "id": "G3cJNT9L-kd6",
      "metadata": {
        "id": "G3cJNT9L-kd6"
      },
      "source": [
        "The accuracy is initially very low, as the batch size is tiny. The accuracy then reaches a peak and diminishes as the batch size increases. With the batch size, there is a certain trade-off between the accuracy of the model and the speed. As we saw from the previous graph, a small batch size has a very large computation time, while larger batch sizes greatly reduce the training time. So, we can see that we need to balance the trade-off between the training time of the mode and the accuracy. This is also explained [here](https://www.kaggle.com/code/shadabhussain/cifar-10-cnn-using-pytorch).\n",
        "\n",
        "Inspecting these graphs, we can see that a batch size of around 12, with ten epochs, leads to the highest accuracy. Furthermore, on GPU, this does not have an enormous runtime due to the benefit of the parallel computation architecture of the GPU.\n",
        "\n",
        "Larger batch sizes are less susceptible to random fluctuations within the training set. This is because the training, in each epoch, is done over more data, which smooths out these abnormalities, so to speak. However, a larger batch size may cause the model to converge slower; this is another of the many trade-offs we encounter in machine learning. There is no ideal batch size, and there needs to be an analysis to decide on a case-by-case basis which is the best for each model."
      ]
    },
    {
      "cell_type": "markdown",
      "id": "ad6adf9f",
      "metadata": {
        "id": "ad6adf9f"
      },
      "source": [
        "## <ins>Batch normalisation (used in ResNet)</ins><a name=\"section8\"></a>\n",
        "\n",
        "One of the most integral problems in the field of data science when training classifiers is that of over-fitting. The issue can be typified by the following: consider a scenario where a model performs very well during training — so well that we become very optimistic about its further employment on unseen data; however, when applied to this new data, the model falls short of expectations; here we come across the problem: overfitting. The model has been trained too well on the given training data, and therefore, it does not have the ability to adapt to new data. An attempt to solve this problem is a method of regularisation: this technique also aids the speed of convergence of a model. Various techniques exist, such as batch normalisation.\n",
        "\n",
        "### What is [batch normalisation](https://www.analyticsvidhya.com/blog/2021/03/introduction-to-batch-normalization/#:~:text=By%20reducing%20internal%20covariate%20shift%2C%20batch%20normalization%20allows%20for%20higher,more%20efficient%20neural%20network%20training.)?\n",
        "\n",
        "First, let us clearly define what we mean by using the term ‘normalisation.’ Normalisation is a pre-processing technique that we employ on data in order to scale it without distorting its shape.\n",
        "   \n",
        "In deep learning models, it is most often beneficial to scale the data in this manner. This way, we attempt to ensure that our model is able to successfully generalise (onto unseen data). Batch normalisation aims to improve the performance of neural networks, as well as increase their stability by adding more layers to the network. These new layers perform standardisation and normalisation operations on the inputted data that arrives from the previous layer.\n",
        "\n",
        "Assume that we have a tensor with $G$ feature maps. Batch normalisation performs a normalisation operation on each of its channels which centres and normalises feature maps $[16]$. So, for each feature map $g \\in G$, we subtract its mean, $m$, and then divide by the standard deviation, $s$. Hence, the output is $ z := (g - m)/s$.\n",
        "\n",
        "Next, the normalised output undergoes further scaling: a linear transformation. The normalised output is multiplied by an arbitary sclaing parameter, $\\gamma$, and another arbitrary translation parameter, $\\beta$, is added. Hence we have $z' = z\\cdot\\gamma + \\beta$. Visually, we have done the following.\n",
        "\n",
        "<center>\n",
        "<img src=\"https://miro.medium.com/v2/resize:fit:1400/format:webp/1*Dlmgk79JARTmvRil7np8Pw.png\" alt=\"batch norm\" style=\"width:550px;\"/>\n",
        "</center>\n",
        "\n",
        "The key is that the parameters $\\gamma$ and $\\beta$ are learnable. That is, they can be optimised by the model through training so that they take values that, for example, maximise the accuracy of the classifier.\n",
        "\n",
        "\n",
        "### Why use batches?\n",
        "\n",
        "Typically, the process of training a neural network uses data that are split into a collected set called a ‘batch.’ Therefore, the normalisation operations are performed on these data batches, and not on the entire dataset at once. This process has the advantage of speeding up the training process by normalising the activation layer.\n",
        "\n",
        "Furthermore, if the features vary widely, i.e., they are not on the same scale (e.g., age and miles driven), larger data points can cause instability in the network since the relatively large inputs can cascade down through the layers in the network, potentially resulting in highly imbalanced gradients. Non-normalised data also decrease training speeds.\n",
        "\n",
        "Batch normalisation also injects noise (via the batch statistics) which improves a model's ability to generalise/adapt to new data. Through the process of stochastic gradient descent, during training, some weights can become much larger than others. This causes imbalance and instability in the network. Implementing batch normalisation at each stage the batches enter a layer aims to solve this issue by stabilising the optimisation process, which allows for higher learning rates and faster training. The following graph is taken from the blog ['How to Train Your ResNet'](https://myrtle.ai/learn/how-to-train-your-resnet-7-batch-norm/). We can see that, with batch normalisation, the model remains stable over a larger range of learning rates. This is important since a higher learning rate leads to much faster training times.\n",
        "\n",
        "<center>\n",
        "<img src=\"https://myrtle.ai/wp-content/uploads/2019/06/Artboard-1-7-1-1.svg\" alt=\"batch_norm_lr\" style=\"width:450px;\"/>\n",
        "</center>\n",
        "\n",
        "### Drawbacks\n",
        "\n",
        "* The process slows down the network by introducing more computations; however, a process known as node fusion can help increase runtime.\n",
        "* It is not effective when smaller batches are used.\n",
        "\n",
        "Typically, the improvements provided by its use outweigh the drawbacks, and it is often a vital part of the best-performing machine learning algorithms."
      ]
    },
    {
      "cell_type": "markdown",
      "id": "1dc2c6cf",
      "metadata": {
        "id": "1dc2c6cf"
      },
      "source": [
        "## <ins>ResNet: a large improvement</ins><a name=\"section9\"></a>\n",
        "\n",
        "ResNet, or residual network, is a term for a form of neural network that uses in its architecture the notion of 'residual blocks.' Inputs into these blocks can 'skip' layers and be added to the output of a layer further in the network. This is done through a process of 'shortcuts.'\n",
        "\n",
        "### <ins>Motivation: What do we mean by the 'residual?'</ins><a name=\"section9.1\"></a>\n",
        "\n",
        "Suppose we have the following problem: we wish to create a function (i.e., a neural network) that takes a low-resolution image as an input and outputs a higher-resolution version of the image. Clearly, an input image has a limited amount of information, and we cannot magically make clearer what we do not know is there; however, with machine learning and AI, we can create a model that accomplishes this task. Such a model can be trained on thousands of images to learn how to predict what information is missing from the original image – we call this missing information the 'residual'; the original low-resolution input image can then be augmented with this learnt information to form a high-resolution output.\n",
        "\n",
        "So, given that we have low-resolution input image data at the time of training, we can create a network to learn only the part of the image that we care about – the residual. Framing the problem in this way makes the network's job much easier, since it doesn't need to retain the entire input signal. This was the same intuition that inspired the authors of the 2015 paper 'Deep Residual Learning for Image Recognition' $[17]$. This paper is considered seminal in the field of deep learning. It is rare to find a model architecture in deep learning that does not utilise the contributions from this paper in some fashion.\n",
        "\n",
        "Now, we often want to create a model with inputs and outputs that do not share the same dimensions. For example, in image classification, where you have an input image and map it to a single class label. How do we meaningfully add inputs and outputs in such a scenario? We must consider how the input signal is propagated throughout the network. What we don't want to do is lose track of an input signal after several layers in the network. Now, if we add residual connections all the way along the network, we can boost the input signal all the way along the network. This allows us to sum inputs and outputs since the dimensionality is adjusted on the go. The network is then a series of 'residual blocks' rather than independent layers. Thus, the network has the option of not fully utilising all the blocks since it is easy for each block to output the identity function and take no penalty in relation to the loss function; this allows us to train extremely deep networks.\n",
        "\n",
        "### <ins>A closer look at the architecture: the residual block</ins><a name=\"section9.2\"></a>\n",
        "\n",
        "<center>\n",
        "<img src=\"https://production-media.paperswithcode.com/methods/resnet-e1548261477164_2_mD02h5A.png\" alt=\"residual block\" style=\"width:350px;\"/>\n",
        "</center>\n",
        "\n",
        "In the above diagram, an input (or identity), $x$, arrives in the weight layer. This layer includes a convolutional layer, batch normalisation, and then an activation layer using the ReLU function. Then we pass through another convolutional layer, and then batch normalisation. These layers aim to learn the residual function, $F(x)$, with respect to the input signal. The identity is added to this function, yielding $\n",
        "F(x) + x$, and then ReLU is applied. More formally, a desired underlying mapping $H(x)$ can be expressed as $F(x) := F(x) - x$. We then recast the original mapping into $F(x) + x$, where $F(x)$ acts as a residual. This defines the residual block.\n",
        "\n",
        "#### Below is a sample of code that uses pytorch to implement the forward pass of a residual block.\n",
        "\n"
      ]
    },
    {
      "cell_type": "code",
      "execution_count": 49,
      "id": "8f0e6981",
      "metadata": {
        "id": "8f0e6981"
      },
      "outputs": [],
      "source": [
        "def fwd(self, x): # x is a tensor\n",
        "        identity = x\n",
        "\n",
        "        out = self.conv1(x)\n",
        "        out = self.bn1(out)\n",
        "        out = self.relu(out)\n",
        "\n",
        "        out = self.conv2(out)\n",
        "        out = self.bn2(out)\n",
        "\n",
        "        if self.downsample is not None:\n",
        "            identity = self.downsample(x)\n",
        "\n",
        "        out += identity\n",
        "        out = self.relu(out)\n",
        "\n",
        "        return out"
      ]
    },
    {
      "cell_type": "markdown",
      "id": "cdd5832b",
      "metadata": {
        "id": "cdd5832b"
      },
      "source": [
        "### <ins>The issue of dimensionality</ins><a name=\"section9.3\"></a>\n",
        "\n",
        "In the original 2015 paper 'Deep Residual Learning for Image Recognition,' the authors proposed a downsampling method throughout the network, where convolutional layers occasionally have a stride of two. This produces features with half the height, half the width, and double the number of convolutional filters, which in turn doubles the number of channels in the output features. A problem here arises with dimension matching, since the input that is sent through the residual connection does not have the same dimensions as the features coming through the network.\n",
        "\n",
        "### The authors proposed two solutions:\n",
        "\n",
        "1. Match the number of feature channels with zero padding. This option has the benefit of introducing no new parameters into the model. This is done by 'filling up' half the features with zeros. 'The shortcut still performs identity mapping, with extra zero entries padded for increasing dimensions. This option introduces no new parameters.' $[17]$ However, doing this wastes computation on meaningless features full of zeros.\n",
        "\n",
        "2. Match the number of channels by passing over the input features with a 1x1 convolution. This, of course, adds extra parameters, but it means that the output features only contain real information. For example, if the input features had three channels, then they would now have six 1x1 convolutional features to double the number of channels in the output space.\n",
        "\n",
        "'For both options, when the shortcuts go across feature maps of two sizes, they are performed with a stride of 2.' $[17]$ This means that the output feature maps have half the width, half the height, and double the channels. Hence, they exactly match the current input features at that stage of the network. The authors found that the second approach led to the best results."
      ]
    },
    {
      "cell_type": "markdown",
      "id": "06838205",
      "metadata": {
        "id": "06838205"
      },
      "source": [
        "## <ins>Implementing ResNet</ins><a name=\"section10\"></a>\n",
        "\n",
        "This code is taken from/inspired by the following [link](https://www.analyticsvidhya.com/blog/2021/09/convolutional-neural-network-pytorch-implementation-on-cifar10-dataset/)."
      ]
    },
    {
      "cell_type": "code",
      "execution_count": 50,
      "id": "8d36b55e",
      "metadata": {
        "id": "8d36b55e"
      },
      "outputs": [],
      "source": [
        "@torch.no_grad()\n",
        "def accuracy(outputs, labels):\n",
        "    _, preds = torch.max(outputs, dim=1)\n",
        "    return torch.tensor(torch.sum(preds == labels).item() / len(preds))\n",
        "\n",
        "class ImageClassificationBase(nn.Module):\n",
        "    def training_step(self, batch):\n",
        "        images, labels = batch\n",
        "        out = self(images)                  # Generate predictions\n",
        "        loss = F.cross_entropy(out, labels) # Calculate loss\n",
        "        return loss\n",
        "\n",
        "    def validation_step(self, batch):\n",
        "        images, labels = batch\n",
        "        out = self(images)                    # Generate predictions\n",
        "        loss = F.cross_entropy(out, labels)   # Calculate loss\n",
        "        acc = accuracy(out, labels)           # Calculate accuracy\n",
        "        return {'val_loss': loss.detach(), 'val_acc': acc}\n",
        "\n",
        "    def validation_epoch_end(self, outputs):\n",
        "        batch_losses = [x['val_loss'] for x in outputs]\n",
        "        epoch_loss = torch.stack(batch_losses).mean()   # Combine losses\n",
        "        batch_accs = [x['val_acc'] for x in outputs]\n",
        "        epoch_acc = torch.stack(batch_accs).mean()      # Combine accuracies\n",
        "        return {'val_loss': epoch_loss.item(), 'val_acc': epoch_acc.item()}\n",
        "\n",
        "    def test_step(self, batch):\n",
        "        images, labels = batch\n",
        "        out = self(images)                    # Generate predictions\n",
        "        loss = F.cross_entropy(out, labels)   # Calculate loss\n",
        "        acc = accuracy(out, labels)           # Calculate accuracy\n",
        "        return {'test_loss': loss.detach(), 'test_acc': acc}\n",
        "\n",
        "    def test_epoch_end(self, outputs):\n",
        "        batch_losses = [x['test_loss'] for x in outputs]\n",
        "        epoch_loss = torch.stack(batch_losses).mean()   # Combine losses\n",
        "        batch_accs = [x['test_acc'] for x in outputs]\n",
        "        epoch_acc = torch.stack(batch_accs).mean()      # Combine accuracies\n",
        "        return {'test_loss': epoch_loss.item(), 'test_acc': epoch_acc.item()}\n",
        "\n",
        "    def epoch_end(self, epoch, result):\n",
        "        print(\"Epoch [{}], train_loss: {:.4f}, val_loss: {:.4f}, val_acc: {:.4f}\".format(\n",
        "            epoch, result['train_loss'], result['val_loss'], result['val_acc']))"
      ]
    },
    {
      "cell_type": "code",
      "execution_count": 51,
      "id": "bffc973b",
      "metadata": {
        "id": "bffc973b"
      },
      "outputs": [],
      "source": [
        "def evaluate(model, val_loader):\n",
        "    model.eval()\n",
        "    outputs = [model.validation_step(batch) for batch in val_loader]\n",
        "    return model.validation_epoch_end(outputs)\n",
        "\n",
        "def test(model, test_loader):\n",
        "    model.eval()\n",
        "    outputs = [model.test_step(batch) for batch in test_loader]\n",
        "    return model.test_epoch_end(outputs)\n",
        "\n",
        "def fit(epochs, lr, model, train_loader, val_loader, opt_func):\n",
        "    history = [] #store model accuracy and loss for each epoch\n",
        "    training_start_time=time.time()\n",
        "    optimizer = opt_func\n",
        "    for epoch in range(epochs):\n",
        "        # Training Phase\n",
        "        model.train()\n",
        "        train_losses = []\n",
        "        for batch in train_loader:\n",
        "            loss = model.training_step(batch)\n",
        "            train_losses.append(loss)\n",
        "            loss.backward()\n",
        "            optimizer.step()\n",
        "            optimizer.zero_grad()\n",
        "        # Validation phase\n",
        "        result = evaluate(model, val_loader)\n",
        "        result['train_loss'] = torch.stack(train_losses).mean().item()\n",
        "        model.epoch_end(epoch, result)\n",
        "        history.append(result)\n",
        "    print('Training finished, took {:.2f}s'.format(time.time() - training_start_time))\n",
        "    return history"
      ]
    },
    {
      "cell_type": "code",
      "execution_count": 52,
      "id": "a5eb04fa",
      "metadata": {
        "id": "a5eb04fa"
      },
      "outputs": [],
      "source": [
        "def get_default_device():\n",
        "    \"\"\"Pick GPU if available, else CPU\"\"\"\n",
        "    if torch.cuda.is_available():\n",
        "        return torch.device('cuda')\n",
        "    else:\n",
        "        return torch.device('cpu')\n",
        "\n",
        "device = get_default_device()\n",
        "def to_device(data, device):\n",
        "    \"\"\"Move tensor(s) to chosen device\"\"\"\n",
        "    if isinstance(data, (list,tuple)):\n",
        "        return [to_device(x, device) for x in data]\n",
        "    return data.to(device, non_blocking=True)\n",
        "\n",
        "class DeviceDataLoader():\n",
        "    \"\"\"Wrap a dataloader to move data to a device\"\"\"\n",
        "    def __init__(self, dl, device):\n",
        "        self.dl = dl\n",
        "        self.device = device\n",
        "\n",
        "    def __iter__(self):\n",
        "        \"\"\"Yield a batch of data after moving it to device\"\"\"\n",
        "        for b in self.dl:\n",
        "            yield to_device(b, self.device)\n",
        "\n",
        "    def __len__(self):\n",
        "        \"\"\"Number of batches\"\"\"\n",
        "        return len(self.dl)"
      ]
    },
    {
      "cell_type": "code",
      "execution_count": 53,
      "id": "6IDOj0PDqqM2",
      "metadata": {
        "id": "6IDOj0PDqqM2"
      },
      "outputs": [],
      "source": [
        "def plot_loss_accuracy(history):\n",
        "    train_losses = [x['train_loss'] for x in history]\n",
        "    val_losses = [x['val_loss'] for x in history]\n",
        "    accuracies = [x['val_acc'] for x in history]\n",
        "    fig, axes = plt.subplots(nrows=1, ncols=2, figsize=(12, 6))\n",
        "    axes[0].plot(val_losses,'-x', label='validation loss', color='blue')\n",
        "    axes[0].plot(train_losses,'-x', label='training loss', color='orange')\n",
        "    axes[0].set_xlabel('Epochs')\n",
        "    axes[0].set_ylabel('Loss')\n",
        "    axes[0].set_title('Loss vs. number of epochs')\n",
        "    axes[0].set_xticks(np.arange(0, 31, 2))\n",
        "    axes[0].legend()\n",
        "\n",
        "\n",
        "    axes[1].plot(accuracies,'-x')\n",
        "    axes[1].set_xlabel('Epochs')\n",
        "    axes[1].set_ylabel('Accuracy')\n",
        "    axes[1].set_title('Accuracy vs. number of epochs')\n",
        "    axes[1].set_xticks(np.arange(0, 31, 2))\n",
        "    plt.show()"
      ]
    },
    {
      "cell_type": "code",
      "execution_count": 54,
      "id": "9-qJbaolHnVE",
      "metadata": {
        "id": "9-qJbaolHnVE",
        "colab": {
          "base_uri": "https://localhost:8080/"
        },
        "outputId": "07510105-633e-4e58-92dd-cb2c698bb9e5"
      },
      "outputs": [
        {
          "output_type": "stream",
          "name": "stdout",
          "text": [
            "Files already downloaded and verified\n",
            "Files already downloaded and verified\n"
          ]
        }
      ],
      "source": [
        "train_data = torchvision.datasets.CIFAR10(root='./data', train=True,\n",
        "                                        download=True, transform=transform)\n",
        "test_data = torchvision.datasets.CIFAR10(root='./data', train=False,\n",
        "                                       download=True, transform=transform)"
      ]
    },
    {
      "cell_type": "code",
      "execution_count": 55,
      "id": "z1HJ0_n3N0E6",
      "metadata": {
        "id": "z1HJ0_n3N0E6",
        "colab": {
          "base_uri": "https://localhost:8080/"
        },
        "outputId": "ffd7accf-ec61-4d71-dd4f-6ac4cb27d6d4"
      },
      "outputs": [
        {
          "output_type": "stream",
          "name": "stdout",
          "text": [
            "45000 5000\n"
          ]
        }
      ],
      "source": [
        "# Create smaller validation set within training set\n",
        "torch.manual_seed(42)\n",
        "val_size=5000 #10% of training data\n",
        "train_size=len(train_data)-val_size\n",
        "train_data,valset=torch.utils.data.random_split(train_data,[train_size,val_size])\n",
        "print(len(train_data), len(valset))"
      ]
    },
    {
      "cell_type": "code",
      "execution_count": 56,
      "id": "8CsbYns5L10T",
      "metadata": {
        "id": "8CsbYns5L10T"
      },
      "outputs": [],
      "source": [
        "batch_size = 128\n",
        "train_data=torch.utils.data.DataLoader(train_data, batch_size, shuffle=True,\n",
        "                                       pin_memory=True)\n",
        "valset=torch.utils.data.DataLoader(valset,batch_size, shuffle=False,\n",
        "                                     pin_memory=True)\n",
        "test_data=torch.utils.data.DataLoader(test_data, batch_size, shuffle=False,\n",
        "                                      pin_memory=True)"
      ]
    },
    {
      "cell_type": "code",
      "execution_count": 57,
      "id": "CULE3BoPL13Y",
      "metadata": {
        "id": "CULE3BoPL13Y"
      },
      "outputs": [],
      "source": [
        "train_data = DeviceDataLoader(train_data, device)\n",
        "valset = DeviceDataLoader(valset, device)\n",
        "test_data = DeviceDataLoader(test_data, device)"
      ]
    },
    {
      "cell_type": "markdown",
      "id": "82036182",
      "metadata": {
        "id": "82036182"
      },
      "source": [
        "The Dropout layer randomly sets input units to 0 with a frequency of rate at each step during training time, which helps prevent overfitting."
      ]
    },
    {
      "cell_type": "code",
      "execution_count": 58,
      "id": "qGleUf_ttUen",
      "metadata": {
        "id": "qGleUf_ttUen"
      },
      "outputs": [],
      "source": [
        "# Note the use of the function Dropout. This layer selects at random inputs and\n",
        "# sets them to zero during training time; this help to prevent over-fitting.\n",
        "# Here, it is performed with probability, p = 0.25, that an element will be set\n",
        "# to zero. Inputs not set to zero are scaled by a factor of 1 / (1 - p), where\n",
        "# the total sum of all the inputs remains unchanged.\n",
        "\n",
        "class ResNet(ImageClassificationBase):\n",
        "\n",
        "    def __init__(self):\n",
        "        super().__init__()\n",
        "        self.network=nn.Sequential(\n",
        "            nn.Conv2d(3,32,3,padding=1), # Pad input with 1 column and row from each size.\n",
        "            nn.BatchNorm2d(32),#2D Batch Normalization since our inputs are 4D.\n",
        "            nn.ReLU(),\n",
        "            nn.MaxPool2d(2,2),\n",
        "            nn.Dropout(0.25),\n",
        "\n",
        "            nn.Conv2d(32,64,3,padding=1),\n",
        "            nn.BatchNorm2d(64),\n",
        "            nn.ReLU(),\n",
        "            nn.Dropout(0.25),\n",
        "\n",
        "            nn.Conv2d(64,128,3,padding=1),\n",
        "            nn.BatchNorm2d(128),\n",
        "            nn.ReLU(),\n",
        "            nn.MaxPool2d(2,2),\n",
        "            nn.Dropout(0.25),\n",
        "\n",
        "            nn.Conv2d(128,128,3,padding=1),\n",
        "            nn.BatchNorm2d(128),\n",
        "            nn.ReLU(),\n",
        "            nn.Dropout(0.25),\n",
        "\n",
        "            nn.Conv2d(128,128,3,padding=1),\n",
        "            nn.BatchNorm2d(128),\n",
        "            nn.ReLU(),\n",
        "            nn.MaxPool2d(2,2),\n",
        "            nn.Dropout(0.25),\n",
        "\n",
        "            nn.Flatten(),\n",
        "            nn.Linear(128*4*4,512),\n",
        "            nn.ReLU(),\n",
        "            nn.Linear(512,256),\n",
        "            nn.ReLU(),\n",
        "            nn.Linear(256,10))\n",
        "\n",
        "    def forward(self,x):\n",
        "        return self.network(x)\n"
      ]
    },
    {
      "cell_type": "code",
      "execution_count": 59,
      "id": "iCflcwzYtUgv",
      "metadata": {
        "id": "iCflcwzYtUgv"
      },
      "outputs": [],
      "source": [
        "model_ResNet = to_device(ResNet(), device)"
      ]
    },
    {
      "cell_type": "code",
      "execution_count": 60,
      "id": "E5vlCP8A9Elg",
      "metadata": {
        "id": "E5vlCP8A9Elg"
      },
      "outputs": [],
      "source": [
        "num_epochs=30\n",
        "lr=0.001\n",
        "opt_func=torch.optim.Adam(model_ResNet.parameters(), lr)\n"
      ]
    },
    {
      "cell_type": "markdown",
      "id": "vM3T3MXnPMKr",
      "metadata": {
        "id": "vM3T3MXnPMKr"
      },
      "source": [
        "### Runtime ~ 7 minutes\n",
        "\n",
        "A sample results is stored in the appendix if you wish to avoid running this computation."
      ]
    },
    {
      "cell_type": "code",
      "execution_count": 61,
      "id": "pIHAUVfotUl7",
      "metadata": {
        "id": "pIHAUVfotUl7",
        "colab": {
          "base_uri": "https://localhost:8080/"
        },
        "outputId": "fbc91d6b-6d40-4e9e-ef89-a5bd737770fd"
      },
      "outputs": [
        {
          "output_type": "stream",
          "name": "stdout",
          "text": [
            "Epoch [0], train_loss: 1.4154, val_loss: 1.1439, val_acc: 0.5967\n",
            "Epoch [1], train_loss: 1.0441, val_loss: 0.8492, val_acc: 0.6922\n",
            "Epoch [2], train_loss: 0.8728, val_loss: 0.7563, val_acc: 0.7305\n",
            "Epoch [3], train_loss: 0.7812, val_loss: 0.9791, val_acc: 0.6736\n",
            "Epoch [4], train_loss: 0.7059, val_loss: 0.6700, val_acc: 0.7590\n",
            "Epoch [5], train_loss: 0.6603, val_loss: 0.6840, val_acc: 0.7592\n",
            "Epoch [6], train_loss: 0.6108, val_loss: 0.6620, val_acc: 0.7656\n",
            "Epoch [7], train_loss: 0.5661, val_loss: 0.5813, val_acc: 0.7961\n",
            "Epoch [8], train_loss: 0.5283, val_loss: 0.5892, val_acc: 0.7959\n",
            "Epoch [9], train_loss: 0.4977, val_loss: 0.5798, val_acc: 0.8018\n",
            "Epoch [10], train_loss: 0.4709, val_loss: 0.5992, val_acc: 0.7943\n",
            "Epoch [11], train_loss: 0.4431, val_loss: 0.5550, val_acc: 0.8146\n",
            "Epoch [12], train_loss: 0.4201, val_loss: 0.5344, val_acc: 0.8219\n",
            "Epoch [13], train_loss: 0.3934, val_loss: 0.5681, val_acc: 0.8186\n",
            "Epoch [14], train_loss: 0.3772, val_loss: 0.5341, val_acc: 0.8260\n",
            "Epoch [15], train_loss: 0.3564, val_loss: 0.5308, val_acc: 0.8240\n",
            "Epoch [16], train_loss: 0.3350, val_loss: 0.5373, val_acc: 0.8268\n",
            "Epoch [17], train_loss: 0.3215, val_loss: 0.5729, val_acc: 0.8156\n",
            "Epoch [18], train_loss: 0.3026, val_loss: 0.5868, val_acc: 0.8172\n",
            "Epoch [19], train_loss: 0.2923, val_loss: 0.5239, val_acc: 0.8395\n",
            "Epoch [20], train_loss: 0.2767, val_loss: 0.5571, val_acc: 0.8301\n",
            "Epoch [21], train_loss: 0.2665, val_loss: 0.5483, val_acc: 0.8357\n",
            "Epoch [22], train_loss: 0.2591, val_loss: 0.5629, val_acc: 0.8330\n",
            "Epoch [23], train_loss: 0.2502, val_loss: 0.5859, val_acc: 0.8248\n",
            "Epoch [24], train_loss: 0.2322, val_loss: 0.5620, val_acc: 0.8332\n",
            "Epoch [25], train_loss: 0.2225, val_loss: 0.5466, val_acc: 0.8359\n",
            "Epoch [26], train_loss: 0.2155, val_loss: 0.5749, val_acc: 0.8314\n",
            "Epoch [27], train_loss: 0.2096, val_loss: 0.5685, val_acc: 0.8354\n",
            "Epoch [28], train_loss: 0.1997, val_loss: 0.5969, val_acc: 0.8342\n",
            "Epoch [29], train_loss: 0.1930, val_loss: 0.5639, val_acc: 0.8408\n",
            "Training finished, took 432.52s\n",
            "Finished Training\n",
            "Runtime: 432.5318851470947 seconds\n"
          ]
        }
      ],
      "source": [
        "start = time.time()\n",
        "history_ResNet = fit(num_epochs, lr, model_ResNet, train_data, valset, opt_func)\n",
        "end = time.time()\n",
        "print('Finished Training')\n",
        "print(f'Runtime: {end - start} seconds')"
      ]
    },
    {
      "cell_type": "code",
      "execution_count": 62,
      "id": "1wn_DAVQR9UV",
      "metadata": {
        "id": "1wn_DAVQR9UV",
        "colab": {
          "base_uri": "https://localhost:8080/"
        },
        "outputId": "f3d146d0-7497-4ead-8c19-59700e8aa692"
      },
      "outputs": [
        {
          "output_type": "execute_result",
          "data": {
            "text/plain": [
              "{'test_loss': 0.6293752193450928, 'test_acc': 0.8289161324501038}"
            ]
          },
          "metadata": {},
          "execution_count": 62
        }
      ],
      "source": [
        "test(model_ResNet, test_data)"
      ]
    },
    {
      "cell_type": "markdown",
      "id": "tP1_UHw1SIdp",
      "metadata": {
        "id": "tP1_UHw1SIdp"
      },
      "source": [
        "### <ins>The results: success!</ins><a name=\"section10.1\"></a>\n",
        "\n",
        "The accuracy of the ResNet classifier is much higher than before, reaching over 80%. However, many more improvements can be made, and state-of-the-art models [now reach over 99% accuracy](https://paperswithcode.com/sota/image-classification-on-cifar-10) on the test dataset. An implementation of ResNet through an informative [blog](https://myrtle.ai/learn/how-to-train-your-resnet/) achieves a 94% accuracy threshold on a single V100 GPU - the same GPU used in our analysis."
      ]
    },
    {
      "cell_type": "code",
      "execution_count": 63,
      "id": "0MzWTNha9IGM",
      "metadata": {
        "id": "0MzWTNha9IGM",
        "colab": {
          "base_uri": "https://localhost:8080/",
          "height": 564
        },
        "outputId": "157a5bbf-7e73-4ece-c5a7-536f1d540572"
      },
      "outputs": [
        {
          "output_type": "display_data",
          "data": {
            "text/plain": [
              "<Figure size 1200x600 with 2 Axes>"
            ],
            "image/png": "[encoded data removed]"
          },
          "metadata": {}
        }
      ],
      "source": [
        "plot_loss_accuracy(history_ResNet)"
      ]
    },
    {
      "cell_type": "markdown",
      "id": "buKMZZ-L_RrO",
      "metadata": {
        "id": "buKMZZ-L_RrO"
      },
      "source": [
        "Note that, in the graph on the left, the validation loss (which is a measure of error) stops decreasing after a certain number of epochs, while the training loss continues to decrease. We discussed this earlier, and this is due to the overfitting of the model. Overfitting is one of the main problems one comes across in data science and machine learning. If we were to train using even more epochs, we would find that the validation loss would increase. This will, in turn, cause the test accuracy of the model to plateau or fall because it fails to adapt to new unseen data when it is overfitted to the training data.\n",
        "\n",
        "This empirical result mirrors this theoretical graph, found [here](https://www.kaggle.com/code/shadabhussain/cifar-10-cnn-using-pytorch?scriptVersionId=67771835&cellId=73).\n",
        "\n",
        "<center>\n",
        "<img src=\"https://i.stack.imgur.com/1QU0m.png\" alt=\"graph\" style=\"width:450px;\"/>\n",
        "</center>\n",
        "\n",
        "\n"
      ]
    },
    {
      "cell_type": "markdown",
      "id": "WxXVE2XjjM4D",
      "metadata": {
        "id": "WxXVE2XjjM4D"
      },
      "source": [
        "## <ins>Conclusion</ins><a name=\"section11\"></a>\n",
        "\n",
        "Initially, we saw how a simple convolutional neural network could be implemented using PyTorch. Then, we made use of the advantages of GPU computation to optimise the model and increase the accuracy. Finally, we were able to see how ResNet – a much more sophisticated model – could be implemented to greatly increase the accuracy of image classification.\n",
        "\n",
        "We were able to show that, as the scale of matrices increases, the CPU finds the computation much more challenging than the GPU. Then, since CNNs use a great many matrix operations, we predicted that the training time of the CNN would be lower with the use of GPUs, because of their ability to parallelise many operations at the same time. This was indeed found to be the case. In the future, it would be interesting to explore if the use of multiple GPUs could further boost the performance of CNNs.\n",
        "\n",
        "Our notions about the increased computational performance of the CNN with GPU computation were ratified with empirical observations. The number of matrix operations involved in deep learning networks, such as ResNet, necessitate the use of GPU computation. We were able to then successfully train such a deep convolutional residual network to reach an accuracy of over 82%, beating the more 'off-the-shelf' implementation by a great margin.\n",
        "\n",
        "Furthermore, at the end, we were able to replicate a graph that, in theory, should be obtained as a classifier suffers from over-fitting. The experimental graph resembled the predicted graph well.\n",
        "\n",
        "Another avenue for future exploration could be to implement more sophisticated methods of parameter tuning, using deeper and more subtle techniques, as well as use state-of-the-art models in a field such as medical imaging, or autonomous driving. Such cutting-edge models are often the subject of the more advanced papers in this exciting field of deep learning.  "
      ]
    },
    {
      "cell_type": "markdown",
      "id": "94981f6c",
      "metadata": {
        "id": "94981f6c"
      },
      "source": [
        "## <ins>References</ins><a name=\"section12\"></a>\n",
        "\n",
        "$[1]$ Ghazal,  Mohammed (2018). Alzheimer rsquo s disease diagnostics by a 3D deeply supervised adaptable convolutional network.\n",
        "\n",
        "$[2]$ Kawahara,  Jeremy and Brown,  et al. (2017). BrainNetCNN: Convolutional neural networks for brain networks; towards predicting neurodevelopment. Elsevier BV.\n",
        "\n",
        "$[3]$ Agarap,  Abien Fred (2018). Deep Learning using Rectified Linear Units (ReLU).\n",
        "\n",
        "$[4]$ O'Shea,  Keiron and Nash,  Ryan (2015). An Introduction to Convolutional Neural Networks.\n",
        "\n",
        "$[5]$ Shannon, C. E. (1948). A Mathematical Theory of Communication. Bell   System Technical Journal.\n",
        "\n",
        "$[6]$ University of Illinois. CS412 Fall 2008.  Introduction to Data Warehousing and Data Mining (2.4.8 Kullback-Leibler Divergence).\n",
        "\n",
        "$[7]$ L. Bottou (2012). Stochastic gradient descent tricks. In Neural Net- works: Tricks of the Trade.\n",
        "\n",
        "$[8]$ Kingma,  Diederik P. and Ba,  Jimmy (2014). Adam: A Method for Stochastic Optimization.\n",
        "\n",
        "$[9]$ Qian, Ning (1999). On the momentum term in gradient descent learning algorithms. Elsevier BV.\n",
        "\n",
        "$[10]$ Dalca,  Adrian V. and Bouman,  Katherine L. et al. (2019). Medical Image Imputation From Image Collections. Institute of Electrical and Electronics Engineers (IEEE).\n",
        "\n",
        "$[11]$ Cohen,  Gregory and Afshar,  Saeed and Tapson,  Jonathan and van Schaik,  André (2017). EMNIST: an extension of MNIST to handwritten letters.\n",
        "\n",
        "$[12]$ Oancea,  Bogdan and Andrei,  Tudorel and Dragoescu,  Raluca Mariana (2014). GPGPU Computing.\n",
        "\n",
        "$[13]$ Understanding NVIDIA CUDA: The Basics of GPU Parallel Computing. https://www.turing.com/kb/understanding-nvidia-cuda#what-is-cuda?\n",
        "\n",
        "$[14]$ Nikolay Manchev (2022). GPU-accelerated Convolutional Neural Networks with PyTorch. domino.ai\n",
        "\n",
        "$[15]$ Yamashita,  Rikiya and Nishio, et al. (2018). Convolutional neural networks: an overview and application in radiology. Springer Science and Business Media LLC.\n",
        "\n",
        "$[16]$ Balestriero,  Randall and Baraniuk,  Richard G. (2022). Batch Normalization Explained.\n",
        "\n",
        "$[17]$ He,  Kaiming and Zhang,  Xiangyu and Ren,  Shaoqing and Sun,  Jian (2015). Deep Residual Learning for Image Recognition.\n",
        "\n"
      ]
    },
    {
      "cell_type": "markdown",
      "id": "9629e564",
      "metadata": {
        "id": "9629e564"
      },
      "source": [
        "## <ins>Appendix</ins><a name=\"section13\"></a>"
      ]
    },
    {
      "cell_type": "code",
      "execution_count": 64,
      "id": "f6b920f3",
      "metadata": {
        "id": "f6b920f3"
      },
      "outputs": [],
      "source": [
        "# Storing the results of ResNet run with 30 epochs (training of 451 seconds)\n",
        "\n",
        "results_ResNet = [{'val_loss': 1.1738336086273193,\n",
        "  'val_acc': 0.595703125,\n",
        "  'train_loss': 1.4118685722351074},\n",
        " {'val_loss': 0.8503761291503906,\n",
        "  'val_acc': 0.6949218511581421,\n",
        "  'train_loss': 1.0339841842651367},\n",
        " {'val_loss': 0.7366348505020142,\n",
        "  'val_acc': 0.7314453125,\n",
        "  'train_loss': 0.8667844533920288},\n",
        " {'val_loss': 0.8528968095779419,\n",
        "  'val_acc': 0.7064453363418579,\n",
        "  'train_loss': 0.7753389477729797},\n",
        " {'val_loss': 0.7047030925750732,\n",
        "  'val_acc': 0.752148449420929,\n",
        "  'train_loss': 0.7052079439163208},\n",
        " {'val_loss': 0.6760860681533813,\n",
        "  'val_acc': 0.761523425579071,\n",
        "  'train_loss': 0.6568374633789062},\n",
        " {'val_loss': 0.6313431859016418,\n",
        "  'val_acc': 0.78125,\n",
        "  'train_loss': 0.6048000454902649},\n",
        " {'val_loss': 0.5864030122756958,\n",
        "  'val_acc': 0.796093761920929,\n",
        "  'train_loss': 0.568634033203125},\n",
        " {'val_loss': 0.5983705520629883,\n",
        "  'val_acc': 0.7894531488418579,\n",
        "  'train_loss': 0.5335195660591125},\n",
        " {'val_loss': 0.6182528734207153,\n",
        "  'val_acc': 0.7886718511581421,\n",
        "  'train_loss': 0.5014123916625977},\n",
        " {'val_loss': 0.5665678381919861,\n",
        "  'val_acc': 0.804492175579071,\n",
        "  'train_loss': 0.4719301760196686},\n",
        " {'val_loss': 0.5824182033538818,\n",
        "  'val_acc': 0.8046875,\n",
        "  'train_loss': 0.44393500685691833},\n",
        " {'val_loss': 0.5307778716087341,\n",
        "  'val_acc': 0.829296886920929,\n",
        "  'train_loss': 0.42094457149505615},\n",
        " {'val_loss': 0.5653226971626282,\n",
        "  'val_acc': 0.814648449420929,\n",
        "  'train_loss': 0.39610767364501953},\n",
        " {'val_loss': 0.5508533716201782,\n",
        "  'val_acc': 0.8232421875,\n",
        "  'train_loss': 0.37676379084587097},\n",
        " {'val_loss': 0.5291057825088501,\n",
        "  'val_acc': 0.828320324420929,\n",
        "  'train_loss': 0.3627541959285736},\n",
        " {'val_loss': 0.5468037724494934,\n",
        "  'val_acc': 0.823046863079071,\n",
        "  'train_loss': 0.33803510665893555},\n",
        " {'val_loss': 0.5119414925575256,\n",
        "  'val_acc': 0.833984375,\n",
        "  'train_loss': 0.3238164782524109},\n",
        " {'val_loss': 0.5716387033462524,\n",
        "  'val_acc': 0.8218749761581421,\n",
        "  'train_loss': 0.3033255636692047},\n",
        " {'val_loss': 0.5671338438987732,\n",
        "  'val_acc': 0.8267577886581421,\n",
        "  'train_loss': 0.29927435517311096},\n",
        " {'val_loss': 0.5400354266166687,\n",
        "  'val_acc': 0.8310546875,\n",
        "  'train_loss': 0.27967146039009094},\n",
        " {'val_loss': 0.5239763259887695,\n",
        "  'val_acc': 0.8421875238418579,\n",
        "  'train_loss': 0.26642417907714844},\n",
        " {'val_loss': 0.5128991007804871,\n",
        "  'val_acc': 0.8412109613418579,\n",
        "  'train_loss': 0.2581913471221924},\n",
        " {'val_loss': 0.5635442137718201,\n",
        "  'val_acc': 0.8291015625,\n",
        "  'train_loss': 0.24669302999973297},\n",
        " {'val_loss': 0.5388285517692566,\n",
        "  'val_acc': 0.834765613079071,\n",
        "  'train_loss': 0.23084819316864014},\n",
        " {'val_loss': 0.5586759448051453,\n",
        "  'val_acc': 0.8404296636581421,\n",
        "  'train_loss': 0.22232389450073242},\n",
        " {'val_loss': 0.5649061799049377,\n",
        "  'val_acc': 0.831835925579071,\n",
        "  'train_loss': 0.21633465588092804},\n",
        " {'val_loss': 0.5578263401985168,\n",
        "  'val_acc': 0.837695300579071,\n",
        "  'train_loss': 0.2080903947353363},\n",
        " {'val_loss': 0.6362513899803162,\n",
        "  'val_acc': 0.826171875,\n",
        "  'train_loss': 0.20147116482257843},\n",
        " {'val_loss': 0.5746090412139893,\n",
        "  'val_acc': 0.8345702886581421,\n",
        "  'train_loss': 0.19216613471508026}]"
      ]
    },
    {
      "cell_type": "code",
      "execution_count": 65,
      "id": "4d3c1077",
      "metadata": {
        "id": "4d3c1077",
        "colab": {
          "base_uri": "https://localhost:8080/"
        },
        "outputId": "cf5d2c35-8603-4e7f-8b0b-e0edee3dfba7"
      },
      "outputs": [
        {
          "output_type": "stream",
          "name": "stdout",
          "text": [
            "Total runtime: 1269.6312437057495 seconds\n"
          ]
        }
      ],
      "source": [
        "end_time = time.time()\n",
        "print(f'Total runtime: {end_time - start_time} seconds')"
      ]
    },
    {
      "cell_type": "code",
      "execution_count": 65,
      "id": "66bc1bfc",
      "metadata": {
        "id": "66bc1bfc"
      },
      "outputs": [],
      "source": []
    }
  ],
  "metadata": {
    "accelerator": "GPU",
    "colab": {
      "gpuType": "V100",
      "machine_shape": "hm",
      "provenance": []
    },
    "kernelspec": {
      "display_name": "Python 3 (ipykernel)",
      "language": "python",
      "name": "python3"
    },
    "language_info": {
      "codemirror_mode": {
        "name": "ipython",
        "version": 3
      },
      "file_extension": ".py",
      "mimetype": "text/x-python",
      "name": "python",
      "nbconvert_exporter": "python",
      "pygments_lexer": "ipython3",
      "version": "3.11.5"
    }
  },
  "nbformat": 4,
  "nbformat_minor": 5
}